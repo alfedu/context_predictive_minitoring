{
 "cells": [
  {
   "cell_type": "markdown",
   "metadata": {},
   "source": [
    "# Loads the dataset"
   ]
  },
  {
   "cell_type": "code",
   "execution_count": 30,
   "metadata": {},
   "outputs": [
    {
     "output_type": "stream",
     "name": "stdout",
     "text": "(36520, 14)\n"
    },
    {
     "output_type": "execute_result",
     "data": {
      "text/plain": "   id_event                                    article_subject  id_case  \\\n0    769808  Alerta do Backup Exec: A tarefa foi concluída ...   241891   \n1    769809  Alerta do Backup Exec: Tarefa bem-sucedida (Se...   241892   \n2    769810  Alerta do Backup Exec: Tarefa bem-sucedida (Se...   241893   \n\n                                        ticket_title  ticket_user  \\\n0  Alerta do Backup Exec: A tarefa foi concluída ...            1   \n1  Alerta do Backup Exec: Tarefa bem-sucedida (Se...            1   \n2  Alerta do Backup Exec: Tarefa bem-sucedida (Se...            1   \n\n        ticket_state customer_id  article_create_time   ticket_create_time  \\\n0  closed successful         FTR  2016-01-01 00:15:12  2016-01-01 00:15:11   \n1  closed successful   SOLOTESTE  2016-01-01 00:20:15  2016-01-01 00:20:14   \n2  closed successful    TRANSVIP  2016-01-01 00:30:08  2016-01-01 00:30:08   \n\n   diff  owner_id  priority    ticket_history_type  \\\n0     1         1  3 normal  SendAgentNotification   \n1     1         1  3 normal  SendAgentNotification   \n2     0         1  3 normal  SendAgentNotification   \n\n                           a_from  \n0  Suporte - FTR <cid@ftr.com.br>  \n1    <soloteste@soloteste.com.br>  \n2         <tmt@transvipbr.com.br>  ",
      "text/html": "<div>\n<style scoped>\n    .dataframe tbody tr th:only-of-type {\n        vertical-align: middle;\n    }\n\n    .dataframe tbody tr th {\n        vertical-align: top;\n    }\n\n    .dataframe thead th {\n        text-align: right;\n    }\n</style>\n<table border=\"1\" class=\"dataframe\">\n  <thead>\n    <tr style=\"text-align: right;\">\n      <th></th>\n      <th>id_event</th>\n      <th>article_subject</th>\n      <th>id_case</th>\n      <th>ticket_title</th>\n      <th>ticket_user</th>\n      <th>ticket_state</th>\n      <th>customer_id</th>\n      <th>article_create_time</th>\n      <th>ticket_create_time</th>\n      <th>diff</th>\n      <th>owner_id</th>\n      <th>priority</th>\n      <th>ticket_history_type</th>\n      <th>a_from</th>\n    </tr>\n  </thead>\n  <tbody>\n    <tr>\n      <th>0</th>\n      <td>769808</td>\n      <td>Alerta do Backup Exec: A tarefa foi concluída ...</td>\n      <td>241891</td>\n      <td>Alerta do Backup Exec: A tarefa foi concluída ...</td>\n      <td>1</td>\n      <td>closed successful</td>\n      <td>FTR</td>\n      <td>2016-01-01 00:15:12</td>\n      <td>2016-01-01 00:15:11</td>\n      <td>1</td>\n      <td>1</td>\n      <td>3 normal</td>\n      <td>SendAgentNotification</td>\n      <td>Suporte - FTR &lt;cid@ftr.com.br&gt;</td>\n    </tr>\n    <tr>\n      <th>1</th>\n      <td>769809</td>\n      <td>Alerta do Backup Exec: Tarefa bem-sucedida (Se...</td>\n      <td>241892</td>\n      <td>Alerta do Backup Exec: Tarefa bem-sucedida (Se...</td>\n      <td>1</td>\n      <td>closed successful</td>\n      <td>SOLOTESTE</td>\n      <td>2016-01-01 00:20:15</td>\n      <td>2016-01-01 00:20:14</td>\n      <td>1</td>\n      <td>1</td>\n      <td>3 normal</td>\n      <td>SendAgentNotification</td>\n      <td>&lt;soloteste@soloteste.com.br&gt;</td>\n    </tr>\n    <tr>\n      <th>2</th>\n      <td>769810</td>\n      <td>Alerta do Backup Exec: Tarefa bem-sucedida (Se...</td>\n      <td>241893</td>\n      <td>Alerta do Backup Exec: Tarefa bem-sucedida (Se...</td>\n      <td>1</td>\n      <td>closed successful</td>\n      <td>TRANSVIP</td>\n      <td>2016-01-01 00:30:08</td>\n      <td>2016-01-01 00:30:08</td>\n      <td>0</td>\n      <td>1</td>\n      <td>3 normal</td>\n      <td>SendAgentNotification</td>\n      <td>&lt;tmt@transvipbr.com.br&gt;</td>\n    </tr>\n  </tbody>\n</table>\n</div>"
     },
     "metadata": {},
     "execution_count": 30
    }
   ],
   "source": [
    "import pandas as pd\n",
    "import numpy as np\n",
    "\n",
    "output_2Y = pd.read_csv('techmaster.csv')\n",
    "print(output_2Y.shape)\n",
    "output_2Y.head(3)"
   ]
  },
  {
   "cell_type": "code",
   "execution_count": 31,
   "metadata": {},
   "outputs": [
    {
     "output_type": "execute_result",
     "data": {
      "text/plain": "23616"
     },
     "metadata": {},
     "execution_count": 31
    }
   ],
   "source": [
    "len(output_2Y['id_event'].unique())"
   ]
  },
  {
   "cell_type": "code",
   "execution_count": 32,
   "metadata": {},
   "outputs": [
    {
     "output_type": "execute_result",
     "data": {
      "text/plain": "1256"
     },
     "metadata": {},
     "execution_count": 32
    }
   ],
   "source": [
    "len(output_2Y['a_from'].unique())"
   ]
  },
  {
   "cell_type": "code",
   "execution_count": 33,
   "metadata": {},
   "outputs": [
    {
     "output_type": "execute_result",
     "data": {
      "text/plain": "    id_event                                    article_subject  id_case  \\\n0     769808  Alerta do Backup Exec: A tarefa foi concluída ...   241891   \n1     769809  Alerta do Backup Exec: Tarefa bem-sucedida (Se...   241892   \n2     769810  Alerta do Backup Exec: Tarefa bem-sucedida (Se...   241893   \n3     769811  Alerta do Backup Exec: Tarefa bem-sucedida (Se...   241894   \n4     769812  Alerta do Backup Exec: Tarefa bem-sucedida (Se...   241895   \n5     769813  Alerta do Backup Exec: Tarefa bem-sucedida (Se...   241896   \n6     769815  Backup Exec Alert: Job Success (Server: CATISA...   241898   \n7     769816  [AGUAS.PROXY3] PROBLEM: Squid: Process not run...   241899   \n8     769817  Re: [Chamado#2016010110222698] [AGUAS.PROXY3] ...   241899   \n9     769818  [HAYASA.FWNITEROI] PROBLEM: Contingencia Ativa...   241900   \n10    769819  Re: [Chamado#2016010110222699] [HAYASA.FWNITER...   241900   \n11    769820  [AGUAS.PROXY5] PROBLEM: Squid: Process not run...   241901   \n12    769821  Re: [Chamado#2016010110222700] [AGUAS.PROXY5] ...   241901   \n13    769822  [AGUAS.PROXY5] PROBLEM: Squid: Process not run...   241902   \n14    769823  Re: [Chamado#2016010110222701] [AGUAS.PROXY5] ...   241902   \n\n                                         ticket_title  ticket_user  \\\n0   Alerta do Backup Exec: A tarefa foi concluída ...            1   \n1   Alerta do Backup Exec: Tarefa bem-sucedida (Se...            1   \n2   Alerta do Backup Exec: Tarefa bem-sucedida (Se...            1   \n3   Alerta do Backup Exec: Tarefa bem-sucedida (Se...            1   \n4   Alerta do Backup Exec: Tarefa bem-sucedida (Se...            1   \n5   Alerta do Backup Exec: Tarefa bem-sucedida (Se...            1   \n6   Backup Exec Alert: Job Success (Server: CATISA...            1   \n7   [AGUAS.PROXY3] PROBLEM: Squid: Process not run...            1   \n8   [AGUAS.PROXY3] PROBLEM: Squid: Process not run...            1   \n9   [HAYASA.FWNITEROI] PROBLEM: Contingencia Ativa...            1   \n10  [HAYASA.FWNITEROI] PROBLEM: Contingencia Ativa...            1   \n11  [AGUAS.PROXY5] PROBLEM: Squid: Process not run...            1   \n12  [AGUAS.PROXY5] PROBLEM: Squid: Process not run...            1   \n13  [AGUAS.PROXY5] PROBLEM: Squid: Process not run...            1   \n14  [AGUAS.PROXY5] PROBLEM: Squid: Process not run...            1   \n\n         ticket_state                          customer_id  \\\n0   closed successful                                  FTR   \n1   closed successful                            SOLOTESTE   \n2   closed successful                             TRANSVIP   \n3   closed successful                             TRANSVIP   \n4   closed successful  backupexec@zimbra.techmaster.com.br   \n5   closed successful  backupexec@zimbra.techmaster.com.br   \n6   closed successful                               CATISA   \n7   closed successful                                AGUAS   \n8   closed successful                                AGUAS   \n9   closed successful                               HAYASA   \n10  closed successful                               HAYASA   \n11  closed successful                                AGUAS   \n12  closed successful                                AGUAS   \n13  closed successful                                AGUAS   \n14  closed successful                                AGUAS   \n\n    article_create_time   ticket_create_time  diff  owner_id  priority  \\\n0   2016-01-01 00:15:12  2016-01-01 00:15:11     1         1  3 normal   \n1   2016-01-01 00:20:15  2016-01-01 00:20:14     1         1  3 normal   \n2   2016-01-01 00:30:08  2016-01-01 00:30:08     0         1  3 normal   \n3   2016-01-01 00:30:10  2016-01-01 00:30:09     1         1  3 normal   \n4   2016-01-01 00:45:09  2016-01-01 00:45:09     0         1  3 normal   \n5   2016-01-01 00:45:10  2016-01-01 00:45:10     0         1  3 normal   \n6   2016-01-01 01:30:07  2016-01-01 01:30:07     0         1  3 normal   \n7   2016-01-01 02:40:09  2016-01-01 02:40:09     0         1    4 alta   \n8   2016-01-01 02:45:07  2016-01-01 02:40:09   298         1    4 alta   \n9   2016-01-01 02:50:05  2016-01-01 02:50:04     1         1    4 alta   \n10  2016-01-01 02:50:07  2016-01-01 02:50:04     3         1    4 alta   \n11  2016-01-01 03:05:05  2016-01-01 03:05:05     0         1    4 alta   \n12  2016-01-01 03:05:08  2016-01-01 03:05:05     3         1    4 alta   \n13  2016-01-01 03:05:11  2016-01-01 03:05:10     1         1    4 alta   \n14  2016-01-01 03:10:07  2016-01-01 03:05:10   297         1    4 alta   \n\n      ticket_history_type                                             a_from  \n0   SendAgentNotification                     Suporte - FTR <cid@ftr.com.br>  \n1   SendAgentNotification                       <soloteste@soloteste.com.br>  \n2   SendAgentNotification                            <tmt@transvipbr.com.br>  \n3   SendAgentNotification                            <tmt@transvipbr.com.br>  \n4   SendAgentNotification  Backup Exec Techmaster <backupexec@zimbra.tech...  \n5   SendAgentNotification  Backup Exec Techmaster <backupexec@zimbra.tech...  \n6   SendAgentNotification          Backup Catisa <suporte@disacatisa.com.br>  \n7   SendAgentNotification                   <aguas@zabbix.techmaster.com.br>  \n8   SendAgentNotification                   <aguas@zabbix.techmaster.com.br>  \n9   SendAgentNotification                  <hayasa@zabbix.techmaster.com.br>  \n10  SendAgentNotification                  <hayasa@zabbix.techmaster.com.br>  \n11  SendAgentNotification                   <aguas@zabbix.techmaster.com.br>  \n12  SendAgentNotification                   <aguas@zabbix.techmaster.com.br>  \n13  SendAgentNotification                   <aguas@zabbix.techmaster.com.br>  \n14  SendAgentNotification                   <aguas@zabbix.techmaster.com.br>  ",
      "text/html": "<div>\n<style scoped>\n    .dataframe tbody tr th:only-of-type {\n        vertical-align: middle;\n    }\n\n    .dataframe tbody tr th {\n        vertical-align: top;\n    }\n\n    .dataframe thead th {\n        text-align: right;\n    }\n</style>\n<table border=\"1\" class=\"dataframe\">\n  <thead>\n    <tr style=\"text-align: right;\">\n      <th></th>\n      <th>id_event</th>\n      <th>article_subject</th>\n      <th>id_case</th>\n      <th>ticket_title</th>\n      <th>ticket_user</th>\n      <th>ticket_state</th>\n      <th>customer_id</th>\n      <th>article_create_time</th>\n      <th>ticket_create_time</th>\n      <th>diff</th>\n      <th>owner_id</th>\n      <th>priority</th>\n      <th>ticket_history_type</th>\n      <th>a_from</th>\n    </tr>\n  </thead>\n  <tbody>\n    <tr>\n      <th>0</th>\n      <td>769808</td>\n      <td>Alerta do Backup Exec: A tarefa foi concluída ...</td>\n      <td>241891</td>\n      <td>Alerta do Backup Exec: A tarefa foi concluída ...</td>\n      <td>1</td>\n      <td>closed successful</td>\n      <td>FTR</td>\n      <td>2016-01-01 00:15:12</td>\n      <td>2016-01-01 00:15:11</td>\n      <td>1</td>\n      <td>1</td>\n      <td>3 normal</td>\n      <td>SendAgentNotification</td>\n      <td>Suporte - FTR &lt;cid@ftr.com.br&gt;</td>\n    </tr>\n    <tr>\n      <th>1</th>\n      <td>769809</td>\n      <td>Alerta do Backup Exec: Tarefa bem-sucedida (Se...</td>\n      <td>241892</td>\n      <td>Alerta do Backup Exec: Tarefa bem-sucedida (Se...</td>\n      <td>1</td>\n      <td>closed successful</td>\n      <td>SOLOTESTE</td>\n      <td>2016-01-01 00:20:15</td>\n      <td>2016-01-01 00:20:14</td>\n      <td>1</td>\n      <td>1</td>\n      <td>3 normal</td>\n      <td>SendAgentNotification</td>\n      <td>&lt;soloteste@soloteste.com.br&gt;</td>\n    </tr>\n    <tr>\n      <th>2</th>\n      <td>769810</td>\n      <td>Alerta do Backup Exec: Tarefa bem-sucedida (Se...</td>\n      <td>241893</td>\n      <td>Alerta do Backup Exec: Tarefa bem-sucedida (Se...</td>\n      <td>1</td>\n      <td>closed successful</td>\n      <td>TRANSVIP</td>\n      <td>2016-01-01 00:30:08</td>\n      <td>2016-01-01 00:30:08</td>\n      <td>0</td>\n      <td>1</td>\n      <td>3 normal</td>\n      <td>SendAgentNotification</td>\n      <td>&lt;tmt@transvipbr.com.br&gt;</td>\n    </tr>\n    <tr>\n      <th>3</th>\n      <td>769811</td>\n      <td>Alerta do Backup Exec: Tarefa bem-sucedida (Se...</td>\n      <td>241894</td>\n      <td>Alerta do Backup Exec: Tarefa bem-sucedida (Se...</td>\n      <td>1</td>\n      <td>closed successful</td>\n      <td>TRANSVIP</td>\n      <td>2016-01-01 00:30:10</td>\n      <td>2016-01-01 00:30:09</td>\n      <td>1</td>\n      <td>1</td>\n      <td>3 normal</td>\n      <td>SendAgentNotification</td>\n      <td>&lt;tmt@transvipbr.com.br&gt;</td>\n    </tr>\n    <tr>\n      <th>4</th>\n      <td>769812</td>\n      <td>Alerta do Backup Exec: Tarefa bem-sucedida (Se...</td>\n      <td>241895</td>\n      <td>Alerta do Backup Exec: Tarefa bem-sucedida (Se...</td>\n      <td>1</td>\n      <td>closed successful</td>\n      <td>backupexec@zimbra.techmaster.com.br</td>\n      <td>2016-01-01 00:45:09</td>\n      <td>2016-01-01 00:45:09</td>\n      <td>0</td>\n      <td>1</td>\n      <td>3 normal</td>\n      <td>SendAgentNotification</td>\n      <td>Backup Exec Techmaster &lt;backupexec@zimbra.tech...</td>\n    </tr>\n    <tr>\n      <th>5</th>\n      <td>769813</td>\n      <td>Alerta do Backup Exec: Tarefa bem-sucedida (Se...</td>\n      <td>241896</td>\n      <td>Alerta do Backup Exec: Tarefa bem-sucedida (Se...</td>\n      <td>1</td>\n      <td>closed successful</td>\n      <td>backupexec@zimbra.techmaster.com.br</td>\n      <td>2016-01-01 00:45:10</td>\n      <td>2016-01-01 00:45:10</td>\n      <td>0</td>\n      <td>1</td>\n      <td>3 normal</td>\n      <td>SendAgentNotification</td>\n      <td>Backup Exec Techmaster &lt;backupexec@zimbra.tech...</td>\n    </tr>\n    <tr>\n      <th>6</th>\n      <td>769815</td>\n      <td>Backup Exec Alert: Job Success (Server: CATISA...</td>\n      <td>241898</td>\n      <td>Backup Exec Alert: Job Success (Server: CATISA...</td>\n      <td>1</td>\n      <td>closed successful</td>\n      <td>CATISA</td>\n      <td>2016-01-01 01:30:07</td>\n      <td>2016-01-01 01:30:07</td>\n      <td>0</td>\n      <td>1</td>\n      <td>3 normal</td>\n      <td>SendAgentNotification</td>\n      <td>Backup Catisa &lt;suporte@disacatisa.com.br&gt;</td>\n    </tr>\n    <tr>\n      <th>7</th>\n      <td>769816</td>\n      <td>[AGUAS.PROXY3] PROBLEM: Squid: Process not run...</td>\n      <td>241899</td>\n      <td>[AGUAS.PROXY3] PROBLEM: Squid: Process not run...</td>\n      <td>1</td>\n      <td>closed successful</td>\n      <td>AGUAS</td>\n      <td>2016-01-01 02:40:09</td>\n      <td>2016-01-01 02:40:09</td>\n      <td>0</td>\n      <td>1</td>\n      <td>4 alta</td>\n      <td>SendAgentNotification</td>\n      <td>&lt;aguas@zabbix.techmaster.com.br&gt;</td>\n    </tr>\n    <tr>\n      <th>8</th>\n      <td>769817</td>\n      <td>Re: [Chamado#2016010110222698] [AGUAS.PROXY3] ...</td>\n      <td>241899</td>\n      <td>[AGUAS.PROXY3] PROBLEM: Squid: Process not run...</td>\n      <td>1</td>\n      <td>closed successful</td>\n      <td>AGUAS</td>\n      <td>2016-01-01 02:45:07</td>\n      <td>2016-01-01 02:40:09</td>\n      <td>298</td>\n      <td>1</td>\n      <td>4 alta</td>\n      <td>SendAgentNotification</td>\n      <td>&lt;aguas@zabbix.techmaster.com.br&gt;</td>\n    </tr>\n    <tr>\n      <th>9</th>\n      <td>769818</td>\n      <td>[HAYASA.FWNITEROI] PROBLEM: Contingencia Ativa...</td>\n      <td>241900</td>\n      <td>[HAYASA.FWNITEROI] PROBLEM: Contingencia Ativa...</td>\n      <td>1</td>\n      <td>closed successful</td>\n      <td>HAYASA</td>\n      <td>2016-01-01 02:50:05</td>\n      <td>2016-01-01 02:50:04</td>\n      <td>1</td>\n      <td>1</td>\n      <td>4 alta</td>\n      <td>SendAgentNotification</td>\n      <td>&lt;hayasa@zabbix.techmaster.com.br&gt;</td>\n    </tr>\n    <tr>\n      <th>10</th>\n      <td>769819</td>\n      <td>Re: [Chamado#2016010110222699] [HAYASA.FWNITER...</td>\n      <td>241900</td>\n      <td>[HAYASA.FWNITEROI] PROBLEM: Contingencia Ativa...</td>\n      <td>1</td>\n      <td>closed successful</td>\n      <td>HAYASA</td>\n      <td>2016-01-01 02:50:07</td>\n      <td>2016-01-01 02:50:04</td>\n      <td>3</td>\n      <td>1</td>\n      <td>4 alta</td>\n      <td>SendAgentNotification</td>\n      <td>&lt;hayasa@zabbix.techmaster.com.br&gt;</td>\n    </tr>\n    <tr>\n      <th>11</th>\n      <td>769820</td>\n      <td>[AGUAS.PROXY5] PROBLEM: Squid: Process not run...</td>\n      <td>241901</td>\n      <td>[AGUAS.PROXY5] PROBLEM: Squid: Process not run...</td>\n      <td>1</td>\n      <td>closed successful</td>\n      <td>AGUAS</td>\n      <td>2016-01-01 03:05:05</td>\n      <td>2016-01-01 03:05:05</td>\n      <td>0</td>\n      <td>1</td>\n      <td>4 alta</td>\n      <td>SendAgentNotification</td>\n      <td>&lt;aguas@zabbix.techmaster.com.br&gt;</td>\n    </tr>\n    <tr>\n      <th>12</th>\n      <td>769821</td>\n      <td>Re: [Chamado#2016010110222700] [AGUAS.PROXY5] ...</td>\n      <td>241901</td>\n      <td>[AGUAS.PROXY5] PROBLEM: Squid: Process not run...</td>\n      <td>1</td>\n      <td>closed successful</td>\n      <td>AGUAS</td>\n      <td>2016-01-01 03:05:08</td>\n      <td>2016-01-01 03:05:05</td>\n      <td>3</td>\n      <td>1</td>\n      <td>4 alta</td>\n      <td>SendAgentNotification</td>\n      <td>&lt;aguas@zabbix.techmaster.com.br&gt;</td>\n    </tr>\n    <tr>\n      <th>13</th>\n      <td>769822</td>\n      <td>[AGUAS.PROXY5] PROBLEM: Squid: Process not run...</td>\n      <td>241902</td>\n      <td>[AGUAS.PROXY5] PROBLEM: Squid: Process not run...</td>\n      <td>1</td>\n      <td>closed successful</td>\n      <td>AGUAS</td>\n      <td>2016-01-01 03:05:11</td>\n      <td>2016-01-01 03:05:10</td>\n      <td>1</td>\n      <td>1</td>\n      <td>4 alta</td>\n      <td>SendAgentNotification</td>\n      <td>&lt;aguas@zabbix.techmaster.com.br&gt;</td>\n    </tr>\n    <tr>\n      <th>14</th>\n      <td>769823</td>\n      <td>Re: [Chamado#2016010110222701] [AGUAS.PROXY5] ...</td>\n      <td>241902</td>\n      <td>[AGUAS.PROXY5] PROBLEM: Squid: Process not run...</td>\n      <td>1</td>\n      <td>closed successful</td>\n      <td>AGUAS</td>\n      <td>2016-01-01 03:10:07</td>\n      <td>2016-01-01 03:05:10</td>\n      <td>297</td>\n      <td>1</td>\n      <td>4 alta</td>\n      <td>SendAgentNotification</td>\n      <td>&lt;aguas@zabbix.techmaster.com.br&gt;</td>\n    </tr>\n  </tbody>\n</table>\n</div>"
     },
     "metadata": {},
     "execution_count": 33
    }
   ],
   "source": [
    "output = output_2Y.sort_values(['id_case', 'id_event']).reset_index(drop=True)\n",
    "output.head(15)"
   ]
  },
  {
   "cell_type": "code",
   "execution_count": 34,
   "metadata": {},
   "outputs": [],
   "source": [
    "output_spu = output.copy()"
   ]
  },
  {
   "cell_type": "code",
   "execution_count": 35,
   "metadata": {},
   "outputs": [
    {
     "output_type": "execute_result",
     "data": {
      "text/plain": "(36520, 14)"
     },
     "metadata": {},
     "execution_count": 35
    }
   ],
   "source": [
    "output_spu.shape"
   ]
  },
  {
   "cell_type": "code",
   "execution_count": 36,
   "metadata": {},
   "outputs": [
    {
     "output_type": "execute_result",
     "data": {
      "text/plain": "23616"
     },
     "metadata": {},
     "execution_count": 36
    }
   ],
   "source": [
    "len(output_spu['id_event'].unique())"
   ]
  },
  {
   "cell_type": "code",
   "execution_count": 37,
   "metadata": {},
   "outputs": [
    {
     "output_type": "execute_result",
     "data": {
      "text/plain": "id_event                int64\narticle_subject        object\nid_case                 int64\nticket_title           object\nticket_user             int64\nticket_state           object\ncustomer_id            object\narticle_create_time    object\nticket_create_time     object\ndiff                    int64\nowner_id                int64\npriority               object\nticket_history_type    object\na_from                 object\ndtype: object"
     },
     "metadata": {},
     "execution_count": 37
    }
   ],
   "source": [
    "output_spu.dtypes"
   ]
  },
  {
   "cell_type": "markdown",
   "metadata": {},
   "source": [
    "# Preprocess and encode"
   ]
  },
  {
   "cell_type": "code",
   "execution_count": 38,
   "metadata": {},
   "outputs": [
    {
     "output_type": "stream",
     "name": "stdout",
     "text": "Found False\n"
    }
   ],
   "source": [
    "import EventLog as el\n",
    "spulog = el.EventLog(output_spu, 'id_case', 'article_create_time')"
   ]
  },
  {
   "cell_type": "code",
   "execution_count": 39,
   "metadata": {},
   "outputs": [
    {
     "output_type": "execute_result",
     "data": {
      "text/plain": "['ticket_user', 'ticket_state', 'ticket_create_time']"
     },
     "metadata": {},
     "execution_count": 39
    }
   ],
   "source": [
    "spulog.static_columns()"
   ]
  },
  {
   "cell_type": "code",
   "execution_count": 40,
   "metadata": {},
   "outputs": [
    {
     "output_type": "execute_result",
     "data": {
      "text/plain": "            id_event        id_case  ticket_user          diff      owner_id\ncount   36520.000000   36520.000000      36520.0  3.652000e+04  36520.000000\nmean   782003.838007  245154.666922          1.0  7.614203e+04     63.220920\nstd      7022.392959    1972.974028          0.0  3.279315e+05     53.931508\nmin    737370.000000  241891.000000          1.0 -6.729004e+06      1.000000\n25%    775978.750000  243423.000000          1.0  1.000000e+00      1.000000\n50%    781954.000000  245046.000000          1.0  2.528000e+03     61.000000\n75%    788157.250000  246928.250000          1.0  6.392300e+04    111.000000\nmax    794054.000000  248667.000000          1.0  3.533568e+06    149.000000",
      "text/html": "<div>\n<style scoped>\n    .dataframe tbody tr th:only-of-type {\n        vertical-align: middle;\n    }\n\n    .dataframe tbody tr th {\n        vertical-align: top;\n    }\n\n    .dataframe thead th {\n        text-align: right;\n    }\n</style>\n<table border=\"1\" class=\"dataframe\">\n  <thead>\n    <tr style=\"text-align: right;\">\n      <th></th>\n      <th>id_event</th>\n      <th>id_case</th>\n      <th>ticket_user</th>\n      <th>diff</th>\n      <th>owner_id</th>\n    </tr>\n  </thead>\n  <tbody>\n    <tr>\n      <th>count</th>\n      <td>36520.000000</td>\n      <td>36520.000000</td>\n      <td>36520.0</td>\n      <td>3.652000e+04</td>\n      <td>36520.000000</td>\n    </tr>\n    <tr>\n      <th>mean</th>\n      <td>782003.838007</td>\n      <td>245154.666922</td>\n      <td>1.0</td>\n      <td>7.614203e+04</td>\n      <td>63.220920</td>\n    </tr>\n    <tr>\n      <th>std</th>\n      <td>7022.392959</td>\n      <td>1972.974028</td>\n      <td>0.0</td>\n      <td>3.279315e+05</td>\n      <td>53.931508</td>\n    </tr>\n    <tr>\n      <th>min</th>\n      <td>737370.000000</td>\n      <td>241891.000000</td>\n      <td>1.0</td>\n      <td>-6.729004e+06</td>\n      <td>1.000000</td>\n    </tr>\n    <tr>\n      <th>25%</th>\n      <td>775978.750000</td>\n      <td>243423.000000</td>\n      <td>1.0</td>\n      <td>1.000000e+00</td>\n      <td>1.000000</td>\n    </tr>\n    <tr>\n      <th>50%</th>\n      <td>781954.000000</td>\n      <td>245046.000000</td>\n      <td>1.0</td>\n      <td>2.528000e+03</td>\n      <td>61.000000</td>\n    </tr>\n    <tr>\n      <th>75%</th>\n      <td>788157.250000</td>\n      <td>246928.250000</td>\n      <td>1.0</td>\n      <td>6.392300e+04</td>\n      <td>111.000000</td>\n    </tr>\n    <tr>\n      <th>max</th>\n      <td>794054.000000</td>\n      <td>248667.000000</td>\n      <td>1.0</td>\n      <td>3.533568e+06</td>\n      <td>149.000000</td>\n    </tr>\n  </tbody>\n</table>\n</div>"
     },
     "metadata": {},
     "execution_count": 40
    }
   ],
   "source": [
    "spulog.df.describe()"
   ]
  },
  {
   "cell_type": "code",
   "execution_count": 41,
   "metadata": {},
   "outputs": [],
   "source": [
    "#[np.unique(spulog.df[x]) for x in ['CANCELADA', 'RECLAMACION', 'SOPORTE', 'REAPERTURAINC']]"
   ]
  },
  {
   "cell_type": "code",
   "execution_count": 42,
   "metadata": {},
   "outputs": [
    {
     "output_type": "execute_result",
     "data": {
      "text/plain": "                  article_subject                           ticket_title  \\\ncount                       36510                                  36445   \nunique                      11462                                   3448   \ntop     Atualização Proprietário!  Voltalia - Solicitação de Atendimento   \nfreq                         3759                                    828   \n\n             ticket_state     customer_id   ticket_create_time  priority  \\\ncount               36520           36299                36520     36520   \nunique                  8             285                 6621         5   \ntop     closed successful  GRUPO_SANTIAGO  2016-02-11 10:29:08  3 normal   \nfreq                32679            4143                  256     19270   \n\n       ticket_history_type                                             a_from  \ncount                36520                                              35926  \nunique                  13                                               1255  \ntop               FollowUp  Equipe de Operação de Serviços <operacao@techm...  \nfreq                 12661                                              15464  ",
      "text/html": "<div>\n<style scoped>\n    .dataframe tbody tr th:only-of-type {\n        vertical-align: middle;\n    }\n\n    .dataframe tbody tr th {\n        vertical-align: top;\n    }\n\n    .dataframe thead th {\n        text-align: right;\n    }\n</style>\n<table border=\"1\" class=\"dataframe\">\n  <thead>\n    <tr style=\"text-align: right;\">\n      <th></th>\n      <th>article_subject</th>\n      <th>ticket_title</th>\n      <th>ticket_state</th>\n      <th>customer_id</th>\n      <th>ticket_create_time</th>\n      <th>priority</th>\n      <th>ticket_history_type</th>\n      <th>a_from</th>\n    </tr>\n  </thead>\n  <tbody>\n    <tr>\n      <th>count</th>\n      <td>36510</td>\n      <td>36445</td>\n      <td>36520</td>\n      <td>36299</td>\n      <td>36520</td>\n      <td>36520</td>\n      <td>36520</td>\n      <td>35926</td>\n    </tr>\n    <tr>\n      <th>unique</th>\n      <td>11462</td>\n      <td>3448</td>\n      <td>8</td>\n      <td>285</td>\n      <td>6621</td>\n      <td>5</td>\n      <td>13</td>\n      <td>1255</td>\n    </tr>\n    <tr>\n      <th>top</th>\n      <td>Atualização Proprietário!</td>\n      <td>Voltalia - Solicitação de Atendimento</td>\n      <td>closed successful</td>\n      <td>GRUPO_SANTIAGO</td>\n      <td>2016-02-11 10:29:08</td>\n      <td>3 normal</td>\n      <td>FollowUp</td>\n      <td>Equipe de Operação de Serviços &lt;operacao@techm...</td>\n    </tr>\n    <tr>\n      <th>freq</th>\n      <td>3759</td>\n      <td>828</td>\n      <td>32679</td>\n      <td>4143</td>\n      <td>256</td>\n      <td>19270</td>\n      <td>12661</td>\n      <td>15464</td>\n    </tr>\n  </tbody>\n</table>\n</div>"
     },
     "metadata": {},
     "execution_count": 42
    }
   ],
   "source": [
    "spulog.df.select_dtypes('object').describe()"
   ]
  },
  {
   "cell_type": "code",
   "execution_count": 43,
   "metadata": {},
   "outputs": [],
   "source": [
    "spulog.df['ticket_title'].fillna('0', inplace=True)\n",
    "spulog.df['article_subject'].fillna('0', inplace=True)\n",
    "spulog.df['ticket_state'].fillna('0', inplace=True)\n",
    "spulog.df['priority'].fillna('0', inplace=True)\n",
    "spulog.df['ticket_history_type'].fillna('0', inplace=True)\n",
    "spulog.df['a_from'].fillna('0', inplace=True)"
   ]
  },
  {
   "cell_type": "code",
   "execution_count": 44,
   "metadata": {},
   "outputs": [
    {
     "output_type": "execute_result",
     "data": {
      "text/plain": "96"
     },
     "metadata": {},
     "execution_count": 44
    }
   ],
   "source": [
    "np.sum((spulog.df['ticket_title'].value_counts()/len(spulog.df)*100) > 0.1)"
   ]
  },
  {
   "cell_type": "code",
   "execution_count": 45,
   "metadata": {},
   "outputs": [
    {
     "output_type": "execute_result",
     "data": {
      "text/plain": "['article_subject', 'ticket_title', 'a_from']"
     },
     "metadata": {},
     "execution_count": 45
    }
   ],
   "source": [
    "from sklearn.preprocessing import OneHotEncoder\n",
    "\n",
    "encoder = el.LogEncoder(transformers = [('static_drop', 'drop', ['ticket_create_time']),\n",
    "                                     ('static_keep', 'keep', ['id_case','ticket_user','diff']),\n",
    "                                     ('static_onehot', el.WrapperEncoder(spulog.id_column,OneHotEncoder(sparse=False)), ['ticket_state','priority','ticket_history_type']),\n",
    "                                     ('dynamic_drop', 'drop', ['customer_id','article_create_time']),\n",
    "                                     ('dynamic_keep', 'keep', ['id_event','owner_id']),\n",
    "                                     #('dynamic_freq', el.FrequencyEncoder(spulog.id_column), []),\n",
    "                                     ('timestamp', el.TimestampFeatures(spulog.id_column, ['event_order', 'time_from_start','elapsed_time_from_event','remaining_time']), [spulog.timestamp_column])])\n",
    "\n",
    "\n",
    "encoder.check_unused(spulog)"
   ]
  },
  {
   "cell_type": "code",
   "execution_count": 46,
   "metadata": {},
   "outputs": [
    {
     "output_type": "stream",
     "name": "stdout",
     "text": "Fitting static_drop\nFitting static_keep\nFitting static_onehot\nFitting dynamic_drop\nFitting dynamic_keep\nFitting timestamp\nTransforming static_drop\nTransforming static_keep\nTransforming static_onehot\nTransforming dynamic_drop\nTransforming dynamic_keep\nTransforming timestamp\n0       2016-01-01 00:15:12+00:00\n1       2016-01-01 00:20:15+00:00\n2       2016-01-01 00:30:08+00:00\n3       2016-01-01 00:30:10+00:00\n4       2016-01-01 00:45:09+00:00\n5       2016-01-01 00:45:10+00:00\n6       2016-01-01 01:30:07+00:00\n7       2016-01-01 02:45:07+00:00\n8       2016-01-01 02:45:07+00:00\n9       2016-01-01 02:50:07+00:00\n10      2016-01-01 02:50:07+00:00\n11      2016-01-01 03:05:08+00:00\n12      2016-01-01 03:05:08+00:00\n13      2016-01-01 03:10:07+00:00\n14      2016-01-01 03:10:07+00:00\n15      2016-01-01 03:40:08+00:00\n16      2016-01-01 03:40:08+00:00\n17      2016-01-04 08:56:41+00:00\n18      2016-01-04 08:56:29+00:00\n19      2016-01-04 08:56:11+00:00\n20      2016-01-01 05:40:08+00:00\n21      2016-01-01 05:40:09+00:00\n22      2016-01-01 08:15:09+00:00\n23      2016-01-01 11:25:04+00:00\n24      2016-01-01 11:25:04+00:00\n25      2016-01-02 07:15:04+00:00\n26      2016-01-02 07:15:04+00:00\n27      2016-01-02 07:15:04+00:00\n28      2016-01-01 16:50:09+00:00\n29      2016-01-01 16:50:09+00:00\n                   ...           \n36490   2016-02-19 21:20:09+00:00\n36491   2016-02-19 21:20:20+00:00\n36492   2016-02-19 22:25:08+00:00\n36493   2016-02-19 22:25:08+00:00\n36494   2016-02-19 22:25:08+00:00\n36495   2016-02-19 22:35:42+00:00\n36496   2016-02-19 22:35:42+00:00\n36497   2016-02-19 22:35:42+00:00\n36498   2016-02-19 22:35:42+00:00\n36499   2016-02-19 22:45:12+00:00\n36500   2016-02-19 23:10:13+00:00\n36501   2016-02-19 23:15:09+00:00\n36502   2016-02-20 00:35:22+00:00\n36503   2016-02-20 00:35:22+00:00\n36504   2016-02-20 00:35:26+00:00\n36505   2016-02-20 00:35:26+00:00\n36506   2016-02-20 00:35:39+00:00\n36507   2016-02-20 00:40:08+00:00\n36508   2016-02-20 00:40:08+00:00\n36509   2016-02-20 00:45:09+00:00\n36510   2016-02-20 00:45:09+00:00\n36511   2016-02-20 02:10:15+00:00\n36512   2016-02-20 02:10:18+00:00\n36513   2016-02-20 02:20:10+00:00\n36514   2016-02-20 03:15:16+00:00\n36515   2016-02-20 03:15:16+00:00\n36516   2016-02-20 03:25:15+00:00\n36517   2016-02-20 03:25:18+00:00\n36518   2016-02-20 04:10:27+00:00\n36519   2016-02-20 04:10:29+00:00\nName: article_create_time, Length: 36520, dtype: datetime64[ns, UTC]\n------\n0       2016-01-01 00:15:12+00:00\n1       2016-01-01 00:20:15+00:00\n2       2016-01-01 00:30:08+00:00\n3       2016-01-01 00:30:10+00:00\n4       2016-01-01 00:45:09+00:00\n5       2016-01-01 00:45:10+00:00\n6       2016-01-01 01:30:07+00:00\n7       2016-01-01 02:40:09+00:00\n8       2016-01-01 02:45:07+00:00\n9       2016-01-01 02:50:05+00:00\n10      2016-01-01 02:50:07+00:00\n11      2016-01-01 03:05:05+00:00\n12      2016-01-01 03:05:08+00:00\n13      2016-01-01 03:05:11+00:00\n14      2016-01-01 03:10:07+00:00\n15      2016-01-01 03:40:08+00:00\n16      2016-01-01 03:40:08+00:00\n17      2016-01-04 08:56:41+00:00\n18      2016-01-04 08:56:29+00:00\n19      2016-01-04 08:56:11+00:00\n20      2016-01-01 05:40:08+00:00\n21      2016-01-01 05:40:09+00:00\n22      2016-01-01 08:15:09+00:00\n23      2016-01-01 11:15:05+00:00\n24      2016-01-01 11:25:04+00:00\n25      2016-01-01 14:55:05+00:00\n26      2016-01-01 15:05:05+00:00\n27      2016-01-02 07:15:04+00:00\n28      2016-01-01 16:50:06+00:00\n29      2016-01-01 16:50:09+00:00\n                   ...           \n36490   2016-02-19 21:20:09+00:00\n36491   2016-02-19 21:20:20+00:00\n36492   2016-02-19 21:55:07+00:00\n36493   2016-02-19 22:05:08+00:00\n36494   2016-02-19 22:25:08+00:00\n36495   2016-02-19 22:26:21+00:00\n36496   2016-02-19 22:35:42+00:00\n36497   2016-02-19 22:35:42+00:00\n36498   2016-02-19 22:35:42+00:00\n36499   2016-02-19 22:45:12+00:00\n36500   2016-02-19 23:10:13+00:00\n36501   2016-02-19 23:15:09+00:00\n36502   2016-02-20 00:35:13+00:00\n36503   2016-02-20 00:35:22+00:00\n36504   2016-02-20 00:35:18+00:00\n36505   2016-02-20 00:35:26+00:00\n36506   2016-02-20 00:35:39+00:00\n36507   2016-02-20 00:40:08+00:00\n36508   2016-02-20 00:40:08+00:00\n36509   2016-02-20 00:45:09+00:00\n36510   2016-02-20 00:45:09+00:00\n36511   2016-02-20 02:10:15+00:00\n36512   2016-02-20 02:10:18+00:00\n36513   2016-02-20 02:20:10+00:00\n36514   2016-02-20 03:15:16+00:00\n36515   2016-02-20 03:15:16+00:00\n36516   2016-02-20 03:25:15+00:00\n36517   2016-02-20 03:25:18+00:00\n36518   2016-02-20 04:10:27+00:00\n36519   2016-02-20 04:10:29+00:00\nName: article_create_time, Length: 36520, dtype: datetime64[ns, UTC]\n"
    },
    {
     "output_type": "execute_result",
     "data": {
      "text/plain": "   id_case  ticket_user  diff  x0_Agendamento  x0_closed successful  \\\n0   241891            1     1             0.0                   1.0   \n\n   x0_closed with workaround  x0_merged  x0_new  x0_open  \\\n0                        0.0        0.0     0.0      0.0   \n\n   x0_pending auto close+  ...  x2_SendAnswer  x2_SendAutoReject  \\\n0                     0.0  ...            0.0                0.0   \n\n   x2_SendAutoReply  x2_Unlock  id_event  owner_id  \\\n0               0.0        0.0    769808         1   \n\n   event_order_article_create_time  time_from_start_article_create_time  \\\n0                                0                               0 days   \n\n   remaining_time_article_create_time  \\\n0                              0 days   \n\n   elapsed_time_from_event_article_create_time  \n0                                       0 days  \n\n[1 rows x 35 columns]",
      "text/html": "<div>\n<style scoped>\n    .dataframe tbody tr th:only-of-type {\n        vertical-align: middle;\n    }\n\n    .dataframe tbody tr th {\n        vertical-align: top;\n    }\n\n    .dataframe thead th {\n        text-align: right;\n    }\n</style>\n<table border=\"1\" class=\"dataframe\">\n  <thead>\n    <tr style=\"text-align: right;\">\n      <th></th>\n      <th>id_case</th>\n      <th>ticket_user</th>\n      <th>diff</th>\n      <th>x0_Agendamento</th>\n      <th>x0_closed successful</th>\n      <th>x0_closed with workaround</th>\n      <th>x0_merged</th>\n      <th>x0_new</th>\n      <th>x0_open</th>\n      <th>x0_pending auto close+</th>\n      <th>...</th>\n      <th>x2_SendAnswer</th>\n      <th>x2_SendAutoReject</th>\n      <th>x2_SendAutoReply</th>\n      <th>x2_Unlock</th>\n      <th>id_event</th>\n      <th>owner_id</th>\n      <th>event_order_article_create_time</th>\n      <th>time_from_start_article_create_time</th>\n      <th>remaining_time_article_create_time</th>\n      <th>elapsed_time_from_event_article_create_time</th>\n    </tr>\n  </thead>\n  <tbody>\n    <tr>\n      <th>0</th>\n      <td>241891</td>\n      <td>1</td>\n      <td>1</td>\n      <td>0.0</td>\n      <td>1.0</td>\n      <td>0.0</td>\n      <td>0.0</td>\n      <td>0.0</td>\n      <td>0.0</td>\n      <td>0.0</td>\n      <td>...</td>\n      <td>0.0</td>\n      <td>0.0</td>\n      <td>0.0</td>\n      <td>0.0</td>\n      <td>769808</td>\n      <td>1</td>\n      <td>0</td>\n      <td>0 days</td>\n      <td>0 days</td>\n      <td>0 days</td>\n    </tr>\n  </tbody>\n</table>\n<p>1 rows × 35 columns</p>\n</div>"
     },
     "metadata": {},
     "execution_count": 46
    }
   ],
   "source": [
    "dataset = encoder.fit_transform(spulog)\n",
    "dataset.head(1)"
   ]
  },
  {
   "cell_type": "code",
   "execution_count": 47,
   "metadata": {},
   "outputs": [
    {
     "output_type": "execute_result",
     "data": {
      "text/plain": "True"
     },
     "metadata": {},
     "execution_count": 47
    }
   ],
   "source": [
    "np.all(dataset.isnull().sum()==0)"
   ]
  },
  {
   "cell_type": "code",
   "execution_count": 48,
   "metadata": {
    "scrolled": false
   },
   "outputs": [
    {
     "output_type": "execute_result",
     "data": {
      "text/plain": "   0.0        0.0     0.0      0.0   \n36506                        0.0        0.0     1.0      0.0   \n36507                        0.0        0.0     1.0      0.0   \n36508                        0.0        0.0     1.0      0.0   \n36509                        0.0        0.0     1.0      0.0   \n36510                        0.0        0.0     1.0      0.0   \n36511                        0.0        0.0     0.0      0.0   \n36512                        0.0        0.0     0.0      0.0   \n36513                        0.0        0.0     0.0      0.0   \n36514                        0.0        0.0     1.0      0.0   \n36515                        0.0        0.0     1.0      0.0   \n36516                        0.0        0.0     0.0      0.0   \n36517                        0.0        0.0     0.0      0.0   \n36518                        0.0        0.0     0.0      0.0   \n36519                        0.0        0.0     0.0      0.0   \n\n       x0_pending auto close+  ...  x2_SendAnswer  x2_SendAutoReject  \\\n0                         0.0  ...            0.0                0.0   \n1                         0.0  ...            0.0                0.0   \n2                         0.0  ...            0.0                0.0   \n3                         0.0  ...            0.0                0.0   \n4                         0.0  ...            0.0                0.0   \n5                         0.0  ...            0.0                0.0   \n6                         0.0  ...            0.0                0.0   \n7                         0.0  ...            0.0                0.0   \n8                         0.0  ...            0.0                0.0   \n9                         0.0  ...            0.0                0.0   \n10                        0.0  ...            0.0                0.0   \n11                        0.0  ...            0.0                0.0   \n12                        0.0  ...            0.0                0.0   \n13                        0.0  ...            0.0                0.0   \n14                        0.0  ...            0.0                0.0   \n15                        0.0  ...            0.0                0.0   \n16                        0.0  ...            0.0                0.0   \n17                        0.0  ...            0.0                0.0   \n18                        0.0  ...            0.0                0.0   \n19                        0.0  ...            0.0                0.0   \n20                        0.0  ...            0.0                0.0   \n21                        0.0  ...            0.0                0.0   \n22                        0.0  ...            0.0                0.0   \n23                        0.0  ...            0.0                0.0   \n24                        0.0  ...            0.0                0.0   \n25                        0.0  ...            0.0                0.0   \n26                        0.0  ...            0.0                0.0   \n27                        0.0  ...            0.0                0.0   \n28                        0.0  ...            0.0                0.0   \n29                        0.0  ...            0.0                0.0   \n...                       ...  ...            ...                ...   \n36490                     0.0  ...            0.0                0.0   \n36491                     0.0  ...            0.0                0.0   \n36492                     0.0  ...            0.0                0.0   \n36493                     0.0  ...            0.0                0.0   \n36494                     0.0  ...            0.0                0.0   \n36495                     0.0  ...            0.0                0.0   \n36496                     0.0  ...            0.0                0.0   \n36497                     0.0  ...            0.0                0.0   \n36498                     0.0  ...            0.0                0.0   \n36499                     0.0  ...            0.0                0.0   \n36500                     0.0  ...            0.0                0.0   \n36501                     0.0  ...            0.0                0.0   \n36502                     0.0  ...            0.0                0.0   \n36503                     0.0  ...            0.0                0.0   \n36504                     0.0  ...            0.0                0.0   \n36505                     0.0  ...            0.0                0.0   \n36506                     0.0  ...            0.0                0.0   \n36507                     0.0  ...            0.0                0.0   \n36508                     0.0  ...            0.0                0.0   \n36509                     0.0  ...            0.0                0.0   \n36510                     0.0  ...            0.0                0.0   \n36511                     0.0  ...            0.0                0.0   \n36512                     0.0  ...            0.0                0.0   \n36513                     0.0  ...            0.0                0.0   \n36514                     0.0  ...            0.0                0.0   \n36515                     0.0  ...            0.0                0.0   \n36516                     0.0  ...            0.0                0.0   \n36517                     0.0  ...            0.0                0.0   \n36518                     0.0  ...            0.0                0.0   \n36519                     0.0  ...            0.0                0.0   \n\n       x2_SendAutoReply  x2_Unlock  id_event  owner_id  \\\n0                   0.0        0.0    769808         1   \n1                   0.0        0.0    769809         1   \n2                   0.0        0.0    769810         1   \n3                   0.0        0.0    769811         1   \n4                   0.0        0.0    769812         1   \n5                   0.0        0.0    769813         1   \n6                   0.0        0.0    769815         1   \n7                   0.0        0.0    769816         1   \n8                   0.0        0.0    769817         1   \n9                   0.0        0.0    769818         1   \n10                  0.0        0.0    769819         1   \n11                  0.0        0.0    769820         1   \n12                  0.0        0.0    769821         1   \n13                  0.0        0.0    769822         1   \n14                  0.0        0.0    769823         1   \n15                  0.0        0.0    769824         1   \n16                  0.0        0.0    769825         1   \n17                  0.0        0.0    770046         9   \n18                  0.0        0.0    770045         9   \n19                  0.0        0.0    770044         9   \n20                  0.0        0.0    769832         1   \n21                  0.0        0.0    769833         1   \n22                  0.0        0.0    769834         1   \n23                  0.0        0.0    769835         1   \n24                  0.0        0.0    769836         1   \n25                  0.0        0.0    769837         1   \n26                  0.0        0.0    769838         1   \n27                  0.0        0.0    769868         1   \n28                  0.0        0.0    769839         1   \n29                  0.0        0.0    769840         1   \n...                 ...        ...       ...       ...   \n36490               0.0        0.0    794026         1   \n36491               0.0        0.0    794027         1   \n36492               0.0        0.0    794028         1   \n36493               0.0        0.0    794029         1   \n36494               0.0        0.0    794030         1   \n36495               0.0        0.0    794031         1   \n36496               0.0        0.0    794032        20   \n36497               0.0        0.0    794032        20   \n36498               0.0        0.0    794032        20   \n36499               0.0        0.0    794033         1   \n36500               0.0        0.0    794034         1   \n36501               0.0        0.0    794035         1   \n36502               0.0        0.0    794037         1   \n36503               0.0        0.0    794039         1   \n36504               0.0        0.0    794038         1   \n36505               0.0        0.0    794040         1   \n36506               0.0        0.0    794041         1   \n36507               0.0        0.0    794042         1   \n36508               0.0        0.0    794043         1   \n36509               0.0        0.0    794044         1   \n36510               0.0        0.0    794045         1   \n36511               0.0        0.0    794046         1   \n36512               0.0        0.0    794047         1   \n36513               0.0        0.0    794048         1   \n36514               0.0        0.0    794049         1   \n36515               0.0        0.0    794050         1   \n36516               0.0        0.0    794051         1   \n36517               0.0        0.0    794052         1   \n36518               0.0        0.0    794053         1   \n36519               0.0        0.0    794054         1   \n\n       event_order_article_create_time  time_from_start_article_create_time  \\\n0                                    0                             00:00:00   \n1                                    0                             00:00:00   \n2                                    0                             00:00:00   \n3                                    0                             00:00:00   \n4                                    0                             00:00:00   \n5                                    0                             00:00:00   \n6                                    0                             00:00:00   \n7                                    0                             00:00:00   \n8                                    1                             00:04:58   \n9                                    0                             00:00:00   \n10                                   1                             00:00:02   \n11                                   0                             00:00:00   \n12                                   1                             00:00:03   \n13                                   0                             00:00:00   \n14                                   1                             00:04:56   \n15                                   0                             00:00:00   \n16                                   0                             00:00:00   \n17                                   0                             00:00:00   \n18                                   0                             00:00:00   \n19                                   0                             00:00:00   \n20                                   0                             00:00:00   \n21                                   0                             00:00:00   \n22                                   0                             00:00:00   \n23                                   0                             00:00:00   \n24                                   1                             00:09:59   \n25                                   0                             00:00:00   \n26                                   1                             00:10:00   \n27                                   2                             16:19:59   \n28                                   0                             00:00:00   \n29                                   1                             00:00:03   \n...                                ...                                  ...   \n36490                                1                             00:05:04   \n36491                                0                             00:00:00   \n36492                                0                             00:00:00   \n36493                                1                             00:10:01   \n36494                                2                             00:30:01   \n36495                                0                             00:00:00   \n36496                                1                             00:09:21   \n36497                                2                             00:09:21   \n36498                                3                             00:09:21   \n36499                                0                             00:00:00   \n36500                                0                             00:00:00   \n36501                                0                             00:00:00   \n36502                                0                             00:00:00   \n36503                                1                             00:00:09   \n36504                                0                             00:00:00   \n36505                                1                             00:00:08   \n36506                                0                             00:00:00   \n36507                                0                             00:00:00   \n36508                                1                             00:00:00   \n36509                                0                             00:00:00   \n36510                                1                             00:00:00   \n36511                                0                             00:00:00   \n36512                                0                             00:00:00   \n36513                                0                             00:00:00   \n36514                                0                             00:00:00   \n36515                                1                             00:00:00   \n36516                                0                             00:00:00   \n36517                                0                             00:00:00   \n36518                                0                             00:00:00   \n36519                                0                             00:00:00   \n\n       remaining_time_article_create_time  \\\n0                                00:00:00   \n1                                00:00:00   \n2                                00:00:00   \n3                                00:00:00   \n4                                00:00:00   \n5                                00:00:00   \n6                                00:00:00   \n7                                00:04:58   \n8                                00:00:00   \n9                                00:00:02   \n10                               00:00:00   \n11                               00:00:03   \n12                               00:00:00   \n13                               00:04:56   \n14                               00:00:00   \n15                               00:00:00   \n16                               00:00:00   \n17                               00:00:00   \n18                               00:00:00   \n19                               00:00:00   \n20                               00:00:00   \n21                               00:00:00   \n22                               00:00:00   \n23                               00:09:59   \n24                               00:00:00   \n25                               16:19:59   \n26                               16:09:59   \n27                               00:00:00   \n28                               00:00:03   \n29                               00:00:00   \n...                                   ...   \n36490                            00:00:00   \n36491                            00:00:00   \n36492                            00:30:01   \n36493                            00:20:00   \n36494                            00:00:00   \n36495                            00:09:21   \n36496                            00:00:00   \n36497                            00:00:00   \n36498                            00:00:00   \n36499                            00:00:00   \n36500                            00:00:00   \n36501                            00:00:00   \n36502                            00:00:09   \n36503                            00:00:00   \n36504                            00:00:08   \n36505                            00:00:00   \n36506                            00:00:00   \n36507                            00:00:00   \n36508                            00:00:00   \n36509                            00:00:00   \n36510                            00:00:00   \n36511                            00:00:00   \n36512                            00:00:00   \n36513                            00:00:00   \n36514                            00:00:00   \n36515                            00:00:00   \n36516                            00:00:00   \n36517                            00:00:00   \n36518                            00:00:00   \n36519                            00:00:00   \n\n       elapsed_time_from_event_article_create_time  \n0                                         00:00:00  \n1                                         00:00:00  \n2                                         00:00:00  \n3                                         00:00:00  \n4                                         00:00:00  \n5                                         00:00:00  \n6                                         00:00:00  \n7                                         00:00:00  \n8                                         00:04:58  \n9                                         00:00:00  \n10                                        00:00:02  \n11                                        00:00:00  \n12                                        00:00:03  \n13                                        00:00:00  \n14                                        00:04:56  \n15                                        00:00:00  \n16                                        00:00:00  \n17                                        00:00:00  \n18                                        00:00:00  \n19                                        00:00:00  \n20                                        00:00:00  \n21                                        00:00:00  \n22                                        00:00:00  \n23                                        00:00:00  \n24                                        00:09:59  \n25                                        00:00:00  \n26                                        00:10:00  \n27                                        16:09:59  \n28                                        00:00:00  \n29                                        00:00:03  \n...                                            ...  \n36490                                     00:05:04  \n36491                                     00:00:00  \n36492                                     00:00:00  \n36493                                     00:10:01  \n36494                                     00:20:00  \n36495                                     00:00:00  \n36496                                     00:09:21  \n36497                                     00:00:00  \n36498                                     00:00:00  \n36499                                     00:00:00  \n36500                                     00:00:00  \n36501                                     00:00:00  \n36502                                     00:00:00  \n36503                                     00:00:09  \n36504                                     00:00:00  \n36505                                     00:00:08  \n36506                                     00:00:00  \n36507                                     00:00:00  \n36508                                     00:00:00  \n36509                                     00:00:00  \n36510                                     00:00:00  \n36511                                     00:00:00  \n36512                                     00:00:00  \n36513                                     00:00:00  \n36514                                     00:00:00  \n36515                                     00:00:00  \n36516                                     00:00:00  \n36517                                     00:00:00  \n36518                                     00:00:00  \n36519                                     00:00:00  \n\n[36520 rows x 35 columns]>"
     },
     "metadata": {},
     "execution_count": 48
    }
   ],
   "source": [
    "dataset.describe"
   ]
  },
  {
   "cell_type": "code",
   "execution_count": 49,
   "metadata": {
    "scrolled": false
   },
   "outputs": [
    {
     "output_type": "execute_result",
     "data": {
      "text/plain": "array(['id_case', 'ticket_user', 'diff', 'x0_Agendamento',\n       'x0_closed successful', 'x0_closed with workaround', 'x0_merged',\n       'x0_new', 'x0_open', 'x0_pending auto close+',\n       'x0_pending reminder', 'x1_1 muito baixa', 'x1_2 baixa',\n       'x1_3 normal', 'x1_4 alta', 'x1_5 muito alta', 'x2_AddNote',\n       'x2_EmailCustomer', 'x2_FollowUp', 'x2_Lock', 'x2_Move',\n       'x2_NewTicket', 'x2_PhoneCallAgent', 'x2_PhoneCallCustomer',\n       'x2_SendAgentNotification', 'x2_SendAnswer', 'x2_SendAutoReject',\n       'x2_SendAutoReply', 'x2_Unlock', 'id_event', 'owner_id',\n       'event_order_article_create_time',\n       'time_from_start_article_create_time',\n       'remaining_time_article_create_time',\n       'elapsed_time_from_event_article_create_time'], dtype=object)"
     },
     "metadata": {},
     "execution_count": 49
    }
   ],
   "source": [
    "dataset.columns.values"
   ]
  },
  {
   "cell_type": "markdown",
   "metadata": {},
   "source": [
    "# Split into train, validation, test"
   ]
  },
  {
   "cell_type": "code",
   "execution_count": 50,
   "metadata": {},
   "outputs": [],
   "source": [
    "# Split into train, validation, test\n",
    "\n",
    "from sklearn.model_selection import GroupShuffleSplit\n",
    "from sklearn.utils import safe_indexing\n",
    "from itertools import chain\n",
    "\n",
    "\n",
    "def group_train_test_split(X, Y, group, test_size=0.2):\n",
    "    train, test = next(GroupShuffleSplit(test_size=test_size, random_state=0).split(X, Y, group))\n",
    "    arrays = [X, Y, group]\n",
    "\n",
    "    return list(chain.from_iterable((safe_indexing(a, train),\n",
    "                                     safe_indexing(a, test)) for a in arrays))"
   ]
  },
  {
   "cell_type": "code",
   "execution_count": 51,
   "metadata": {},
   "outputs": [
    {
     "output_type": "execute_result",
     "data": {
      "text/plain": "((36520, 35), (36520,), (36520,))"
     },
     "metadata": {},
     "execution_count": 51
    }
   ],
   "source": [
    "#cambiar los timedelta atipo long\n",
    "timedeltas = dataset.select_dtypes('timedelta').columns.values\n",
    "for c in timedeltas:\n",
    "    dataset[c] = dataset[c].dt.seconds\n",
    "\n",
    "incidents_X = dataset\n",
    "\n",
    "# Choose the target attribute\n",
    "incidents_Y = dataset['remaining_time_article_create_time']\n",
    "\n",
    "# And the attribute (id) that is used to split the dataset in train, validation and test\n",
    "incidents_group = dataset['id_case']\n",
    "\n",
    "incidents_X.shape, incidents_Y.shape, incidents_group.shape"
   ]
  },
  {
   "cell_type": "code",
   "execution_count": 52,
   "metadata": {},
   "outputs": [
    {
     "output_type": "execute_result",
     "data": {
      "text/plain": "    0.0        0.0     0.0      0.0   \n36506                        0.0        0.0     1.0      0.0   \n36507                        0.0        0.0     1.0      0.0   \n36508                        0.0        0.0     1.0      0.0   \n36509                        0.0        0.0     1.0      0.0   \n36510                        0.0        0.0     1.0      0.0   \n36511                        0.0        0.0     0.0      0.0   \n36512                        0.0        0.0     0.0      0.0   \n36513                        0.0        0.0     0.0      0.0   \n36514                        0.0        0.0     1.0      0.0   \n36515                        0.0        0.0     1.0      0.0   \n36516                        0.0        0.0     0.0      0.0   \n36517                        0.0        0.0     0.0      0.0   \n36518                        0.0        0.0     0.0      0.0   \n36519                        0.0        0.0     0.0      0.0   \n\n       x0_pending auto close+  ...  x2_SendAnswer  x2_SendAutoReject  \\\n0                         0.0  ...            0.0                0.0   \n1                         0.0  ...            0.0                0.0   \n2                         0.0  ...            0.0                0.0   \n3                         0.0  ...            0.0                0.0   \n4                         0.0  ...            0.0                0.0   \n5                         0.0  ...            0.0                0.0   \n6                         0.0  ...            0.0                0.0   \n7                         0.0  ...            0.0                0.0   \n8                         0.0  ...            0.0                0.0   \n9                         0.0  ...            0.0                0.0   \n10                        0.0  ...            0.0                0.0   \n11                        0.0  ...            0.0                0.0   \n12                        0.0  ...            0.0                0.0   \n13                        0.0  ...            0.0                0.0   \n14                        0.0  ...            0.0                0.0   \n15                        0.0  ...            0.0                0.0   \n16                        0.0  ...            0.0                0.0   \n17                        0.0  ...            0.0                0.0   \n18                        0.0  ...            0.0                0.0   \n19                        0.0  ...            0.0                0.0   \n20                        0.0  ...            0.0                0.0   \n21                        0.0  ...            0.0                0.0   \n22                        0.0  ...            0.0                0.0   \n23                        0.0  ...            0.0                0.0   \n24                        0.0  ...            0.0                0.0   \n25                        0.0  ...            0.0                0.0   \n26                        0.0  ...            0.0                0.0   \n27                        0.0  ...            0.0                0.0   \n28                        0.0  ...            0.0                0.0   \n29                        0.0  ...            0.0                0.0   \n...                       ...  ...            ...                ...   \n36490                     0.0  ...            0.0                0.0   \n36491                     0.0  ...            0.0                0.0   \n36492                     0.0  ...            0.0                0.0   \n36493                     0.0  ...            0.0                0.0   \n36494                     0.0  ...            0.0                0.0   \n36495                     0.0  ...            0.0                0.0   \n36496                     0.0  ...            0.0                0.0   \n36497                     0.0  ...            0.0                0.0   \n36498                     0.0  ...            0.0                0.0   \n36499                     0.0  ...            0.0                0.0   \n36500                     0.0  ...            0.0                0.0   \n36501                     0.0  ...            0.0                0.0   \n36502                     0.0  ...            0.0                0.0   \n36503                     0.0  ...            0.0                0.0   \n36504                     0.0  ...            0.0                0.0   \n36505                     0.0  ...            0.0                0.0   \n36506                     0.0  ...            0.0                0.0   \n36507                     0.0  ...            0.0                0.0   \n36508                     0.0  ...            0.0                0.0   \n36509                     0.0  ...            0.0                0.0   \n36510                     0.0  ...            0.0                0.0   \n36511                     0.0  ...            0.0                0.0   \n36512                     0.0  ...            0.0                0.0   \n36513                     0.0  ...            0.0                0.0   \n36514                     0.0  ...            0.0                0.0   \n36515                     0.0  ...            0.0                0.0   \n36516                     0.0  ...            0.0                0.0   \n36517                     0.0  ...            0.0                0.0   \n36518                     0.0  ...            0.0                0.0   \n36519                     0.0  ...            0.0                0.0   \n\n       x2_SendAutoReply  x2_Unlock  id_event  owner_id  \\\n0                   0.0        0.0    769808         1   \n1                   0.0        0.0    769809         1   \n2                   0.0        0.0    769810         1   \n3                   0.0        0.0    769811         1   \n4                   0.0        0.0    769812         1   \n5                   0.0        0.0    769813         1   \n6                   0.0        0.0    769815         1   \n7                   0.0        0.0    769816         1   \n8                   0.0        0.0    769817         1   \n9                   0.0        0.0    769818         1   \n10                  0.0        0.0    769819         1   \n11                  0.0        0.0    769820         1   \n12                  0.0        0.0    769821         1   \n13                  0.0        0.0    769822         1   \n14                  0.0        0.0    769823         1   \n15                  0.0        0.0    769824         1   \n16                  0.0        0.0    769825         1   \n17                  0.0        0.0    770046         9   \n18                  0.0        0.0    770045         9   \n19                  0.0        0.0    770044         9   \n20                  0.0        0.0    769832         1   \n21                  0.0        0.0    769833         1   \n22                  0.0        0.0    769834         1   \n23                  0.0        0.0    769835         1   \n24                  0.0        0.0    769836         1   \n25                  0.0        0.0    769837         1   \n26                  0.0        0.0    769838         1   \n27                  0.0        0.0    769868         1   \n28                  0.0        0.0    769839         1   \n29                  0.0        0.0    769840         1   \n...                 ...        ...       ...       ...   \n36490               0.0        0.0    794026         1   \n36491               0.0        0.0    794027         1   \n36492               0.0        0.0    794028         1   \n36493               0.0        0.0    794029         1   \n36494               0.0        0.0    794030         1   \n36495               0.0        0.0    794031         1   \n36496               0.0        0.0    794032        20   \n36497               0.0        0.0    794032        20   \n36498               0.0        0.0    794032        20   \n36499               0.0        0.0    794033         1   \n36500               0.0        0.0    794034         1   \n36501               0.0        0.0    794035         1   \n36502               0.0        0.0    794037         1   \n36503               0.0        0.0    794039         1   \n36504               0.0        0.0    794038         1   \n36505               0.0        0.0    794040         1   \n36506               0.0        0.0    794041         1   \n36507               0.0        0.0    794042         1   \n36508               0.0        0.0    794043         1   \n36509               0.0        0.0    794044         1   \n36510               0.0        0.0    794045         1   \n36511               0.0        0.0    794046         1   \n36512               0.0        0.0    794047         1   \n36513               0.0        0.0    794048         1   \n36514               0.0        0.0    794049         1   \n36515               0.0        0.0    794050         1   \n36516               0.0        0.0    794051         1   \n36517               0.0        0.0    794052         1   \n36518               0.0        0.0    794053         1   \n36519               0.0        0.0    794054         1   \n\n       event_order_article_create_time  time_from_start_article_create_time  \\\n0                                    0                                    0   \n1                                    0                                    0   \n2                                    0                                    0   \n3                                    0                                    0   \n4                                    0                                    0   \n5                                    0                                    0   \n6                                    0                                    0   \n7                                    0                                    0   \n8                                    1                                  298   \n9                                    0                                    0   \n10                                   1                                    2   \n11                                   0                                    0   \n12                                   1                                    3   \n13                                   0                                    0   \n14                                   1                                  296   \n15                                   0                                    0   \n16                                   0                                    0   \n17                                   0                                    0   \n18                                   0                                    0   \n19                                   0                                    0   \n20                                   0                                    0   \n21                                   0                                    0   \n22                                   0                                    0   \n23                                   0                                    0   \n24                                   1                                  599   \n25                                   0                                    0   \n26                                   1                                  600   \n27                                   2                                58799   \n28                                   0                                    0   \n29                                   1                                    3   \n...                                ...                                  ...   \n36490                                1                                  304   \n36491                                0                                    0   \n36492                                0                                    0   \n36493                                1                                  601   \n36494                                2                                 1801   \n36495                                0                                    0   \n36496                                1                                  561   \n36497                                2                                  561   \n36498                                3                                  561   \n36499                                0                                    0   \n36500                                0                                    0   \n36501                                0                                    0   \n36502                                0                                    0   \n36503                                1                                    9   \n36504                                0                                    0   \n36505                                1                                    8   \n36506                                0                                    0   \n36507                                0                                    0   \n36508                                1                                    0   \n36509                                0                                    0   \n36510                                1                                    0   \n36511                                0                                    0   \n36512                                0                                    0   \n36513                                0                                    0   \n36514                                0                                    0   \n36515                                1                                    0   \n36516                                0                                    0   \n36517                                0                                    0   \n36518                                0                                    0   \n36519                                0                                    0   \n\n       remaining_time_article_create_time  \\\n0                                       0   \n1                                       0   \n2                                       0   \n3                                       0   \n4                                       0   \n5                                       0   \n6                                       0   \n7                                     298   \n8                                       0   \n9                                       2   \n10                                      0   \n11                                      3   \n12                                      0   \n13                                    296   \n14                                      0   \n15                                      0   \n16                                      0   \n17                                      0   \n18                                      0   \n19                                      0   \n20                                      0   \n21                                      0   \n22                                      0   \n23                                    599   \n24                                      0   \n25                                  58799   \n26                                  58199   \n27                                      0   \n28                                      3   \n29                                      0   \n...                                   ...   \n36490                                   0   \n36491                                   0   \n36492                                1801   \n36493                                1200   \n36494                                   0   \n36495                                 561   \n36496                                   0   \n36497                                   0   \n36498                                   0   \n36499                                   0   \n36500                                   0   \n36501                                   0   \n36502                                   9   \n36503                                   0   \n36504                                   8   \n36505                                   0   \n36506                                   0   \n36507                                   0   \n36508                                   0   \n36509                                   0   \n36510                                   0   \n36511                                   0   \n36512                                   0   \n36513                                   0   \n36514                                   0   \n36515                                   0   \n36516                                   0   \n36517                                   0   \n36518                                   0   \n36519                                   0   \n\n       elapsed_time_from_event_article_create_time  \n0                                                0  \n1                                                0  \n2                                                0  \n3                                                0  \n4                                                0  \n5                                                0  \n6                                                0  \n7                                                0  \n8                                              298  \n9                                                0  \n10                                               2  \n11                                               0  \n12                                               3  \n13                                               0  \n14                                             296  \n15                                               0  \n16                                               0  \n17                                               0  \n18                                               0  \n19                                               0  \n20                                               0  \n21                                               0  \n22                                               0  \n23                                               0  \n24                                             599  \n25                                               0  \n26                                             600  \n27                                           58199  \n28                                               0  \n29                                               3  \n...                                            ...  \n36490                                          304  \n36491                                            0  \n36492                                            0  \n36493                                          601  \n36494                                         1200  \n36495                                            0  \n36496                                          561  \n36497                                            0  \n36498                                            0  \n36499                                            0  \n36500                                            0  \n36501                                            0  \n36502                                            0  \n36503                                            9  \n36504                                            0  \n36505                                            8  \n36506                                            0  \n36507                                            0  \n36508                                            0  \n36509                                            0  \n36510                                            0  \n36511                                            0  \n36512                                            0  \n36513                                            0  \n36514                                            0  \n36515                                            0  \n36516                                            0  \n36517                                            0  \n36518                                            0  \n36519                                            0  \n\n[36520 rows x 35 columns]",
      "text/html": "<div>\n<style scoped>\n    .dataframe tbody tr th:only-of-type {\n        vertical-align: middle;\n    }\n\n    .dataframe tbody tr th {\n        vertical-align: top;\n    }\n\n    .dataframe thead th {\n        text-align: right;\n    }\n</style>\n<table border=\"1\" class=\"dataframe\">\n  <thead>\n    <tr style=\"text-align: right;\">\n      <th></th>\n      <th>id_case</th>\n      <th>ticket_user</th>\n      <th>diff</th>\n      <th>x0_Agendamento</th>\n      <th>x0_closed successful</th>\n      <th>x0_closed with workaround</th>\n      <th>x0_merged</th>\n      <th>x0_new</th>\n      <th>x0_open</th>\n      <th>x0_pending auto close+</th>\n      <th>...</th>\n      <th>x2_SendAnswer</th>\n      <th>x2_SendAutoReject</th>\n      <th>x2_SendAutoReply</th>\n      <th>x2_Unlock</th>\n      <th>id_event</th>\n      <th>owner_id</th>\n      <th>event_order_article_create_time</th>\n      <th>time_from_start_article_create_time</th>\n      <th>remaining_time_article_create_time</th>\n      <th>elapsed_time_from_event_article_create_time</th>\n    </tr>\n  </thead>\n  <tbody>\n    <tr>\n      <th>0</th>\n      <td>241891</td>\n      <td>1</td>\n      <td>1</td>\n      <td>0.0</td>\n      <td>1.0</td>\n      <td>0.0</td>\n      <td>0.0</td>\n      <td>0.0</td>\n      <td>0.0</td>\n      <td>0.0</td>\n      <td>...</td>\n      <td>0.0</td>\n      <td>0.0</td>\n      <td>0.0</td>\n      <td>0.0</td>\n      <td>769808</td>\n      <td>1</td>\n      <td>0</td>\n      <td>0</td>\n      <td>0</td>\n      <td>0</td>\n    </tr>\n    <tr>\n      <th>1</th>\n      <td>241892</td>\n      <td>1</td>\n      <td>1</td>\n      <td>0.0</td>\n      <td>1.0</td>\n      <td>0.0</td>\n      <td>0.0</td>\n      <td>0.0</td>\n      <td>0.0</td>\n      <td>0.0</td>\n      <td>...</td>\n      <td>0.0</td>\n      <td>0.0</td>\n      <td>0.0</td>\n      <td>0.0</td>\n      <td>769809</td>\n      <td>1</td>\n      <td>0</td>\n      <td>0</td>\n      <td>0</td>\n      <td>0</td>\n    </tr>\n    <tr>\n      <th>2</th>\n      <td>241893</td>\n      <td>1</td>\n      <td>0</td>\n      <td>0.0</td>\n      <td>1.0</td>\n      <td>0.0</td>\n      <td>0.0</td>\n      <td>0.0</td>\n      <td>0.0</td>\n      <td>0.0</td>\n      <td>...</td>\n      <td>0.0</td>\n      <td>0.0</td>\n      <td>0.0</td>\n      <td>0.0</td>\n      <td>769810</td>\n      <td>1</td>\n      <td>0</td>\n      <td>0</td>\n      <td>0</td>\n      <td>0</td>\n    </tr>\n    <tr>\n      <th>3</th>\n      <td>241894</td>\n      <td>1</td>\n      <td>1</td>\n      <td>0.0</td>\n      <td>1.0</td>\n      <td>0.0</td>\n      <td>0.0</td>\n      <td>0.0</td>\n      <td>0.0</td>\n      <td>0.0</td>\n      <td>...</td>\n      <td>0.0</td>\n      <td>0.0</td>\n      <td>0.0</td>\n      <td>0.0</td>\n      <td>769811</td>\n      <td>1</td>\n      <td>0</td>\n      <td>0</td>\n      <td>0</td>\n      <td>0</td>\n    </tr>\n    <tr>\n      <th>4</th>\n      <td>241895</td>\n      <td>1</td>\n      <td>0</td>\n      <td>0.0</td>\n      <td>1.0</td>\n      <td>0.0</td>\n      <td>0.0</td>\n      <td>0.0</td>\n      <td>0.0</td>\n      <td>0.0</td>\n      <td>...</td>\n      <td>0.0</td>\n      <td>0.0</td>\n      <td>0.0</td>\n      <td>0.0</td>\n      <td>769812</td>\n      <td>1</td>\n      <td>0</td>\n      <td>0</td>\n      <td>0</td>\n      <td>0</td>\n    </tr>\n    <tr>\n      <th>5</th>\n      <td>241896</td>\n      <td>1</td>\n      <td>0</td>\n      <td>0.0</td>\n      <td>1.0</td>\n      <td>0.0</td>\n      <td>0.0</td>\n      <td>0.0</td>\n      <td>0.0</td>\n      <td>0.0</td>\n      <td>...</td>\n      <td>0.0</td>\n      <td>0.0</td>\n      <td>0.0</td>\n      <td>0.0</td>\n      <td>769813</td>\n      <td>1</td>\n      <td>0</td>\n      <td>0</td>\n      <td>0</td>\n      <td>0</td>\n    </tr>\n    <tr>\n      <th>6</th>\n      <td>241898</td>\n      <td>1</td>\n      <td>0</td>\n      <td>0.0</td>\n      <td>1.0</td>\n      <td>0.0</td>\n      <td>0.0</td>\n      <td>0.0</td>\n      <td>0.0</td>\n      <td>0.0</td>\n      <td>...</td>\n      <td>0.0</td>\n      <td>0.0</td>\n      <td>0.0</td>\n      <td>0.0</td>\n      <td>769815</td>\n      <td>1</td>\n      <td>0</td>\n      <td>0</td>\n      <td>0</td>\n      <td>0</td>\n    </tr>\n    <tr>\n      <th>7</th>\n      <td>241899</td>\n      <td>1</td>\n      <td>0</td>\n      <td>0.0</td>\n      <td>1.0</td>\n      <td>0.0</td>\n      <td>0.0</td>\n      <td>0.0</td>\n      <td>0.0</td>\n      <td>0.0</td>\n      <td>...</td>\n      <td>0.0</td>\n      <td>0.0</td>\n      <td>0.0</td>\n      <td>0.0</td>\n      <td>769816</td>\n      <td>1</td>\n      <td>0</td>\n      <td>0</td>\n      <td>298</td>\n      <td>0</td>\n    </tr>\n    <tr>\n      <th>8</th>\n      <td>241899</td>\n      <td>1</td>\n      <td>298</td>\n      <td>0.0</td>\n      <td>1.0</td>\n      <td>0.0</td>\n      <td>0.0</td>\n      <td>0.0</td>\n      <td>0.0</td>\n      <td>0.0</td>\n      <td>...</td>\n      <td>0.0</td>\n      <td>0.0</td>\n      <td>0.0</td>\n      <td>0.0</td>\n      <td>769817</td>\n      <td>1</td>\n      <td>1</td>\n      <td>298</td>\n      <td>0</td>\n      <td>298</td>\n    </tr>\n    <tr>\n      <th>9</th>\n      <td>241900</td>\n      <td>1</td>\n      <td>1</td>\n      <td>0.0</td>\n      <td>1.0</td>\n      <td>0.0</td>\n      <td>0.0</td>\n      <td>0.0</td>\n      <td>0.0</td>\n      <td>0.0</td>\n      <td>...</td>\n      <td>0.0</td>\n      <td>0.0</td>\n      <td>0.0</td>\n      <td>0.0</td>\n      <td>769818</td>\n      <td>1</td>\n      <td>0</td>\n      <td>0</td>\n      <td>2</td>\n      <td>0</td>\n    </tr>\n    <tr>\n      <th>10</th>\n      <td>241900</td>\n      <td>1</td>\n      <td>3</td>\n      <td>0.0</td>\n      <td>1.0</td>\n      <td>0.0</td>\n      <td>0.0</td>\n      <td>0.0</td>\n      <td>0.0</td>\n      <td>0.0</td>\n      <td>...</td>\n      <td>0.0</td>\n      <td>0.0</td>\n      <td>0.0</td>\n      <td>0.0</td>\n      <td>769819</td>\n      <td>1</td>\n      <td>1</td>\n      <td>2</td>\n      <td>0</td>\n      <td>2</td>\n    </tr>\n    <tr>\n      <th>11</th>\n      <td>241901</td>\n      <td>1</td>\n      <td>0</td>\n      <td>0.0</td>\n      <td>1.0</td>\n      <td>0.0</td>\n      <td>0.0</td>\n      <td>0.0</td>\n      <td>0.0</td>\n      <td>0.0</td>\n      <td>...</td>\n      <td>0.0</td>\n      <td>0.0</td>\n      <td>0.0</td>\n      <td>0.0</td>\n      <td>769820</td>\n      <td>1</td>\n      <td>0</td>\n      <td>0</td>\n      <td>3</td>\n      <td>0</td>\n    </tr>\n    <tr>\n      <th>12</th>\n      <td>241901</td>\n      <td>1</td>\n      <td>3</td>\n      <td>0.0</td>\n      <td>1.0</td>\n      <td>0.0</td>\n      <td>0.0</td>\n      <td>0.0</td>\n      <td>0.0</td>\n      <td>0.0</td>\n      <td>...</td>\n      <td>0.0</td>\n      <td>0.0</td>\n      <td>0.0</td>\n      <td>0.0</td>\n      <td>769821</td>\n      <td>1</td>\n      <td>1</td>\n      <td>3</td>\n      <td>0</td>\n      <td>3</td>\n    </tr>\n    <tr>\n      <th>13</th>\n      <td>241902</td>\n      <td>1</td>\n      <td>1</td>\n      <td>0.0</td>\n      <td>1.0</td>\n      <td>0.0</td>\n      <td>0.0</td>\n      <td>0.0</td>\n      <td>0.0</td>\n      <td>0.0</td>\n      <td>...</td>\n      <td>0.0</td>\n      <td>0.0</td>\n      <td>0.0</td>\n      <td>0.0</td>\n      <td>769822</td>\n      <td>1</td>\n      <td>0</td>\n      <td>0</td>\n      <td>296</td>\n      <td>0</td>\n    </tr>\n    <tr>\n      <th>14</th>\n      <td>241902</td>\n      <td>1</td>\n      <td>297</td>\n      <td>0.0</td>\n      <td>1.0</td>\n      <td>0.0</td>\n      <td>0.0</td>\n      <td>0.0</td>\n      <td>0.0</td>\n      <td>0.0</td>\n      <td>...</td>\n      <td>0.0</td>\n      <td>0.0</td>\n      <td>0.0</td>\n      <td>0.0</td>\n      <td>769823</td>\n      <td>1</td>\n      <td>1</td>\n      <td>296</td>\n      <td>0</td>\n      <td>296</td>\n    </tr>\n    <tr>\n      <th>15</th>\n      <td>241903</td>\n      <td>1</td>\n      <td>1</td>\n      <td>0.0</td>\n      <td>1.0</td>\n      <td>0.0</td>\n      <td>0.0</td>\n      <td>0.0</td>\n      <td>0.0</td>\n      <td>0.0</td>\n      <td>...</td>\n      <td>0.0</td>\n      <td>0.0</td>\n      <td>0.0</td>\n      <td>0.0</td>\n      <td>769824</td>\n      <td>1</td>\n      <td>0</td>\n      <td>0</td>\n      <td>0</td>\n      <td>0</td>\n    </tr>\n    <tr>\n      <th>16</th>\n      <td>241904</td>\n      <td>1</td>\n      <td>0</td>\n      <td>0.0</td>\n      <td>1.0</td>\n      <td>0.0</td>\n      <td>0.0</td>\n      <td>0.0</td>\n      <td>0.0</td>\n      <td>0.0</td>\n      <td>...</td>\n      <td>0.0</td>\n      <td>0.0</td>\n      <td>0.0</td>\n      <td>0.0</td>\n      <td>769825</td>\n      <td>1</td>\n      <td>0</td>\n      <td>0</td>\n      <td>0</td>\n      <td>0</td>\n    </tr>\n    <tr>\n      <th>17</th>\n      <td>241905</td>\n      <td>1</td>\n      <td>277889</td>\n      <td>0.0</td>\n      <td>0.0</td>\n      <td>0.0</td>\n      <td>1.0</td>\n      <td>0.0</td>\n      <td>0.0</td>\n      <td>0.0</td>\n      <td>...</td>\n      <td>0.0</td>\n      <td>0.0</td>\n      <td>0.0</td>\n      <td>0.0</td>\n      <td>770046</td>\n      <td>9</td>\n      <td>0</td>\n      <td>0</td>\n      <td>0</td>\n      <td>0</td>\n    </tr>\n    <tr>\n      <th>18</th>\n      <td>241906</td>\n      <td>1</td>\n      <td>277574</td>\n      <td>0.0</td>\n      <td>0.0</td>\n      <td>0.0</td>\n      <td>1.0</td>\n      <td>0.0</td>\n      <td>0.0</td>\n      <td>0.0</td>\n      <td>...</td>\n      <td>0.0</td>\n      <td>0.0</td>\n      <td>0.0</td>\n      <td>0.0</td>\n      <td>770045</td>\n      <td>9</td>\n      <td>0</td>\n      <td>0</td>\n      <td>0</td>\n      <td>0</td>\n    </tr>\n    <tr>\n      <th>19</th>\n      <td>241907</td>\n      <td>1</td>\n      <td>276359</td>\n      <td>0.0</td>\n      <td>0.0</td>\n      <td>0.0</td>\n      <td>1.0</td>\n      <td>0.0</td>\n      <td>0.0</td>\n      <td>0.0</td>\n      <td>...</td>\n      <td>0.0</td>\n      <td>0.0</td>\n      <td>0.0</td>\n      <td>0.0</td>\n      <td>770044</td>\n      <td>9</td>\n      <td>0</td>\n      <td>0</td>\n      <td>0</td>\n      <td>0</td>\n    </tr>\n    <tr>\n      <th>20</th>\n      <td>241908</td>\n      <td>1</td>\n      <td>0</td>\n      <td>0.0</td>\n      <td>1.0</td>\n      <td>0.0</td>\n      <td>0.0</td>\n      <td>0.0</td>\n      <td>0.0</td>\n      <td>0.0</td>\n      <td>...</td>\n      <td>0.0</td>\n      <td>0.0</td>\n      <td>0.0</td>\n      <td>0.0</td>\n      <td>769832</td>\n      <td>1</td>\n      <td>0</td>\n      <td>0</td>\n      <td>0</td>\n      <td>0</td>\n    </tr>\n    <tr>\n      <th>21</th>\n      <td>241909</td>\n      <td>1</td>\n      <td>0</td>\n      <td>0.0</td>\n      <td>1.0</td>\n      <td>0.0</td>\n      <td>0.0</td>\n      <td>0.0</td>\n      <td>0.0</td>\n      <td>0.0</td>\n      <td>...</td>\n      <td>0.0</td>\n      <td>0.0</td>\n      <td>0.0</td>\n      <td>0.0</td>\n      <td>769833</td>\n      <td>1</td>\n      <td>0</td>\n      <td>0</td>\n      <td>0</td>\n      <td>0</td>\n    </tr>\n    <tr>\n      <th>22</th>\n      <td>241910</td>\n      <td>1</td>\n      <td>1</td>\n      <td>0.0</td>\n      <td>1.0</td>\n      <td>0.0</td>\n      <td>0.0</td>\n      <td>0.0</td>\n      <td>0.0</td>\n      <td>0.0</td>\n      <td>...</td>\n      <td>0.0</td>\n      <td>0.0</td>\n      <td>0.0</td>\n      <td>0.0</td>\n      <td>769834</td>\n      <td>1</td>\n      <td>0</td>\n      <td>0</td>\n      <td>0</td>\n      <td>0</td>\n    </tr>\n    <tr>\n      <th>23</th>\n      <td>241911</td>\n      <td>1</td>\n      <td>1</td>\n      <td>0.0</td>\n      <td>1.0</td>\n      <td>0.0</td>\n      <td>0.0</td>\n      <td>0.0</td>\n      <td>0.0</td>\n      <td>0.0</td>\n      <td>...</td>\n      <td>0.0</td>\n      <td>0.0</td>\n      <td>0.0</td>\n      <td>0.0</td>\n      <td>769835</td>\n      <td>1</td>\n      <td>0</td>\n      <td>0</td>\n      <td>599</td>\n      <td>0</td>\n    </tr>\n    <tr>\n      <th>24</th>\n      <td>241911</td>\n      <td>1</td>\n      <td>600</td>\n      <td>0.0</td>\n      <td>1.0</td>\n      <td>0.0</td>\n      <td>0.0</td>\n      <td>0.0</td>\n      <td>0.0</td>\n      <td>0.0</td>\n      <td>...</td>\n      <td>0.0</td>\n      <td>0.0</td>\n      <td>0.0</td>\n      <td>0.0</td>\n      <td>769836</td>\n      <td>1</td>\n      <td>1</td>\n      <td>599</td>\n      <td>0</td>\n      <td>599</td>\n    </tr>\n    <tr>\n      <th>25</th>\n      <td>241912</td>\n      <td>1</td>\n      <td>0</td>\n      <td>0.0</td>\n      <td>1.0</td>\n      <td>0.0</td>\n      <td>0.0</td>\n      <td>0.0</td>\n      <td>0.0</td>\n      <td>0.0</td>\n      <td>...</td>\n      <td>0.0</td>\n      <td>0.0</td>\n      <td>0.0</td>\n      <td>0.0</td>\n      <td>769837</td>\n      <td>1</td>\n      <td>0</td>\n      <td>0</td>\n      <td>58799</td>\n      <td>0</td>\n    </tr>\n    <tr>\n      <th>26</th>\n      <td>241912</td>\n      <td>1</td>\n      <td>600</td>\n      <td>0.0</td>\n      <td>1.0</td>\n      <td>0.0</td>\n      <td>0.0</td>\n      <td>0.0</td>\n      <td>0.0</td>\n      <td>0.0</td>\n      <td>...</td>\n      <td>0.0</td>\n      <td>0.0</td>\n      <td>0.0</td>\n      <td>0.0</td>\n      <td>769838</td>\n      <td>1</td>\n      <td>1</td>\n      <td>600</td>\n      <td>58199</td>\n      <td>600</td>\n    </tr>\n    <tr>\n      <th>27</th>\n      <td>241912</td>\n      <td>1</td>\n      <td>58799</td>\n      <td>0.0</td>\n      <td>1.0</td>\n      <td>0.0</td>\n      <td>0.0</td>\n      <td>0.0</td>\n      <td>0.0</td>\n      <td>0.0</td>\n      <td>...</td>\n      <td>0.0</td>\n      <td>0.0</td>\n      <td>0.0</td>\n      <td>0.0</td>\n      <td>769868</td>\n      <td>1</td>\n      <td>2</td>\n      <td>58799</td>\n      <td>0</td>\n      <td>58199</td>\n    </tr>\n    <tr>\n      <th>28</th>\n      <td>241913</td>\n      <td>1</td>\n      <td>0</td>\n      <td>0.0</td>\n      <td>1.0</td>\n      <td>0.0</td>\n      <td>0.0</td>\n      <td>0.0</td>\n      <td>0.0</td>\n      <td>0.0</td>\n      <td>...</td>\n      <td>0.0</td>\n      <td>0.0</td>\n      <td>0.0</td>\n      <td>0.0</td>\n      <td>769839</td>\n      <td>1</td>\n      <td>0</td>\n      <td>0</td>\n      <td>3</td>\n      <td>0</td>\n    </tr>\n    <tr>\n      <th>29</th>\n      <td>241913</td>\n      <td>1</td>\n      <td>3</td>\n      <td>0.0</td>\n      <td>1.0</td>\n      <td>0.0</td>\n      <td>0.0</td>\n      <td>0.0</td>\n      <td>0.0</td>\n      <td>0.0</td>\n      <td>...</td>\n      <td>0.0</td>\n      <td>0.0</td>\n      <td>0.0</td>\n      <td>0.0</td>\n      <td>769840</td>\n      <td>1</td>\n      <td>1</td>\n      <td>3</td>\n      <td>0</td>\n      <td>3</td>\n    </tr>\n    <tr>\n      <th>...</th>\n      <td>...</td>\n      <td>...</td>\n      <td>...</td>\n      <td>...</td>\n      <td>...</td>\n      <td>...</td>\n      <td>...</td>\n      <td>...</td>\n      <td>...</td>\n      <td>...</td>\n      <td>...</td>\n      <td>...</td>\n      <td>...</td>\n      <td>...</td>\n      <td>...</td>\n      <td>...</td>\n      <td>...</td>\n      <td>...</td>\n      <td>...</td>\n      <td>...</td>\n      <td>...</td>\n    </tr>\n    <tr>\n      <th>36490</th>\n      <td>248648</td>\n      <td>1</td>\n      <td>305</td>\n      <td>0.0</td>\n      <td>1.0</td>\n      <td>0.0</td>\n      <td>0.0</td>\n      <td>0.0</td>\n      <td>0.0</td>\n      <td>0.0</td>\n      <td>...</td>\n      <td>0.0</td>\n      <td>0.0</td>\n      <td>0.0</td>\n      <td>0.0</td>\n      <td>794026</td>\n      <td>1</td>\n      <td>1</td>\n      <td>304</td>\n      <td>0</td>\n      <td>304</td>\n    </tr>\n    <tr>\n      <th>36491</th>\n      <td>248649</td>\n      <td>1</td>\n      <td>0</td>\n      <td>0.0</td>\n      <td>1.0</td>\n      <td>0.0</td>\n      <td>0.0</td>\n      <td>0.0</td>\n      <td>0.0</td>\n      <td>0.0</td>\n      <td>...</td>\n      <td>0.0</td>\n      <td>0.0</td>\n      <td>0.0</td>\n      <td>0.0</td>\n      <td>794027</td>\n      <td>1</td>\n      <td>0</td>\n      <td>0</td>\n      <td>0</td>\n      <td>0</td>\n    </tr>\n    <tr>\n      <th>36492</th>\n      <td>248650</td>\n      <td>1</td>\n      <td>1</td>\n      <td>0.0</td>\n      <td>1.0</td>\n      <td>0.0</td>\n      <td>0.0</td>\n      <td>0.0</td>\n      <td>0.0</td>\n      <td>0.0</td>\n      <td>...</td>\n      <td>0.0</td>\n      <td>0.0</td>\n      <td>0.0</td>\n      <td>0.0</td>\n      <td>794028</td>\n      <td>1</td>\n      <td>0</td>\n      <td>0</td>\n      <td>1801</td>\n      <td>0</td>\n    </tr>\n    <tr>\n      <th>36493</th>\n      <td>248650</td>\n      <td>1</td>\n      <td>602</td>\n      <td>0.0</td>\n      <td>1.0</td>\n      <td>0.0</td>\n      <td>0.0</td>\n      <td>0.0</td>\n      <td>0.0</td>\n      <td>0.0</td>\n      <td>...</td>\n      <td>0.0</td>\n      <td>0.0</td>\n      <td>0.0</td>\n      <td>0.0</td>\n      <td>794029</td>\n      <td>1</td>\n      <td>1</td>\n      <td>601</td>\n      <td>1200</td>\n      <td>601</td>\n    </tr>\n    <tr>\n      <th>36494</th>\n      <td>248650</td>\n      <td>1</td>\n      <td>1802</td>\n      <td>0.0</td>\n      <td>1.0</td>\n      <td>0.0</td>\n      <td>0.0</td>\n      <td>0.0</td>\n      <td>0.0</td>\n      <td>0.0</td>\n      <td>...</td>\n      <td>0.0</td>\n      <td>0.0</td>\n      <td>0.0</td>\n      <td>0.0</td>\n      <td>794030</td>\n      <td>1</td>\n      <td>2</td>\n      <td>1801</td>\n      <td>0</td>\n      <td>1200</td>\n    </tr>\n    <tr>\n      <th>36495</th>\n      <td>248651</td>\n      <td>1</td>\n      <td>1</td>\n      <td>0.0</td>\n      <td>1.0</td>\n      <td>0.0</td>\n      <td>0.0</td>\n      <td>0.0</td>\n      <td>0.0</td>\n      <td>0.0</td>\n      <td>...</td>\n      <td>0.0</td>\n      <td>0.0</td>\n      <td>0.0</td>\n      <td>0.0</td>\n      <td>794031</td>\n      <td>1</td>\n      <td>0</td>\n      <td>0</td>\n      <td>561</td>\n      <td>0</td>\n    </tr>\n    <tr>\n      <th>36496</th>\n      <td>248651</td>\n      <td>1</td>\n      <td>562</td>\n      <td>0.0</td>\n      <td>1.0</td>\n      <td>0.0</td>\n      <td>0.0</td>\n      <td>0.0</td>\n      <td>0.0</td>\n      <td>0.0</td>\n      <td>...</td>\n      <td>0.0</td>\n      <td>0.0</td>\n      <td>0.0</td>\n      <td>0.0</td>\n      <td>794032</td>\n      <td>20</td>\n      <td>1</td>\n      <td>561</td>\n      <td>0</td>\n      <td>561</td>\n    </tr>\n    <tr>\n      <th>36497</th>\n      <td>248651</td>\n      <td>1</td>\n      <td>562</td>\n      <td>0.0</td>\n      <td>1.0</td>\n      <td>0.0</td>\n      <td>0.0</td>\n      <td>0.0</td>\n      <td>0.0</td>\n      <td>0.0</td>\n      <td>...</td>\n      <td>0.0</td>\n      <td>0.0</td>\n      <td>0.0</td>\n      <td>0.0</td>\n      <td>794032</td>\n      <td>20</td>\n      <td>2</td>\n      <td>561</td>\n      <td>0</td>\n      <td>0</td>\n    </tr>\n    <tr>\n      <th>36498</th>\n      <td>248651</td>\n      <td>1</td>\n      <td>562</td>\n      <td>0.0</td>\n      <td>1.0</td>\n      <td>0.0</td>\n      <td>0.0</td>\n      <td>0.0</td>\n      <td>0.0</td>\n      <td>0.0</td>\n      <td>...</td>\n      <td>0.0</td>\n      <td>0.0</td>\n      <td>0.0</td>\n      <td>0.0</td>\n      <td>794032</td>\n      <td>20</td>\n      <td>3</td>\n      <td>561</td>\n      <td>0</td>\n      <td>0</td>\n    </tr>\n    <tr>\n      <th>36499</th>\n      <td>248652</td>\n      <td>1</td>\n      <td>0</td>\n      <td>0.0</td>\n      <td>0.0</td>\n      <td>0.0</td>\n      <td>0.0</td>\n      <td>1.0</td>\n      <td>0.0</td>\n      <td>0.0</td>\n      <td>...</td>\n      <td>0.0</td>\n      <td>0.0</td>\n      <td>0.0</td>\n      <td>0.0</td>\n      <td>794033</td>\n      <td>1</td>\n      <td>0</td>\n      <td>0</td>\n      <td>0</td>\n      <td>0</td>\n    </tr>\n    <tr>\n      <th>36500</th>\n      <td>248653</td>\n      <td>1</td>\n      <td>1</td>\n      <td>0.0</td>\n      <td>1.0</td>\n      <td>0.0</td>\n      <td>0.0</td>\n      <td>0.0</td>\n      <td>0.0</td>\n      <td>0.0</td>\n      <td>...</td>\n      <td>0.0</td>\n      <td>0.0</td>\n      <td>0.0</td>\n      <td>0.0</td>\n      <td>794034</td>\n      <td>1</td>\n      <td>0</td>\n      <td>0</td>\n      <td>0</td>\n      <td>0</td>\n    </tr>\n    <tr>\n      <th>36501</th>\n      <td>248654</td>\n      <td>1</td>\n      <td>0</td>\n      <td>0.0</td>\n      <td>1.0</td>\n      <td>0.0</td>\n      <td>0.0</td>\n      <td>0.0</td>\n      <td>0.0</td>\n      <td>0.0</td>\n      <td>...</td>\n      <td>0.0</td>\n      <td>0.0</td>\n      <td>0.0</td>\n      <td>0.0</td>\n      <td>794035</td>\n      <td>1</td>\n      <td>0</td>\n      <td>0</td>\n      <td>0</td>\n      <td>0</td>\n    </tr>\n    <tr>\n      <th>36502</th>\n      <td>248655</td>\n      <td>1</td>\n      <td>1</td>\n      <td>0.0</td>\n      <td>1.0</td>\n      <td>0.0</td>\n      <td>0.0</td>\n      <td>0.0</td>\n      <td>0.0</td>\n      <td>0.0</td>\n      <td>...</td>\n      <td>0.0</td>\n      <td>0.0</td>\n      <td>0.0</td>\n      <td>0.0</td>\n      <td>794037</td>\n      <td>1</td>\n      <td>0</td>\n      <td>0</td>\n      <td>9</td>\n      <td>0</td>\n    </tr>\n    <tr>\n      <th>36503</th>\n      <td>248655</td>\n      <td>1</td>\n      <td>10</td>\n      <td>0.0</td>\n      <td>1.0</td>\n      <td>0.0</td>\n      <td>0.0</td>\n      <td>0.0</td>\n      <td>0.0</td>\n      <td>0.0</td>\n      <td>...</td>\n      <td>0.0</td>\n      <td>0.0</td>\n      <td>0.0</td>\n      <td>0.0</td>\n      <td>794039</td>\n      <td>1</td>\n      <td>1</td>\n      <td>9</td>\n      <td>0</td>\n      <td>9</td>\n    </tr>\n    <tr>\n      <th>36504</th>\n      <td>248656</td>\n      <td>1</td>\n      <td>0</td>\n      <td>0.0</td>\n      <td>1.0</td>\n      <td>0.0</td>\n      <td>0.0</td>\n      <td>0.0</td>\n      <td>0.0</td>\n      <td>0.0</td>\n      <td>...</td>\n      <td>0.0</td>\n      <td>0.0</td>\n      <td>0.0</td>\n      <td>0.0</td>\n      <td>794038</td>\n      <td>1</td>\n      <td>0</td>\n      <td>0</td>\n      <td>8</td>\n      <td>0</td>\n    </tr>\n    <tr>\n      <th>36505</th>\n      <td>248656</td>\n      <td>1</td>\n      <td>8</td>\n      <td>0.0</td>\n      <td>1.0</td>\n      <td>0.0</td>\n      <td>0.0</td>\n      <td>0.0</td>\n      <td>0.0</td>\n      <td>0.0</td>\n      <td>...</td>\n      <td>0.0</td>\n      <td>0.0</td>\n      <td>0.0</td>\n      <td>0.0</td>\n      <td>794040</td>\n      <td>1</td>\n      <td>1</td>\n      <td>8</td>\n      <td>0</td>\n      <td>8</td>\n    </tr>\n    <tr>\n      <th>36506</th>\n      <td>248657</td>\n      <td>1</td>\n      <td>0</td>\n      <td>0.0</td>\n      <td>0.0</td>\n      <td>0.0</td>\n      <td>0.0</td>\n      <td>1.0</td>\n      <td>0.0</td>\n      <td>0.0</td>\n      <td>...</td>\n      <td>0.0</td>\n      <td>0.0</td>\n      <td>0.0</td>\n      <td>0.0</td>\n      <td>794041</td>\n      <td>1</td>\n      <td>0</td>\n      <td>0</td>\n      <td>0</td>\n      <td>0</td>\n    </tr>\n    <tr>\n      <th>36507</th>\n      <td>248658</td>\n      <td>1</td>\n      <td>1</td>\n      <td>0.0</td>\n      <td>0.0</td>\n      <td>0.0</td>\n      <td>0.0</td>\n      <td>1.0</td>\n      <td>0.0</td>\n      <td>0.0</td>\n      <td>...</td>\n      <td>0.0</td>\n      <td>0.0</td>\n      <td>0.0</td>\n      <td>0.0</td>\n      <td>794042</td>\n      <td>1</td>\n      <td>0</td>\n      <td>0</td>\n      <td>0</td>\n      <td>0</td>\n    </tr>\n    <tr>\n      <th>36508</th>\n      <td>248658</td>\n      <td>1</td>\n      <td>1</td>\n      <td>0.0</td>\n      <td>0.0</td>\n      <td>0.0</td>\n      <td>0.0</td>\n      <td>1.0</td>\n      <td>0.0</td>\n      <td>0.0</td>\n      <td>...</td>\n      <td>0.0</td>\n      <td>0.0</td>\n      <td>0.0</td>\n      <td>0.0</td>\n      <td>794043</td>\n      <td>1</td>\n      <td>1</td>\n      <td>0</td>\n      <td>0</td>\n      <td>0</td>\n    </tr>\n    <tr>\n      <th>36509</th>\n      <td>248659</td>\n      <td>1</td>\n      <td>1</td>\n      <td>0.0</td>\n      <td>0.0</td>\n      <td>0.0</td>\n      <td>0.0</td>\n      <td>1.0</td>\n      <td>0.0</td>\n      <td>0.0</td>\n      <td>...</td>\n      <td>0.0</td>\n      <td>0.0</td>\n      <td>0.0</td>\n      <td>0.0</td>\n      <td>794044</td>\n      <td>1</td>\n      <td>0</td>\n      <td>0</td>\n      <td>0</td>\n      <td>0</td>\n    </tr>\n    <tr>\n      <th>36510</th>\n      <td>248659</td>\n      <td>1</td>\n      <td>1</td>\n      <td>0.0</td>\n      <td>0.0</td>\n      <td>0.0</td>\n      <td>0.0</td>\n      <td>1.0</td>\n      <td>0.0</td>\n      <td>0.0</td>\n      <td>...</td>\n      <td>0.0</td>\n      <td>0.0</td>\n      <td>0.0</td>\n      <td>0.0</td>\n      <td>794045</td>\n      <td>1</td>\n      <td>1</td>\n      <td>0</td>\n      <td>0</td>\n      <td>0</td>\n    </tr>\n    <tr>\n      <th>36511</th>\n      <td>248660</td>\n      <td>1</td>\n      <td>5</td>\n      <td>0.0</td>\n      <td>1.0</td>\n      <td>0.0</td>\n      <td>0.0</td>\n      <td>0.0</td>\n      <td>0.0</td>\n      <td>0.0</td>\n      <td>...</td>\n      <td>0.0</td>\n      <td>0.0</td>\n      <td>0.0</td>\n      <td>0.0</td>\n      <td>794046</td>\n      <td>1</td>\n      <td>0</td>\n      <td>0</td>\n      <td>0</td>\n      <td>0</td>\n    </tr>\n    <tr>\n      <th>36512</th>\n      <td>248661</td>\n      <td>1</td>\n      <td>0</td>\n      <td>0.0</td>\n      <td>1.0</td>\n      <td>0.0</td>\n      <td>0.0</td>\n      <td>0.0</td>\n      <td>0.0</td>\n      <td>0.0</td>\n      <td>...</td>\n      <td>0.0</td>\n      <td>0.0</td>\n      <td>0.0</td>\n      <td>0.0</td>\n      <td>794047</td>\n      <td>1</td>\n      <td>0</td>\n      <td>0</td>\n      <td>0</td>\n      <td>0</td>\n    </tr>\n    <tr>\n      <th>36513</th>\n      <td>248662</td>\n      <td>1</td>\n      <td>0</td>\n      <td>0.0</td>\n      <td>1.0</td>\n      <td>0.0</td>\n      <td>0.0</td>\n      <td>0.0</td>\n      <td>0.0</td>\n      <td>0.0</td>\n      <td>...</td>\n      <td>0.0</td>\n      <td>0.0</td>\n      <td>0.0</td>\n      <td>0.0</td>\n      <td>794048</td>\n      <td>1</td>\n      <td>0</td>\n      <td>0</td>\n      <td>0</td>\n      <td>0</td>\n    </tr>\n    <tr>\n      <th>36514</th>\n      <td>248663</td>\n      <td>1</td>\n      <td>1</td>\n      <td>0.0</td>\n      <td>0.0</td>\n      <td>0.0</td>\n      <td>0.0</td>\n      <td>1.0</td>\n      <td>0.0</td>\n      <td>0.0</td>\n      <td>...</td>\n      <td>0.0</td>\n      <td>0.0</td>\n      <td>0.0</td>\n      <td>0.0</td>\n      <td>794049</td>\n      <td>1</td>\n      <td>0</td>\n      <td>0</td>\n      <td>0</td>\n      <td>0</td>\n    </tr>\n    <tr>\n      <th>36515</th>\n      <td>248663</td>\n      <td>1</td>\n      <td>1</td>\n      <td>0.0</td>\n      <td>0.0</td>\n      <td>0.0</td>\n      <td>0.0</td>\n      <td>1.0</td>\n      <td>0.0</td>\n      <td>0.0</td>\n      <td>...</td>\n      <td>0.0</td>\n      <td>0.0</td>\n      <td>0.0</td>\n      <td>0.0</td>\n      <td>794050</td>\n      <td>1</td>\n      <td>1</td>\n      <td>0</td>\n      <td>0</td>\n      <td>0</td>\n    </tr>\n    <tr>\n      <th>36516</th>\n      <td>248664</td>\n      <td>1</td>\n      <td>0</td>\n      <td>0.0</td>\n      <td>1.0</td>\n      <td>0.0</td>\n      <td>0.0</td>\n      <td>0.0</td>\n      <td>0.0</td>\n      <td>0.0</td>\n      <td>...</td>\n      <td>0.0</td>\n      <td>0.0</td>\n      <td>0.0</td>\n      <td>0.0</td>\n      <td>794051</td>\n      <td>1</td>\n      <td>0</td>\n      <td>0</td>\n      <td>0</td>\n      <td>0</td>\n    </tr>\n    <tr>\n      <th>36517</th>\n      <td>248665</td>\n      <td>1</td>\n      <td>1</td>\n      <td>0.0</td>\n      <td>1.0</td>\n      <td>0.0</td>\n      <td>0.0</td>\n      <td>0.0</td>\n      <td>0.0</td>\n      <td>0.0</td>\n      <td>...</td>\n      <td>0.0</td>\n      <td>0.0</td>\n      <td>0.0</td>\n      <td>0.0</td>\n      <td>794052</td>\n      <td>1</td>\n      <td>0</td>\n      <td>0</td>\n      <td>0</td>\n      <td>0</td>\n    </tr>\n    <tr>\n      <th>36518</th>\n      <td>248666</td>\n      <td>1</td>\n      <td>1</td>\n      <td>0.0</td>\n      <td>1.0</td>\n      <td>0.0</td>\n      <td>0.0</td>\n      <td>0.0</td>\n      <td>0.0</td>\n      <td>0.0</td>\n      <td>...</td>\n      <td>0.0</td>\n      <td>0.0</td>\n      <td>0.0</td>\n      <td>0.0</td>\n      <td>794053</td>\n      <td>1</td>\n      <td>0</td>\n      <td>0</td>\n      <td>0</td>\n      <td>0</td>\n    </tr>\n    <tr>\n      <th>36519</th>\n      <td>248667</td>\n      <td>1</td>\n      <td>0</td>\n      <td>0.0</td>\n      <td>1.0</td>\n      <td>0.0</td>\n      <td>0.0</td>\n      <td>0.0</td>\n      <td>0.0</td>\n      <td>0.0</td>\n      <td>...</td>\n      <td>0.0</td>\n      <td>0.0</td>\n      <td>0.0</td>\n      <td>0.0</td>\n      <td>794054</td>\n      <td>1</td>\n      <td>0</td>\n      <td>0</td>\n      <td>0</td>\n      <td>0</td>\n    </tr>\n  </tbody>\n</table>\n<p>36520 rows × 35 columns</p>\n</div>"
     },
     "metadata": {},
     "execution_count": 52
    }
   ],
   "source": [
    "incidents_X"
   ]
  },
  {
   "cell_type": "code",
   "execution_count": 53,
   "metadata": {},
   "outputs": [
    {
     "output_type": "execute_result",
     "data": {
      "text/plain": "((18080, 35), (18080,), (7169, 35), (7169,), (11271, 35), (11271,))"
     },
     "metadata": {},
     "execution_count": 53
    }
   ],
   "source": [
    "# Split into train, validation, test\n",
    "X_train, X_test, Y_train, Y_test, group_train, group_test = group_train_test_split(incidents_X, incidents_Y, incidents_group, test_size = 0.5)\n",
    "X_val, X_test, Y_val, Y_test, group_val, group_test = group_train_test_split(X_test, Y_test, group_test, test_size=0.4)\n",
    "\n",
    "X_train.shape, Y_train.shape, X_test.shape, Y_test.shape, X_val.shape, Y_val.shape"
   ]
  },
  {
   "cell_type": "code",
   "execution_count": 54,
   "metadata": {},
   "outputs": [],
   "source": [
    "# Quick check that case ids are not in two slots\n",
    "#np.asarray([item in group_test.unique() for item in group_train.unique()]).any()"
   ]
  },
  {
   "cell_type": "markdown",
   "metadata": {},
   "source": [
    "# Trains classifier and evaluates them"
   ]
  },
  {
   "cell_type": "code",
   "execution_count": 55,
   "metadata": {},
   "outputs": [
    {
     "output_type": "execute_result",
     "data": {
      "text/plain": "count    18080.000000\nmean     16399.424723\nstd      26834.985446\nmin          0.000000\n25%          0.000000\n50%       1541.000000\n75%      18203.000000\nmax      86328.000000\nName: remaining_time_article_create_time, dtype: float64"
     },
     "metadata": {},
     "execution_count": 55
    }
   ],
   "source": [
    "Y_train.describe()"
   ]
  },
  {
   "cell_type": "code",
   "execution_count": 56,
   "metadata": {
    "scrolled": true
   },
   "outputs": [],
   "source": [
    "from sklearn.ensemble import RandomForestRegressor\n",
    "from sklearn.metrics import mean_absolute_error, mean_squared_error\n",
    "\n",
    "def train_and_evaluate(X_train, X_val, X_test, Y_train, Y_val, Y_test, cols_to_remove = []):\n",
    "    # Remove some attributes for training\n",
    "    train_onehot = X_train.drop(cols_to_remove, axis=1)\n",
    "    val_onehot = X_val.drop(cols_to_remove, axis=1)\n",
    "    test_onehot = X_test.drop(cols_to_remove, axis=1)\n",
    "\n",
    "    # Now, we are going to build estimators for the remaining time\n",
    "    regressor = RandomForestRegressor(random_state=0,n_jobs=-1)\n",
    "    regressor.fit(train_onehot, Y_train)\n",
    "\n",
    "    # Predict\n",
    "    val_predict = regressor.predict(val_onehot)\n",
    "    test_predict = regressor.predict(test_onehot)\n",
    "    \n",
    "    # And evaluate the model\n",
    "    val_mae = mean_absolute_error(Y_val, val_predict)\n",
    "    val_mse = mean_squared_error(Y_val, val_predict)\n",
    "    test_mae = mean_absolute_error(Y_test, test_predict)\n",
    "    test_mse = mean_squared_error(Y_test, test_predict)\n",
    "\n",
    "    print(\"val: \", val_mae, val_mse )\n",
    "    print(\"test: \", test_mae, test_mse)\n",
    "    \n",
    "    return val_mae, val_mse, test_mae, test_mse"
   ]
  },
  {
   "cell_type": "code",
   "execution_count": 57,
   "metadata": {},
   "outputs": [
    {
     "output_type": "stream",
     "name": "stdout",
     "text": "Start of the experimentation\nval:  6.894791943926912 337.120209386923\ntest:  7.342683777374792 503.69010601199705\n"
    },
    {
     "output_type": "execute_result",
     "data": {
      "text/plain": "(6.894791943926912, 337.120209386923, 7.342683777374792, 503.69010601199705)"
     },
     "metadata": {},
     "execution_count": 57
    }
   ],
   "source": [
    "#columnas a borrar\n",
    "ctr = ['id_case']\n",
    "print(\"Start of the experimentation\")\n",
    "train_and_evaluate(X_train, X_val, X_test, Y_train, Y_val, Y_test, cols_to_remove = ctr)"
   ]
  },
  {
   "cell_type": "code",
   "execution_count": 58,
   "metadata": {},
   "outputs": [],
   "source": [
    "#All (ALL): all attributes of the original datasets are considered.\n",
    "#None (NONE): just the basic attributes of the log, such as name of activity and timestamp are considered.\n",
    "#Automatic (AUTO): attributes detected as relevant for a decision tree algorithm are selected for the experimentation.\n",
    "#Random (RND): a set of randomly selected attributes are taken into account.\n",
    "#Context (CTXT): detected context attributes by the method are included.\n",
    "#Without context (WCTXT): detected context attributes are excluded from the dataset."
   ]
  },
  {
   "cell_type": "markdown",
   "metadata": {},
   "source": [
    "# End classifier"
   ]
  }
 ],
 "metadata": {
  "kernelspec": {
   "display_name": "Python 3",
   "language": "python",
   "name": "python3"
  },
  "language_info": {
   "codemirror_mode": {
    "name": "ipython",
    "version": 3
   },
   "file_extension": ".py",
   "mimetype": "text/x-python",
   "name": "python",
   "nbconvert_exporter": "python",
   "pygments_lexer": "ipython3",
   "version": "3.7.3-final"
  }
 },
 "nbformat": 4,
 "nbformat_minor": 2
}