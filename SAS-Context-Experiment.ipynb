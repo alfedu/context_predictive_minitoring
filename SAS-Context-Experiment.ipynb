{
 "cells": [
  {
   "cell_type": "markdown",
   "metadata": {},
   "source": [
    "# Loads the dataset"
   ]
  },
  {
   "cell_type": "code",
   "execution_count": 1,
   "metadata": {},
   "outputs": [
    {
     "output_type": "stream",
     "name": "stdout",
     "text": "(1056977, 26)\n"
    },
    {
     "output_type": "execute_result",
     "data": {
      "text/plain": "    AUTOR  CANCELADA  RECLAMACION     NODO          RESOLUTOR  \\\n0  M; P A          0            0  CORDOBA  CEGES OPERACIONES   \n1  S; R E          0            0  CORDOBA  CEGES OPERACIONES   \n2  C; L C          0            0   MALAGA  CEGES OPERACIONES   \n\n                                             DESCORG  \\\n0  Create a new request/incident/problem/change/i...   \n1  Create a new request/incident/problem/change/i...   \n2  Create a new request/incident/problem/change/i...   \n\n                   FECHAMOD           TIPOLOGIA      ASUNTO  \\\n0  2014-10-01T02:50:38+0200  Incidencia.Sistema  Datos de i   \n1  2014-10-01T02:50:45+0200  Incidencia.Sistema  Problemas    \n2  2014-10-01T02:50:51+0200    Peticion.Sistema  Instalar U   \n\n           ASIGNATARIO  ...  SOPORTE  SISTEMA         GRUPOAUTOR   ESTADO  \\\n0   MORENO; PARRILLA A  ...        0   CA-SDM  CEGES OPERACIONES  Abierta   \n1    SANCHEZ; ROLDAN E  ...        0   CA-SDM  CEGES OPERACIONES  Abierta   \n2  CABEZUDO; LORENZO C  ...        0   CA-SDM  CEGES OPERACIONES  Abierta   \n\n                   CENTRO    ORIGEN  REAPERTURAINC TYPEORG      RECURSO  \\\n0       H. U. REINA SOFIA  TELEFONO              0    INIT         GIPI   \n1       H. U. REINA SOFIA  TELEFONO              0    INIT  IMPAX_VISOR   \n2  H. G. BASICO ANTEQUERA  TELEFONO              0    INIT     UNIDOSIS   \n\n  MOTIVOCIERRE  \n0          NaN  \n1               \n2               \n\n[3 rows x 26 columns]",
      "text/html": "<div>\n<style scoped>\n    .dataframe tbody tr th:only-of-type {\n        vertical-align: middle;\n    }\n\n    .dataframe tbody tr th {\n        vertical-align: top;\n    }\n\n    .dataframe thead th {\n        text-align: right;\n    }\n</style>\n<table border=\"1\" class=\"dataframe\">\n  <thead>\n    <tr style=\"text-align: right;\">\n      <th></th>\n      <th>AUTOR</th>\n      <th>CANCELADA</th>\n      <th>RECLAMACION</th>\n      <th>NODO</th>\n      <th>RESOLUTOR</th>\n      <th>DESCORG</th>\n      <th>FECHAMOD</th>\n      <th>TIPOLOGIA</th>\n      <th>ASUNTO</th>\n      <th>ASIGNATARIO</th>\n      <th>...</th>\n      <th>SOPORTE</th>\n      <th>SISTEMA</th>\n      <th>GRUPOAUTOR</th>\n      <th>ESTADO</th>\n      <th>CENTRO</th>\n      <th>ORIGEN</th>\n      <th>REAPERTURAINC</th>\n      <th>TYPEORG</th>\n      <th>RECURSO</th>\n      <th>MOTIVOCIERRE</th>\n    </tr>\n  </thead>\n  <tbody>\n    <tr>\n      <th>0</th>\n      <td>M; P A</td>\n      <td>0</td>\n      <td>0</td>\n      <td>CORDOBA</td>\n      <td>CEGES OPERACIONES</td>\n      <td>Create a new request/incident/problem/change/i...</td>\n      <td>2014-10-01T02:50:38+0200</td>\n      <td>Incidencia.Sistema</td>\n      <td>Datos de i</td>\n      <td>MORENO; PARRILLA A</td>\n      <td>...</td>\n      <td>0</td>\n      <td>CA-SDM</td>\n      <td>CEGES OPERACIONES</td>\n      <td>Abierta</td>\n      <td>H. U. REINA SOFIA</td>\n      <td>TELEFONO</td>\n      <td>0</td>\n      <td>INIT</td>\n      <td>GIPI</td>\n      <td>NaN</td>\n    </tr>\n    <tr>\n      <th>1</th>\n      <td>S; R E</td>\n      <td>0</td>\n      <td>0</td>\n      <td>CORDOBA</td>\n      <td>CEGES OPERACIONES</td>\n      <td>Create a new request/incident/problem/change/i...</td>\n      <td>2014-10-01T02:50:45+0200</td>\n      <td>Incidencia.Sistema</td>\n      <td>Problemas</td>\n      <td>SANCHEZ; ROLDAN E</td>\n      <td>...</td>\n      <td>0</td>\n      <td>CA-SDM</td>\n      <td>CEGES OPERACIONES</td>\n      <td>Abierta</td>\n      <td>H. U. REINA SOFIA</td>\n      <td>TELEFONO</td>\n      <td>0</td>\n      <td>INIT</td>\n      <td>IMPAX_VISOR</td>\n      <td></td>\n    </tr>\n    <tr>\n      <th>2</th>\n      <td>C; L C</td>\n      <td>0</td>\n      <td>0</td>\n      <td>MALAGA</td>\n      <td>CEGES OPERACIONES</td>\n      <td>Create a new request/incident/problem/change/i...</td>\n      <td>2014-10-01T02:50:51+0200</td>\n      <td>Peticion.Sistema</td>\n      <td>Instalar U</td>\n      <td>CABEZUDO; LORENZO C</td>\n      <td>...</td>\n      <td>0</td>\n      <td>CA-SDM</td>\n      <td>CEGES OPERACIONES</td>\n      <td>Abierta</td>\n      <td>H. G. BASICO ANTEQUERA</td>\n      <td>TELEFONO</td>\n      <td>0</td>\n      <td>INIT</td>\n      <td>UNIDOSIS</td>\n      <td></td>\n    </tr>\n  </tbody>\n</table>\n<p>3 rows × 26 columns</p>\n</div>"
     },
     "metadata": {},
     "execution_count": 1
    }
   ],
   "source": [
    "import pandas as pd\n",
    "import numpy as np\n",
    "\n",
    "output_2Y = pd.read_csv('1-output_2Y.csv')\n",
    "print(output_2Y.shape)\n",
    "output_2Y.head(3)"
   ]
  },
  {
   "cell_type": "code",
   "execution_count": 2,
   "metadata": {},
   "outputs": [
    {
     "output_type": "execute_result",
     "data": {
      "text/plain": "257278"
     },
     "metadata": {},
     "execution_count": 2
    }
   ],
   "source": [
    "len(output_2Y['ID'].unique())"
   ]
  },
  {
   "cell_type": "code",
   "execution_count": 3,
   "metadata": {},
   "outputs": [],
   "source": [
    "output = output_2Y.sort_values(['ID', 'SECUENCIA']).reset_index(drop=True)"
   ]
  },
  {
   "cell_type": "code",
   "execution_count": 4,
   "metadata": {},
   "outputs": [],
   "source": [
    "resol_mask = output['RESOLUTOR'] == 'RESOLUTOR-PUESTO-USUARIO'"
   ]
  },
  {
   "cell_type": "code",
   "execution_count": 5,
   "metadata": {},
   "outputs": [],
   "source": [
    "output_spu = output.loc[pd.concat([resol_mask, output['ID']], axis=1).groupby('ID').transform('sum')['RESOLUTOR'] > 0].copy()"
   ]
  },
  {
   "cell_type": "code",
   "execution_count": 6,
   "metadata": {},
   "outputs": [
    {
     "output_type": "execute_result",
     "data": {
      "text/plain": "(376670, 26)"
     },
     "metadata": {},
     "execution_count": 6
    }
   ],
   "source": [
    "output_spu.shape"
   ]
  },
  {
   "cell_type": "code",
   "execution_count": 7,
   "metadata": {},
   "outputs": [
    {
     "output_type": "execute_result",
     "data": {
      "text/plain": "65559"
     },
     "metadata": {},
     "execution_count": 7
    }
   ],
   "source": [
    "len(output_spu['ID'].unique())"
   ]
  },
  {
   "cell_type": "code",
   "execution_count": 8,
   "metadata": {},
   "outputs": [
    {
     "output_type": "execute_result",
     "data": {
      "text/plain": "AUTOR             object\nCANCELADA          int64\nRECLAMACION        int64\nNODO              object\nRESOLUTOR         object\nDESCORG           object\nFECHAMOD          object\nTIPOLOGIA         object\nASUNTO            object\nASIGNATARIO       object\nID                 int64\nSECUENCIA          int64\nFECHA             object\nAREA             float64\nPADRE            float64\nPRIORIDAD         object\nSOPORTE            int64\nSISTEMA           object\nGRUPOAUTOR        object\nESTADO            object\nCENTRO            object\nORIGEN            object\nREAPERTURAINC      int64\nTYPEORG           object\nRECURSO           object\nMOTIVOCIERRE      object\ndtype: object"
     },
     "metadata": {},
     "execution_count": 8
    }
   ],
   "source": [
    "output_spu.dtypes"
   ]
  },
  {
   "cell_type": "code",
   "execution_count": 9,
   "metadata": {},
   "outputs": [
    {
     "output_type": "execute_result",
     "data": {
      "text/plain": "False"
     },
     "metadata": {},
     "execution_count": 9
    }
   ],
   "source": [
    "np.any(output_spu['PADRE'].unique() == 0)"
   ]
  },
  {
   "cell_type": "markdown",
   "metadata": {},
   "source": [
    "# Preprocess and encode"
   ]
  },
  {
   "cell_type": "code",
   "execution_count": 10,
   "metadata": {},
   "outputs": [],
   "source": [
    "output_spu.loc[:,'PADRE'] = output_spu.loc[:,'PADRE'].fillna(0)"
   ]
  },
  {
   "cell_type": "code",
   "execution_count": 11,
   "metadata": {},
   "outputs": [
    {
     "output_type": "stream",
     "name": "stdout",
     "text": "Found False\n"
    }
   ],
   "source": [
    "import EventLog as el\n",
    "spulog = el.EventLog(output_spu, 'ID', 'FECHA')"
   ]
  },
  {
   "cell_type": "code",
   "execution_count": 12,
   "metadata": {},
   "outputs": [
    {
     "output_type": "execute_result",
     "data": {
      "text/plain": "['CANCELADA', 'SOPORTE', 'SISTEMA', 'CENTRO', 'ORIGEN', 'REAPERTURAINC']"
     },
     "metadata": {},
     "execution_count": 12
    }
   ],
   "source": [
    "spulog.static_columns()"
   ]
  },
  {
   "cell_type": "code",
   "execution_count": 13,
   "metadata": {},
   "outputs": [
    {
     "output_type": "execute_result",
     "data": {
      "text/plain": "       CANCELADA    RECLAMACION            ID     SECUENCIA  AREA  \\\ncount   376670.0  376670.000000  3.766700e+05  3.766700e+05   0.0   \nmean         0.0       0.016508  2.742874e+06  1.770789e+07   NaN   \nstd          0.0       0.127418  6.925320e+04  4.351400e+05   NaN   \nmin          0.0       0.000000  1.531052e+06  1.676933e+07   NaN   \n25%          0.0       0.000000  2.685230e+06  1.732713e+07   NaN   \n50%          0.0       0.000000  2.745169e+06  1.772202e+07   NaN   \n75%          0.0       0.000000  2.802236e+06  1.809152e+07   NaN   \nmax          0.0       1.000000  2.856466e+06  2.257517e+07   NaN   \n\n              PADRE        SOPORTE  REAPERTURAINC  \ncount  3.766700e+05  376670.000000       376670.0  \nmean   2.021258e+04       0.092752            0.0  \nstd    2.335229e+05       0.290085            0.0  \nmin    0.000000e+00       0.000000            0.0  \n25%    0.000000e+00       0.000000            0.0  \n50%    0.000000e+00       0.000000            0.0  \n75%    0.000000e+00       0.000000            0.0  \nmax    2.911191e+06       1.000000            0.0  ",
      "text/html": "<div>\n<style scoped>\n    .dataframe tbody tr th:only-of-type {\n        vertical-align: middle;\n    }\n\n    .dataframe tbody tr th {\n        vertical-align: top;\n    }\n\n    .dataframe thead th {\n        text-align: right;\n    }\n</style>\n<table border=\"1\" class=\"dataframe\">\n  <thead>\n    <tr style=\"text-align: right;\">\n      <th></th>\n      <th>CANCELADA</th>\n      <th>RECLAMACION</th>\n      <th>ID</th>\n      <th>SECUENCIA</th>\n      <th>AREA</th>\n      <th>PADRE</th>\n      <th>SOPORTE</th>\n      <th>REAPERTURAINC</th>\n    </tr>\n  </thead>\n  <tbody>\n    <tr>\n      <th>count</th>\n      <td>376670.0</td>\n      <td>376670.000000</td>\n      <td>3.766700e+05</td>\n      <td>3.766700e+05</td>\n      <td>0.0</td>\n      <td>3.766700e+05</td>\n      <td>376670.000000</td>\n      <td>376670.0</td>\n    </tr>\n    <tr>\n      <th>mean</th>\n      <td>0.0</td>\n      <td>0.016508</td>\n      <td>2.742874e+06</td>\n      <td>1.770789e+07</td>\n      <td>NaN</td>\n      <td>2.021258e+04</td>\n      <td>0.092752</td>\n      <td>0.0</td>\n    </tr>\n    <tr>\n      <th>std</th>\n      <td>0.0</td>\n      <td>0.127418</td>\n      <td>6.925320e+04</td>\n      <td>4.351400e+05</td>\n      <td>NaN</td>\n      <td>2.335229e+05</td>\n      <td>0.290085</td>\n      <td>0.0</td>\n    </tr>\n    <tr>\n      <th>min</th>\n      <td>0.0</td>\n      <td>0.000000</td>\n      <td>1.531052e+06</td>\n      <td>1.676933e+07</td>\n      <td>NaN</td>\n      <td>0.000000e+00</td>\n      <td>0.000000</td>\n      <td>0.0</td>\n    </tr>\n    <tr>\n      <th>25%</th>\n      <td>0.0</td>\n      <td>0.000000</td>\n      <td>2.685230e+06</td>\n      <td>1.732713e+07</td>\n      <td>NaN</td>\n      <td>0.000000e+00</td>\n      <td>0.000000</td>\n      <td>0.0</td>\n    </tr>\n    <tr>\n      <th>50%</th>\n      <td>0.0</td>\n      <td>0.000000</td>\n      <td>2.745169e+06</td>\n      <td>1.772202e+07</td>\n      <td>NaN</td>\n      <td>0.000000e+00</td>\n      <td>0.000000</td>\n      <td>0.0</td>\n    </tr>\n    <tr>\n      <th>75%</th>\n      <td>0.0</td>\n      <td>0.000000</td>\n      <td>2.802236e+06</td>\n      <td>1.809152e+07</td>\n      <td>NaN</td>\n      <td>0.000000e+00</td>\n      <td>0.000000</td>\n      <td>0.0</td>\n    </tr>\n    <tr>\n      <th>max</th>\n      <td>0.0</td>\n      <td>1.000000</td>\n      <td>2.856466e+06</td>\n      <td>2.257517e+07</td>\n      <td>NaN</td>\n      <td>2.911191e+06</td>\n      <td>1.000000</td>\n      <td>0.0</td>\n    </tr>\n  </tbody>\n</table>\n</div>"
     },
     "metadata": {},
     "execution_count": 13
    }
   ],
   "source": [
    "spulog.df.describe()"
   ]
  },
  {
   "cell_type": "code",
   "execution_count": 14,
   "metadata": {},
   "outputs": [
    {
     "output_type": "execute_result",
     "data": {
      "text/plain": "[array([0], dtype=int64),\n array([0, 1], dtype=int64),\n array([0, 1], dtype=int64),\n array([0], dtype=int64)]"
     },
     "metadata": {},
     "execution_count": 14
    }
   ],
   "source": [
    "[np.unique(spulog.df[x]) for x in ['CANCELADA', 'RECLAMACION', 'SOPORTE', 'REAPERTURAINC']]"
   ]
  },
  {
   "cell_type": "code",
   "execution_count": 15,
   "metadata": {},
   "outputs": [
    {
     "output_type": "execute_result",
     "data": {
      "text/plain": "         AUTOR     NODO                 RESOLUTOR  \\\ncount   376670   376670                    376670   \nunique    2863        9                       122   \ntop     P; U S  SEVILLA  RESOLUTOR-PUESTO-USUARIO   \nfreq     90801    75987                    241733   \n\n                                                  DESCORG  \\\ncount                                              376670   \nunique                                              12772   \ntop     Create a new request/incident/problem/change/i...   \nfreq                                                66757   \n\n                        FECHAMOD            TIPOLOGIA      ASUNTO  \\\ncount                     376670               376670      376653   \nunique                    333450                   66        9067   \ntop     2014-11-06T10:44:48+0100  Incidencia.Hardware  Problemas    \nfreq                          25               104931       41225   \n\n              ASIGNATARIO PRIORIDAD SISTEMA         GRUPOAUTOR   ESTADO  \\\ncount              376670    376670  376670             349044   376670   \nunique                724         3       1                 91        6   \ntop     PUESTO; USUARIO S        P3  CA-SDM  CEGES OPERACIONES  Abierta   \nfreq               241715    376224  376670             121993   226068   \n\n                        CENTRO    ORIGEN TYPEORG             RECURSO  \\\ncount                   376670    376670  376670              376670   \nunique                    1665         5       9               12806   \ntop     H. U. VIRGEN DEL ROCIO  TELEFONO      TR  NO_RECEPCIONADO_HW   \nfreq                     14469    230555  137908               62047   \n\n       MOTIVOCIERRE  \ncount        104007  \nunique          245  \ntop                  \nfreq          74751  ",
      "text/html": "<div>\n<style scoped>\n    .dataframe tbody tr th:only-of-type {\n        vertical-align: middle;\n    }\n\n    .dataframe tbody tr th {\n        vertical-align: top;\n    }\n\n    .dataframe thead th {\n        text-align: right;\n    }\n</style>\n<table border=\"1\" class=\"dataframe\">\n  <thead>\n    <tr style=\"text-align: right;\">\n      <th></th>\n      <th>AUTOR</th>\n      <th>NODO</th>\n      <th>RESOLUTOR</th>\n      <th>DESCORG</th>\n      <th>FECHAMOD</th>\n      <th>TIPOLOGIA</th>\n      <th>ASUNTO</th>\n      <th>ASIGNATARIO</th>\n      <th>PRIORIDAD</th>\n      <th>SISTEMA</th>\n      <th>GRUPOAUTOR</th>\n      <th>ESTADO</th>\n      <th>CENTRO</th>\n      <th>ORIGEN</th>\n      <th>TYPEORG</th>\n      <th>RECURSO</th>\n      <th>MOTIVOCIERRE</th>\n    </tr>\n  </thead>\n  <tbody>\n    <tr>\n      <th>count</th>\n      <td>376670</td>\n      <td>376670</td>\n      <td>376670</td>\n      <td>376670</td>\n      <td>376670</td>\n      <td>376670</td>\n      <td>376653</td>\n      <td>376670</td>\n      <td>376670</td>\n      <td>376670</td>\n      <td>349044</td>\n      <td>376670</td>\n      <td>376670</td>\n      <td>376670</td>\n      <td>376670</td>\n      <td>376670</td>\n      <td>104007</td>\n    </tr>\n    <tr>\n      <th>unique</th>\n      <td>2863</td>\n      <td>9</td>\n      <td>122</td>\n      <td>12772</td>\n      <td>333450</td>\n      <td>66</td>\n      <td>9067</td>\n      <td>724</td>\n      <td>3</td>\n      <td>1</td>\n      <td>91</td>\n      <td>6</td>\n      <td>1665</td>\n      <td>5</td>\n      <td>9</td>\n      <td>12806</td>\n      <td>245</td>\n    </tr>\n    <tr>\n      <th>top</th>\n      <td>P; U S</td>\n      <td>SEVILLA</td>\n      <td>RESOLUTOR-PUESTO-USUARIO</td>\n      <td>Create a new request/incident/problem/change/i...</td>\n      <td>2014-11-06T10:44:48+0100</td>\n      <td>Incidencia.Hardware</td>\n      <td>Problemas</td>\n      <td>PUESTO; USUARIO S</td>\n      <td>P3</td>\n      <td>CA-SDM</td>\n      <td>CEGES OPERACIONES</td>\n      <td>Abierta</td>\n      <td>H. U. VIRGEN DEL ROCIO</td>\n      <td>TELEFONO</td>\n      <td>TR</td>\n      <td>NO_RECEPCIONADO_HW</td>\n      <td></td>\n    </tr>\n    <tr>\n      <th>freq</th>\n      <td>90801</td>\n      <td>75987</td>\n      <td>241733</td>\n      <td>66757</td>\n      <td>25</td>\n      <td>104931</td>\n      <td>41225</td>\n      <td>241715</td>\n      <td>376224</td>\n      <td>376670</td>\n      <td>121993</td>\n      <td>226068</td>\n      <td>14469</td>\n      <td>230555</td>\n      <td>137908</td>\n      <td>62047</td>\n      <td>74751</td>\n    </tr>\n  </tbody>\n</table>\n</div>"
     },
     "metadata": {},
     "execution_count": 15
    }
   ],
   "source": [
    "spulog.df.select_dtypes('object').describe()"
   ]
  },
  {
   "cell_type": "code",
   "execution_count": 16,
   "metadata": {},
   "outputs": [],
   "source": [
    "spulog.df['GRUPOAUTOR'].fillna('0', inplace=True)"
   ]
  },
  {
   "cell_type": "code",
   "execution_count": 17,
   "metadata": {},
   "outputs": [
    {
     "output_type": "execute_result",
     "data": {
      "text/plain": "23"
     },
     "metadata": {},
     "execution_count": 17
    }
   ],
   "source": [
    "np.sum((spulog.df['MOTIVOCIERRE'].value_counts()/len(spulog.df)*100) > 0.1)"
   ]
  },
  {
   "cell_type": "code",
   "execution_count": 18,
   "metadata": {},
   "outputs": [
    {
     "output_type": "execute_result",
     "data": {
      "text/plain": "136"
     },
     "metadata": {},
     "execution_count": 18
    }
   ],
   "source": [
    "np.sum(spulog.df.CENTRO.value_counts()/len(spulog.df)*100 > 0.1)"
   ]
  },
  {
   "cell_type": "code",
   "execution_count": 19,
   "metadata": {},
   "outputs": [
    {
     "output_type": "execute_result",
     "data": {
      "text/plain": "136"
     },
     "metadata": {},
     "execution_count": 19
    }
   ],
   "source": [
    "np.sum(spulog.df.CENTRO.value_counts()/len(spulog.df)*100>0.1)"
   ]
  },
  {
   "cell_type": "code",
   "execution_count": 20,
   "metadata": {},
   "outputs": [
    {
     "output_type": "execute_result",
     "data": {
      "text/plain": "['AUTOR', 'ASIGNATARIO', 'RECURSO', 'MOTIVOCIERRE']"
     },
     "metadata": {},
     "execution_count": 20
    }
   ],
   "source": [
    "from sklearn.preprocessing import OneHotEncoder\n",
    "\n",
    "centros = spulog.df.CENTRO.value_counts()/len(spulog.df) * 100\n",
    "centros_encoder = OneHotEncoder(sparse=False, categories=[centros[centros > 0.1].index.values], handle_unknown='ignore')\n",
    "\n",
    "encoder = el.LogEncoder(transformers = [('static_drop', 'drop', ['SISTEMA']),\n",
    "                                     ('static_keep', 'keep', ['SOPORTE','ID']),\n",
    "                                     ('static_onehot', el.WrapperEncoder(spulog.id_column,OneHotEncoder(sparse=False)), ['ORIGEN']),\n",
    "                                     ('static_onehot_filter', el.WrapperEncoder(spulog.id_column,centros_encoder), ['CENTRO']),\n",
    "                                     ('dynamic_drop', 'drop', ['FECHAMOD', 'DESCORG', 'ASUNTO', 'SECUENCIA', 'PADRE', 'AREA']),\n",
    "                                     ('dynamic_keep', 'keep', ['CANCELADA', 'RECLAMACION','REAPERTURAINC']),\n",
    "                                     ('dynamic_freq', el.FrequencyEncoder(spulog.id_column), ['NODO', 'RESOLUTOR', 'TIPOLOGIA', 'PRIORIDAD', 'GRUPOAUTOR', 'ESTADO', 'TYPEORG']),\n",
    "                                     ('timestamp', el.TimestampFeatures(spulog.id_column, ['event_order', 'time_from_start', 'elapsed_time_from_event','remaining_time']), [spulog.timestamp_column])])\n",
    "\n",
    "\n",
    "encoder.check_unused(spulog)"
   ]
  },
  {
   "cell_type": "code",
   "execution_count": 21,
   "metadata": {},
   "outputs": [
    {
     "output_type": "stream",
     "name": "stdout",
     "text": "Fitting static_drop\nFitting static_keep\nFitting static_onehot\nFitting static_onehot_filter\nFitting dynamic_drop\nFitting dynamic_keep\nFitting dynamic_freq\nFitting timestamp\nTransforming static_drop\nTransforming static_keep\nTransforming static_onehot\nTransforming static_onehot_filter\nTransforming dynamic_drop\nTransforming dynamic_keep\nTransforming dynamic_freq\nTransforming timestamp\n0        2015-01-17 00:07:35+00:00\n1        2015-01-17 00:07:35+00:00\n2        2015-01-17 00:07:35+00:00\n3        2015-01-17 00:07:35+00:00\n4        2015-01-17 00:07:35+00:00\n5        2015-01-17 00:07:35+00:00\n6        2015-01-17 00:07:35+00:00\n7        2015-01-17 00:07:35+00:00\n8        2015-01-17 00:07:35+00:00\n9        2015-01-17 00:07:35+00:00\n10       2015-01-17 00:07:35+00:00\n11       2014-10-27 15:06:24+00:00\n12       2014-10-27 15:06:24+00:00\n13       2014-10-27 15:06:24+00:00\n14       2014-10-27 15:06:24+00:00\n15       2014-10-27 15:06:24+00:00\n16       2014-10-27 15:06:24+00:00\n17       2014-10-27 15:06:24+00:00\n18       2014-10-27 15:06:24+00:00\n19       2014-10-27 15:06:24+00:00\n20       2014-10-27 15:06:24+00:00\n21       2014-10-27 15:07:38+00:00\n22       2014-10-27 15:07:38+00:00\n23       2014-10-27 15:07:38+00:00\n24       2014-10-27 15:07:38+00:00\n25       2014-10-27 15:07:38+00:00\n26       2014-10-27 15:07:38+00:00\n27       2014-10-27 15:07:38+00:00\n28       2015-02-21 00:12:31+00:00\n29       2015-02-21 00:12:31+00:00\n                    ...           \n376640   2015-02-24 12:36:48+00:00\n376641   2015-02-24 12:36:48+00:00\n376642   2015-02-24 12:35:46+00:00\n376643   2015-02-24 12:35:46+00:00\n376644   2015-02-24 12:35:31+00:00\n376645   2015-02-24 12:35:31+00:00\n376646   2015-02-24 12:36:02+00:00\n376647   2015-02-24 12:36:02+00:00\n376648   2015-02-24 12:36:02+00:00\n376649   2015-02-24 12:37:53+00:00\n376650   2015-02-24 12:37:53+00:00\n376651   2015-02-24 12:35:46+00:00\n376652   2015-02-24 12:35:46+00:00\n376653   2015-02-24 12:37:29+00:00\n376654   2015-02-24 12:37:29+00:00\n376655   2015-02-24 12:37:29+00:00\n376656   2015-02-24 12:38:13+00:00\n376657   2015-02-24 12:38:13+00:00\n376658   2015-02-24 12:39:32+00:00\n376659   2015-02-24 12:39:32+00:00\n376660   2015-02-24 12:39:47+00:00\n376661   2015-02-24 12:39:47+00:00\n376662   2015-02-24 12:40:05+00:00\n376663   2015-02-24 12:40:05+00:00\n376664   2015-02-24 12:38:25+00:00\n376665   2015-02-24 12:38:25+00:00\n376666   2015-02-24 12:39:44+00:00\n376667   2015-02-24 12:39:44+00:00\n376668   2015-02-24 12:39:44+00:00\n376669   2015-02-24 12:39:44+00:00\nName: FECHA, Length: 376670, dtype: datetime64[ns, UTC]\n------\n0        2014-10-21 08:49:38+00:00\n1        2014-10-21 09:11:35+00:00\n2        2014-10-21 09:23:05+00:00\n3        2014-10-27 10:57:29+00:00\n4        2014-10-27 11:02:23+00:00\n5        2014-10-27 11:02:43+00:00\n6        2014-10-27 11:53:29+00:00\n7        2014-10-27 12:36:34+00:00\n8        2015-01-09 07:36:18+00:00\n9        2015-01-09 08:38:18+00:00\n10       2015-01-17 00:07:35+00:00\n11       2014-10-22 09:14:51+00:00\n12       2014-10-22 09:15:06+00:00\n13       2014-10-22 10:26:37+00:00\n14       2014-10-22 10:28:51+00:00\n15       2014-10-22 10:30:39+00:00\n16       2014-10-22 10:33:44+00:00\n17       2014-10-22 10:57:45+00:00\n18       2014-10-23 08:51:46+00:00\n19       2014-10-27 13:40:00+00:00\n20       2014-10-27 15:06:24+00:00\n21       2014-10-22 09:14:50+00:00\n22       2014-10-22 10:29:33+00:00\n23       2014-10-22 11:14:46+00:00\n24       2014-10-22 11:15:01+00:00\n25       2014-10-22 12:26:34+00:00\n26       2014-10-27 13:40:45+00:00\n27       2014-10-27 15:07:38+00:00\n28       2015-02-13 07:54:40+00:00\n29       2015-02-13 08:13:38+00:00\n                    ...           \n376640   2015-02-24 12:32:15+00:00\n376641   2015-02-24 12:36:48+00:00\n376642   2015-02-24 12:32:23+00:00\n376643   2015-02-24 12:35:46+00:00\n376644   2015-02-24 12:33:41+00:00\n376645   2015-02-24 12:35:31+00:00\n376646   2015-02-24 12:34:37+00:00\n376647   2015-02-24 12:34:43+00:00\n376648   2015-02-24 12:36:02+00:00\n376649   2015-02-24 12:35:00+00:00\n376650   2015-02-24 12:37:53+00:00\n376651   2015-02-24 12:35:41+00:00\n376652   2015-02-24 12:35:46+00:00\n376653   2015-02-24 12:35:43+00:00\n376654   2015-02-24 12:35:49+00:00\n376655   2015-02-24 12:37:29+00:00\n376656   2015-02-24 12:35:55+00:00\n376657   2015-02-24 12:38:13+00:00\n376658   2015-02-24 12:37:44+00:00\n376659   2015-02-24 12:39:32+00:00\n376660   2015-02-24 12:38:02+00:00\n376661   2015-02-24 12:39:47+00:00\n376662   2015-02-24 12:38:05+00:00\n376663   2015-02-24 12:40:05+00:00\n376664   2015-02-24 12:38:19+00:00\n376665   2015-02-24 12:38:25+00:00\n376666   2015-02-24 12:38:53+00:00\n376667   2015-02-24 12:39:00+00:00\n376668   2015-02-24 12:39:43+00:00\n376669   2015-02-24 12:39:44+00:00\nName: FECHA, Length: 376670, dtype: datetime64[ns, UTC]\n"
    },
    {
     "output_type": "execute_result",
     "data": {
      "text/plain": "   SOPORTE       ID  x0_EMAIL  x0_FAX  x0_INTRANET  x0_OTROS  x0_TELEFONO  \\\n0        0  1531052       0.0     0.0          0.0       1.0          0.0   \n1        0  1531052       0.0     0.0          0.0       1.0          0.0   \n2        0  1531052       0.0     0.0          0.0       1.0          0.0   \n3        0  1531052       0.0     0.0          0.0       1.0          0.0   \n4        0  1531052       0.0     0.0          0.0       1.0          0.0   \n\n   x0_H. U. VIRGEN DEL ROCIO  x0_H. U. REINA SOFIA  x0_H. U. DE JEREZ  ...  \\\n0                        0.0                   0.0                0.0  ...   \n1                        0.0                   0.0                0.0  ...   \n2                        0.0                   0.0                0.0  ...   \n3                        0.0                   0.0                0.0  ...   \n4                        0.0                   0.0                0.0  ...   \n\n   TYPEORG_INIT  TYPEORG_RE  TYPEORG_RECLAMAR  TYPEORG_RO  TYPEORG_ST  \\\n0             0           0                 0           0           0   \n1             0           0                 0           0           0   \n2             0           0                 0           0           0   \n3             0           0                 0           0           0   \n4             0           0                 0           0           0   \n\n   TYPEORG_TR  event_order_FECHA  time_from_start_FECHA  remaining_time_FECHA  \\\n0           1                  0        0 days 00:00:00      87 days 15:17:57   \n1           2                  1        0 days 00:21:57      87 days 14:56:00   \n2           3                  2        0 days 00:33:27      87 days 14:44:30   \n3           4                  3        6 days 02:07:51      81 days 13:10:06   \n4           5                  4        6 days 02:12:45      81 days 13:05:12   \n\n   elapsed_time_from_event_FECHA  \n0                0 days 00:00:00  \n1                0 days 00:21:57  \n2                0 days 00:11:30  \n3                6 days 01:34:24  \n4                0 days 00:04:54  \n\n[5 rows x 457 columns]",
      "text/html": "<div>\n<style scoped>\n    .dataframe tbody tr th:only-of-type {\n        vertical-align: middle;\n    }\n\n    .dataframe tbody tr th {\n        vertical-align: top;\n    }\n\n    .dataframe thead th {\n        text-align: right;\n    }\n</style>\n<table border=\"1\" class=\"dataframe\">\n  <thead>\n    <tr style=\"text-align: right;\">\n      <th></th>\n      <th>SOPORTE</th>\n      <th>ID</th>\n      <th>x0_EMAIL</th>\n      <th>x0_FAX</th>\n      <th>x0_INTRANET</th>\n      <th>x0_OTROS</th>\n      <th>x0_TELEFONO</th>\n      <th>x0_H. U. VIRGEN DEL ROCIO</th>\n      <th>x0_H. U. REINA SOFIA</th>\n      <th>x0_H. U. DE JEREZ</th>\n      <th>...</th>\n      <th>TYPEORG_INIT</th>\n      <th>TYPEORG_RE</th>\n      <th>TYPEORG_RECLAMAR</th>\n      <th>TYPEORG_RO</th>\n      <th>TYPEORG_ST</th>\n      <th>TYPEORG_TR</th>\n      <th>event_order_FECHA</th>\n      <th>time_from_start_FECHA</th>\n      <th>remaining_time_FECHA</th>\n      <th>elapsed_time_from_event_FECHA</th>\n    </tr>\n  </thead>\n  <tbody>\n    <tr>\n      <th>0</th>\n      <td>0</td>\n      <td>1531052</td>\n      <td>0.0</td>\n      <td>0.0</td>\n      <td>0.0</td>\n      <td>1.0</td>\n      <td>0.0</td>\n      <td>0.0</td>\n      <td>0.0</td>\n      <td>0.0</td>\n      <td>...</td>\n      <td>0</td>\n      <td>0</td>\n      <td>0</td>\n      <td>0</td>\n      <td>0</td>\n      <td>1</td>\n      <td>0</td>\n      <td>0 days 00:00:00</td>\n      <td>87 days 15:17:57</td>\n      <td>0 days 00:00:00</td>\n    </tr>\n    <tr>\n      <th>1</th>\n      <td>0</td>\n      <td>1531052</td>\n      <td>0.0</td>\n      <td>0.0</td>\n      <td>0.0</td>\n      <td>1.0</td>\n      <td>0.0</td>\n      <td>0.0</td>\n      <td>0.0</td>\n      <td>0.0</td>\n      <td>...</td>\n      <td>0</td>\n      <td>0</td>\n      <td>0</td>\n      <td>0</td>\n      <td>0</td>\n      <td>2</td>\n      <td>1</td>\n      <td>0 days 00:21:57</td>\n      <td>87 days 14:56:00</td>\n      <td>0 days 00:21:57</td>\n    </tr>\n    <tr>\n      <th>2</th>\n      <td>0</td>\n      <td>1531052</td>\n      <td>0.0</td>\n      <td>0.0</td>\n      <td>0.0</td>\n      <td>1.0</td>\n      <td>0.0</td>\n      <td>0.0</td>\n      <td>0.0</td>\n      <td>0.0</td>\n      <td>...</td>\n      <td>0</td>\n      <td>0</td>\n      <td>0</td>\n      <td>0</td>\n      <td>0</td>\n      <td>3</td>\n      <td>2</td>\n      <td>0 days 00:33:27</td>\n      <td>87 days 14:44:30</td>\n      <td>0 days 00:11:30</td>\n    </tr>\n    <tr>\n      <th>3</th>\n      <td>0</td>\n      <td>1531052</td>\n      <td>0.0</td>\n      <td>0.0</td>\n      <td>0.0</td>\n      <td>1.0</td>\n      <td>0.0</td>\n      <td>0.0</td>\n      <td>0.0</td>\n      <td>0.0</td>\n      <td>...</td>\n      <td>0</td>\n      <td>0</td>\n      <td>0</td>\n      <td>0</td>\n      <td>0</td>\n      <td>4</td>\n      <td>3</td>\n      <td>6 days 02:07:51</td>\n      <td>81 days 13:10:06</td>\n      <td>6 days 01:34:24</td>\n    </tr>\n    <tr>\n      <th>4</th>\n      <td>0</td>\n      <td>1531052</td>\n      <td>0.0</td>\n      <td>0.0</td>\n      <td>0.0</td>\n      <td>1.0</td>\n      <td>0.0</td>\n      <td>0.0</td>\n      <td>0.0</td>\n      <td>0.0</td>\n      <td>...</td>\n      <td>0</td>\n      <td>0</td>\n      <td>0</td>\n      <td>0</td>\n      <td>0</td>\n      <td>5</td>\n      <td>4</td>\n      <td>6 days 02:12:45</td>\n      <td>81 days 13:05:12</td>\n      <td>0 days 00:04:54</td>\n    </tr>\n  </tbody>\n</table>\n<p>5 rows × 457 columns</p>\n</div>"
     },
     "metadata": {},
     "execution_count": 21
    }
   ],
   "source": [
    "dataset = encoder.fit_transform(spulog)\n",
    "dataset.head(5)"
   ]
  },
  {
   "cell_type": "code",
   "execution_count": 22,
   "metadata": {},
   "outputs": [
    {
     "output_type": "execute_result",
     "data": {
      "text/plain": "True"
     },
     "metadata": {},
     "execution_count": 22
    }
   ],
   "source": [
    "np.all(dataset.isnull().sum()==0)"
   ]
  },
  {
   "cell_type": "code",
   "execution_count": 23,
   "metadata": {
    "scrolled": false
   },
   "outputs": [
    {
     "output_type": "execute_result",
     "data": {
      "text/plain": " 0  2856458       0.0     0.0          0.0       0.0   \n376660        0  2856460       0.0     0.0          0.0       0.0   \n376661        0  2856460       0.0     0.0          0.0       0.0   \n376662        0  2856461       0.0     0.0          0.0       1.0   \n376663        0  2856461       0.0     0.0          0.0       1.0   \n376664        1  2856464       0.0     0.0          1.0       0.0   \n376665        1  2856464       0.0     0.0          1.0       0.0   \n376666        0  2856466       0.0     0.0          1.0       0.0   \n376667        0  2856466       0.0     0.0          1.0       0.0   \n376668        0  2856466       0.0     0.0          1.0       0.0   \n376669        0  2856466       0.0     0.0          1.0       0.0   \n\n        x0_TELEFONO  x0_H. U. VIRGEN DEL ROCIO  x0_H. U. REINA SOFIA  \\\n0               0.0                        0.0                   0.0   \n1               0.0                        0.0                   0.0   \n2               0.0                        0.0                   0.0   \n3               0.0                        0.0                   0.0   \n4               0.0                        0.0                   0.0   \n5               0.0                        0.0                   0.0   \n6               0.0                        0.0                   0.0   \n7               0.0                        0.0                   0.0   \n8               0.0                        0.0                   0.0   \n9               0.0                        0.0                   0.0   \n10              0.0                        0.0                   0.0   \n11              0.0                        0.0                   0.0   \n12              0.0                        0.0                   0.0   \n13              0.0                        0.0                   0.0   \n14              0.0                        0.0                   0.0   \n15              0.0                        0.0                   0.0   \n16              0.0                        0.0                   0.0   \n17              0.0                        0.0                   0.0   \n18              0.0                        0.0                   0.0   \n19              0.0                        0.0                   0.0   \n20              0.0                        0.0                   0.0   \n21              0.0                        0.0                   0.0   \n22              0.0                        0.0                   0.0   \n23              0.0                        0.0                   0.0   \n24              0.0                        0.0                   0.0   \n25              0.0                        0.0                   0.0   \n26              0.0                        0.0                   0.0   \n27              0.0                        0.0                   0.0   \n28              0.0                        0.0                   0.0   \n29              0.0                        0.0                   0.0   \n...             ...                        ...                   ...   \n376640          1.0                        0.0                   0.0   \n376641          1.0                        0.0                   0.0   \n376642          1.0                        1.0                   0.0   \n376643          1.0                        1.0                   0.0   \n376644          0.0                        0.0                   0.0   \n376645          0.0                        0.0                   0.0   \n376646          0.0                        0.0                   0.0   \n376647          0.0                        0.0                   0.0   \n376648          0.0                        0.0                   0.0   \n376649          1.0                        0.0                   0.0   \n376650          1.0                        0.0                   0.0   \n376651          0.0                        0.0                   0.0   \n376652          0.0                        0.0                   0.0   \n376653          0.0                        0.0                   0.0   \n376654          0.0                        0.0                   0.0   \n376655          0.0                        0.0                   0.0   \n376656          1.0                        0.0                   0.0   \n376657          1.0                        0.0                   0.0   \n376658          1.0                        0.0                   0.0   \n376659          1.0                        0.0                   0.0   \n376660          1.0                        0.0                   0.0   \n376661          1.0                        0.0                   0.0   \n376662          0.0                        0.0                   0.0   \n376663          0.0                        0.0                   0.0   \n376664          0.0                        0.0                   0.0   \n376665          0.0                        0.0                   0.0   \n376666          0.0                        0.0                   0.0   \n376667          0.0                        0.0                   0.0   \n376668          0.0                        0.0                   0.0   \n376669          0.0                        0.0                   0.0   \n\n        x0_H. U. DE JEREZ  ...  TYPEORG_INIT  TYPEORG_RE  TYPEORG_RECLAMAR  \\\n0                     0.0  ...             0           0                 0   \n1                     0.0  ...             0           0                 0   \n2                     0.0  ...             0           0                 0   \n3                     0.0  ...             0           0                 0   \n4                     0.0  ...             0           0                 0   \n5                     0.0  ...             0           0                 0   \n6                     0.0  ...             0           0                 0   \n7                     0.0  ...             0           0                 0   \n8                     0.0  ...             0           0                 0   \n9                     0.0  ...             0           1                 0   \n10                    0.0  ...             0           0                 0   \n11                    0.0  ...             0           0                 0   \n12                    0.0  ...             0           0                 0   \n13                    0.0  ...             0           0                 0   \n14                    0.0  ...             0           0                 0   \n15                    0.0  ...             0           0                 0   \n16                    0.0  ...             0           0                 0   \n17                    0.0  ...             0           0                 0   \n18                    0.0  ...             0           0                 0   \n19                    0.0  ...             0           0                 0   \n20                    0.0  ...             0           0                 0   \n21                    0.0  ...             0           0                 0   \n22                    0.0  ...             0           0                 0   \n23                    0.0  ...             0           0                 0   \n24                    0.0  ...             0           0                 0   \n25                    0.0  ...             0           0                 0   \n26                    0.0  ...             0           0                 0   \n27                    0.0  ...             0           0                 0   \n28                    0.0  ...             0           0                 0   \n29                    0.0  ...             0           1                 0   \n...                   ...  ...           ...         ...               ...   \n376640                0.0  ...             1           0                 0   \n376641                0.0  ...             0           0                 0   \n376642                0.0  ...             1           0                 0   \n376643                0.0  ...             0           0                 0   \n376644                0.0  ...             1           0                 0   \n376645                0.0  ...             0           0                 0   \n376646                0.0  ...             1           0                 0   \n376647                0.0  ...             0           0                 0   \n376648                0.0  ...             0           0                 0   \n376649                0.0  ...             1           0                 0   \n376650                0.0  ...             0           0                 0   \n376651                0.0  ...             1           0                 0   \n376652                0.0  ...             0           0                 0   \n376653                0.0  ...             1           0                 0   \n376654                0.0  ...             0           0                 0   \n376655                0.0  ...             0           0                 0   \n376656                0.0  ...             1           0                 0   \n376657                0.0  ...             0           0                 0   \n376658                0.0  ...             1           0                 0   \n376659                0.0  ...             0           0                 0   \n376660                0.0  ...             1           0                 0   \n376661                0.0  ...             0           0                 0   \n376662                0.0  ...             1           0                 0   \n376663                0.0  ...             0           0                 0   \n376664                0.0  ...             1           0                 0   \n376665                0.0  ...             0           0                 0   \n376666                0.0  ...             1           0                 0   \n376667                0.0  ...             0           0                 0   \n376668                0.0  ...             0           0                 0   \n376669                0.0  ...             0           0                 0   \n\n        TYPEORG_RO  TYPEORG_ST  TYPEORG_TR  event_order_FECHA  \\\n0                0           0           1                  0   \n1                0           0           2                  1   \n2                0           0           3                  2   \n3                0           0           4                  3   \n4                0           0           5                  4   \n5                0           0           6                  5   \n6                0           0           7                  6   \n7                0           0           8                  7   \n8                0           0           9                  8   \n9                0           0           0                  9   \n10               0           0           0                 10   \n11               0           0           1                  0   \n12               0           0           2                  1   \n13               0           0           3                  2   \n14               0           0           4                  3   \n15               0           0           5                  4   \n16               0           0           6                  5   \n17               0           0           7                  6   \n18               0           1           0                  7   \n19               0           0           8                  8   \n20               0           0           9                  9   \n21               0           0           1                  0   \n22               0           0           2                  1   \n23               0           1           0                  2   \n24               0           0           3                  3   \n25               0           2           0                  4   \n26               0           0           4                  5   \n27               0           0           5                  6   \n28               0           0           1                  0   \n29               0           0           0                  1   \n...            ...         ...         ...                ...   \n376640           0           0           0                  0   \n376641           0           0           1                  1   \n376642           0           0           0                  0   \n376643           0           0           1                  1   \n376644           0           0           0                  0   \n376645           0           0           1                  1   \n376646           0           0           0                  0   \n376647           0           0           1                  1   \n376648           0           0           2                  2   \n376649           0           0           0                  0   \n376650           0           0           1                  1   \n376651           0           0           0                  0   \n376652           0           0           1                  1   \n376653           0           0           0                  0   \n376654           0           0           1                  1   \n376655           0           0           2                  2   \n376656           0           0           0                  0   \n376657           0           0           1                  1   \n376658           0           0           0                  0   \n376659           0           0           1                  1   \n376660           0           0           0                  0   \n376661           0           0           1                  1   \n376662           0           0           0                  0   \n376663           0           0           1                  1   \n376664           0           0           0                  0   \n376665           0           0           1                  1   \n376666           0           0           0                  0   \n376667           0           0           1                  1   \n376668           0           0           2                  2   \n376669           0           0           0                  3   \n\n        time_from_start_FECHA  remaining_time_FECHA  \\\n0             0 days 00:00:00      87 days 15:17:57   \n1             0 days 00:21:57      87 days 14:56:00   \n2             0 days 00:33:27      87 days 14:44:30   \n3             6 days 02:07:51      81 days 13:10:06   \n4             6 days 02:12:45      81 days 13:05:12   \n5             6 days 02:13:05      81 days 13:04:52   \n6             6 days 03:03:51      81 days 12:14:06   \n7             6 days 03:46:56      81 days 11:31:01   \n8            79 days 22:46:40       7 days 16:31:17   \n9            79 days 23:48:40       7 days 15:29:17   \n10           87 days 15:17:57       0 days 00:00:00   \n11            0 days 00:00:00       5 days 05:51:33   \n12            0 days 00:00:15       5 days 05:51:18   \n13            0 days 01:11:46       5 days 04:39:47   \n14            0 days 01:14:00       5 days 04:37:33   \n15            0 days 01:15:48       5 days 04:35:45   \n16            0 days 01:18:53       5 days 04:32:40   \n17            0 days 01:42:54       5 days 04:08:39   \n18            0 days 23:36:55       4 days 06:14:38   \n19            5 days 04:25:09       0 days 01:26:24   \n20            5 days 05:51:33       0 days 00:00:00   \n21            0 days 00:00:00       5 days 05:52:48   \n22            0 days 01:14:43       5 days 04:38:05   \n23            0 days 01:59:56       5 days 03:52:52   \n24            0 days 02:00:11       5 days 03:52:37   \n25            0 days 03:11:44       5 days 02:41:04   \n26            5 days 04:25:55       0 days 01:26:53   \n27            5 days 05:52:48       0 days 00:00:00   \n28            0 days 00:00:00       7 days 16:17:51   \n29            0 days 00:18:58       7 days 15:58:53   \n...                       ...                   ...   \n376640        0 days 00:00:00       0 days 00:04:33   \n376641        0 days 00:04:33       0 days 00:00:00   \n376642        0 days 00:00:00       0 days 00:03:23   \n376643        0 days 00:03:23       0 days 00:00:00   \n376644        0 days 00:00:00       0 days 00:01:50   \n376645        0 days 00:01:50       0 days 00:00:00   \n376646        0 days 00:00:00       0 days 00:01:25   \n376647        0 days 00:00:06       0 days 00:01:19   \n376648        0 days 00:01:25       0 days 00:00:00   \n376649        0 days 00:00:00       0 days 00:02:53   \n376650        0 days 00:02:53       0 days 00:00:00   \n376651        0 days 00:00:00       0 days 00:00:05   \n376652        0 days 00:00:05       0 days 00:00:00   \n376653        0 days 00:00:00       0 days 00:01:46   \n376654        0 days 00:00:06       0 days 00:01:40   \n376655        0 days 00:01:46       0 days 00:00:00   \n376656        0 days 00:00:00       0 days 00:02:18   \n376657        0 days 00:02:18       0 days 00:00:00   \n376658        0 days 00:00:00       0 days 00:01:48   \n376659        0 days 00:01:48       0 days 00:00:00   \n376660        0 days 00:00:00       0 days 00:01:45   \n376661        0 days 00:01:45       0 days 00:00:00   \n376662        0 days 00:00:00       0 days 00:02:00   \n376663        0 days 00:02:00       0 days 00:00:00   \n376664        0 days 00:00:00       0 days 00:00:06   \n376665        0 days 00:00:06       0 days 00:00:00   \n376666        0 days 00:00:00       0 days 00:00:51   \n376667        0 days 00:00:07       0 days 00:00:44   \n376668        0 days 00:00:50       0 days 00:00:01   \n376669        0 days 00:00:51       0 days 00:00:00   \n\n        elapsed_time_from_event_FECHA  \n0                     0 days 00:00:00  \n1                     0 days 00:21:57  \n2                     0 days 00:11:30  \n3                     6 days 01:34:24  \n4                     0 days 00:04:54  \n5                     0 days 00:00:20  \n6                     0 days 00:50:46  \n7                     0 days 00:43:05  \n8                    73 days 18:59:44  \n9                     0 days 01:02:00  \n10                    7 days 15:29:17  \n11                    0 days 00:00:00  \n12                    0 days 00:00:15  \n13                    0 days 01:11:31  \n14                    0 days 00:02:14  \n15                    0 days 00:01:48  \n16                    0 days 00:03:05  \n17                    0 days 00:24:01  \n18                    0 days 21:54:01  \n19                    4 days 04:48:14  \n20                    0 days 01:26:24  \n21                    0 days 00:00:00  \n22                    0 days 01:14:43  \n23                    0 days 00:45:13  \n24                    0 days 00:00:15  \n25                    0 days 01:11:33  \n26                    5 days 01:14:11  \n27                    0 days 01:26:53  \n28                    0 days 00:00:00  \n29                    0 days 00:18:58  \n...                               ...  \n376640                0 days 00:00:00  \n376641                0 days 00:04:33  \n376642                0 days 00:00:00  \n376643                0 days 00:03:23  \n376644                0 days 00:00:00  \n376645                0 days 00:01:50  \n376646                0 days 00:00:00  \n376647                0 days 00:00:06  \n376648                0 days 00:01:19  \n376649                0 days 00:00:00  \n376650                0 days 00:02:53  \n376651                0 days 00:00:00  \n376652                0 days 00:00:05  \n376653                0 days 00:00:00  \n376654                0 days 00:00:06  \n376655                0 days 00:01:40  \n376656                0 days 00:00:00  \n376657                0 days 00:02:18  \n376658                0 days 00:00:00  \n376659                0 days 00:01:48  \n376660                0 days 00:00:00  \n376661                0 days 00:01:45  \n376662                0 days 00:00:00  \n376663                0 days 00:02:00  \n376664                0 days 00:00:00  \n376665                0 days 00:00:06  \n376666                0 days 00:00:00  \n376667                0 days 00:00:07  \n376668                0 days 00:00:43  \n376669                0 days 00:00:01  \n\n[376670 rows x 457 columns]>"
     },
     "metadata": {},
     "execution_count": 23
    }
   ],
   "source": [
    "dataset.describe"
   ]
  },
  {
   "cell_type": "code",
   "execution_count": 24,
   "metadata": {
    "scrolled": false
   },
   "outputs": [
    {
     "output_type": "execute_result",
     "data": {
      "text/plain": "array(['SOPORTE', 'ID', 'x0_EMAIL', 'x0_FAX', 'x0_INTRANET', 'x0_OTROS',\n       'x0_TELEFONO', 'x0_H. U. VIRGEN DEL ROCIO', 'x0_H. U. REINA SOFIA',\n       'x0_H. U. DE JEREZ', 'x0_H. U. VIRGEN DE LAS NIEVES',\n       'x0_H. G. DE MALAGA', 'x0_H. VALLE DE LOS PEDROCHES',\n       'x0_H. U. VIRGEN MACARENA', 'x0_H. U. NTRA. SRA. DE VALME',\n       'x0_H. U. TORRECARDENAS',\n       'x0_H. CIUDAD DE JAEN(MEDICO QUIRURGICO)',\n       'x0_H. U. PUERTA DEL MAR', 'x0_H. G. BASICO BAZA',\n       'x0_H. U. VIRGEN DE LA VICTORIA', 'x0_H. INFANTA MARGARITA',\n       'x0_H. U. SAN CECILIO', 'x0_H. NTRA. SRA. MERCED',\n       'x0_H. G. BASICO ANTEQUERA', 'x0_H. G. RIOTINTO',\n       'x0_H. PUNTA EUROPA', 'x0_H. JUAN RAMON JIMENEZ',\n       'x0_H. U. PUERTO REAL', 'x0_H. G. BASICO SERRANIA DE RONDA',\n       'x0_H. G. B. SANTA ANA MOTRIL', 'x0_H. C. AXARQUIA',\n       'x0_H. PROVINCIAL DE CORDOBA',\n       'x0_H. MATERNO INFANTIL REGIONAL DE MALAGA', 'x0_H. INMACULADA',\n       'x0_H. LA LINEA', 'x0_H.CIVIL', 'x0_H. U. SAN AGUSTIN',\n       'x0_H. SAN JUAN DE LA CRUZ', 'x0_H. INFANTA ELENA',\n       'x0_DIS. PONIENTE DE ALMERIA',\n       'x0_HOSPITAL NEUROTRAUMATOLOGICO  DE JAEN',\n       'x0_C.P.E. de Almería (Bola Azul)',\n       'x0_H. DE REHABILITACION Y TRAUMATOLOGIA VIRGEN DE LAS NIEVES',\n       'x0_DIS. COSTA DEL SOL', 'x0_DIS. CONDADO-CAMPIÑA',\n       'x0_DIS. ALMERIA', 'x0_H. MATERNO-INFANTIL VIRGEN DE LAS NIEVES',\n       'x0_Edificio de Laboratorios',\n       'x0_EDIFICIO DE SERVICIOS ADMINISTRATIVOS REINA SOFIA',\n       'x0_H. MATERNAL VIRGEN DEL ROCIO',\n       'x0_H. DE REHABILITACION Y TRAUMATOLOGIA VIRGEN DEL ROCIO',\n       'x0_H. EL TOMILLAR', 'x0_PEÑARROYA', 'x0_DIS. MALAGA',\n       'x0_DIS. ALJARAFE', 'x0_DIS. CORDOBA',\n       'x0_H. MATERNO-INFANTIL DE JAEN', 'x0_H. N. SAN CARLOS',\n       'x0_POZOBLANCO', 'x0_DIS. HUELVA-COSTA',\n       'x0_H. MARITIMO TORREMOLINOS', 'x0_HINOJOSA DEL DUQUE',\n       'x0_H. MATERNO-INFANTIL REINA SOFIA', 'x0_PRIEGO DE CORDOBA',\n       'x0_BAZA', 'x0_EDIFICIO DE GESTION DE RECURSOS VIRGEN DEL ROCIO',\n       'x0_MOGUER', 'x0_DIS. CORDOBA NORTE(AREA SANITARIA CORDOBA NORTE)',\n       'x0_FERNAN NUÑEZ', 'x0_ARACENA', 'x0_DOS HERMANAS DOÑA MERCEDES',\n       'x0_EDIFICIO DE GOBIERNO VIRGEN DE LAS NIEVES', 'x0_DIS. JAEN',\n       'x0_VILLANUEVA DE CORDOBA', 'x0_HUERCAL-OVERA',\n       'x0_H. DUQUES DEL INFANTADO', 'x0_ALMONTE', 'x0_EL VISO (22571)',\n       'x0_LA PALMA DEL CONDADO', 'x0_Edificio de Consultas Externas',\n       'x0_H. SAN LAZARO', 'x0_DIS. GUADALQUIVIR',\n       'x0_DIS. SEVILLA NORTE', 'x0_SANLUCAR LA MAYOR',\n       'x0_MINAS DE RIOTINTO',\n       'x0_CENTRO DE DIAGNOSTICO Y TRATAMIENTO VIRGEN DEL ROC',\n       'x0_CENTRO DE DIAGNOSTICO Y TRATAMIENTO DE JAEN',\n       'x0_DIS. GRANADA NORDESTE', 'x0_DIS. METROPOLITANO DE GRANADA',\n       'x0_CARLOS CASTILLA DEL PINO', 'x0_DIS. SEVILLA',\n       'x0_ALCALA LA REAL', 'x0_OLIVAR DE QUINTO', 'x0_UBEDA',\n       'x0_LOS PALACIOS NTRA. SRA. DE LAS NIEVES',\n       'x0_HOSPITAL INFANTIL VIRGEN DEL ROCIO', 'x0_GUADIX',\n       'x0_TALLER LOCAL PRIMARIA 3020', 'x0_BAENA', 'x0_DIS. JAEN NORTE',\n       'x0_LOS MONTECILLOS', 'x0_AEROPUERTO', 'x0_LAS LAGUNAS',\n       'x0_C.P.E. SAN JOSE OBRERO', 'x0_VILLAMARTIN', 'x0_HUELVA-CENTRO',\n       'x0_CASTRO DEL RIO', 'x0_UTRERA-SUR', 'x0_SANTAELLA',\n       'x0_PALMA DEL RIO DR. TRUJILLO DEL RIO', 'x0_H. VAZQUEZ DIAZ',\n       'x0_C.P.E. DR. FLEMING', 'x0_LA RAMBLA',\n       'x0_LEBRIJA NTRA. SRA. DEL CASTILLO',\n       'x0_C.P.E. DOS HERMANAS (SANTA ANA)', 'x0_DURCAL',\n       'x0_MONTEQUINTO', 'x0_LINARES A VIRGEN DE LINAREJOS',\n       'x0_C.P.E. ALCALA DE GUADAIRA',\n       'x0_C.P.E.CARLOS CASTILLA DEL PINO', 'x0_ROQUETAS SUR',\n       'x0_VALVERDE DEL CAMINO', 'x0_ANTEQUERA',\n       'x0_ALCALA DE GUADAIRA A', 'x0_POSADAS', 'x0_C.R.T.S. CADIZ',\n       'x0_C.P.E DE CADIZ', 'x0_LUCENA', 'x0_ARAHAL',\n       'x0_ARCOS DE LA FRONTERA', 'x0_DIS. GRANADA',\n       'x0_MAIRENA DEL ALJARAFE', 'x0_SANTA ROSA',\n       'x0_NTRA. SRA. DE LA OLIVA', 'x0_H. LOS MORALES',\n       'x0_DIS. JAEN NORDESTE',\n       'x0_PUERTO SANTA MARIA-NORTE PINILLO CHICO', 'x0_GIBRALEON',\n       'x0_MORON', 'x0_C.P.E. VIRGEN DE LOS REYES', 'x0_LEVANTE SUR',\n       'x0_EL EJIDO', 'x0_CUEVAS DE ALMANZORA', 'CANCELADA',\n       'RECLAMACION', 'REAPERTURAINC', 'NODO_ALMERIA', 'NODO_CADIZ',\n       'NODO_CORDOBA', 'NODO_GRANADA', 'NODO_HUELVA', 'NODO_JAEN',\n       'NODO_MALAGA', 'NODO_SEVILLA', 'NODO_SSCC',\n       'RESOLUTOR_ADMINISTRADOR DELEGADO', 'RESOLUTOR_AGESCON',\n       'RESOLUTOR_AGFA', 'RESOLUTOR_APD SOPORTE FARMACIA',\n       'RESOLUTOR_AT MEDTRA', 'RESOLUTOR_AYESA HARDWARE',\n       'RESOLUTOR_BELLA; CARREÑO A', 'RESOLUTOR_BELLO; CONESA J',\n       'RESOLUTOR_BERNET; SANCHEZ M', 'RESOLUTOR_CACERES; VIVAR M',\n       'RESOLUTOR_CALA; ROMERO F', 'RESOLUTOR_CARESTREAM PACS',\n       'RESOLUTOR_CEGES COMUNICACIONES',\n       'RESOLUTOR_CEGES GESTION E INGENIERIA DE COMUNICACIONES',\n       'RESOLUTOR_CEGES GESTION SERVICIO',\n       'RESOLUTOR_CEGES GESTION TECNICA Y OPERACIONES',\n       'RESOLUTOR_CEGES OPERACIONES', 'RESOLUTOR_CEGES SISTEMAS',\n       'RESOLUTOR_CEGES SOPORTE FUNCIONAL', 'RESOLUTOR_CEGES SUPERVISION',\n       'RESOLUTOR_CEGES UGADS', 'RESOLUTOR_CEH JUPCAU',\n       'RESOLUTOR_COMPUSOF', 'RESOLUTOR_CONSEJERIA DE SALUD',\n       'RESOLUTOR_CONSEJERIA DE SALUD (ALBEGA)',\n       'RESOLUTOR_CONSEJERIA DE SALUD (RVA)', 'RESOLUTOR_COORD. PROV. GP',\n       'RESOLUTOR_CTI SISTEMAS', 'RESOLUTOR_CTI SISTEMAS EXTERNO',\n       'RESOLUTOR_DELEGACION PROVINCIAL JAEN',\n       'RESOLUTOR_DELEGACION PROVINCIAL SEVILLA',\n       'RESOLUTOR_DOMINION FUNCIONAL', 'RESOLUTOR_ELECNOR',\n       'RESOLUTOR_EPES',\n       'RESOLUTOR_EQUIPO DESARROLLO (APL. ASISTENCIALES)',\n       'RESOLUTOR_EQUIPO DESARROLLO (HERRAMIENTAS)',\n       'RESOLUTOR_ESPADA; SALAZAR J', 'RESOLUTOR_EVERIS DAE',\n       'RESOLUTOR_FERNANDEZ; BOCANEGRA J', 'RESOLUTOR_FUENTES; GALAN M',\n       'RESOLUTOR_FUJITSU COMUNICACIONES', 'RESOLUTOR_FUJITSU SEGURIDAD',\n       'RESOLUTOR_FUJITSU SERVIDORES', 'RESOLUTOR_GONZALEZ; LIMA J',\n       'RESOLUTOR_HP AVERIAS', 'RESOLUTOR_HP DESARROLLO',\n       'RESOLUTOR_HP HIS', 'RESOLUTOR_HP SISTEMAS', 'RESOLUTOR_HP-CPDS',\n       'RESOLUTOR_IECISA AVERIAS', 'RESOLUTOR_IECISA CAU RED.ES',\n       'RESOLUTOR_IECISA COS', 'RESOLUTOR_IECISA FARMA',\n       'RESOLUTOR_IECISA IMPRESORAS', 'RESOLUTOR_INDRA',\n       'RESOLUTOR_INDRA DAE', 'RESOLUTOR_INDRA PDI (RIS CORPORATIVO)',\n       'RESOLUTOR_INDRA SGACP', 'RESOLUTOR_INDRA SOPORTE CAMPO HCDM',\n       'RESOLUTOR_INDRA-ADMINISTRACION-HOSPITALES', 'RESOLUTOR_INFHOS',\n       'RESOLUTOR_INTEGRACION', 'RESOLUTOR_ISOFT AE', 'RESOLUTOR_IZASA',\n       'RESOLUTOR_JOHN TWO', 'RESOLUTOR_LOJO; PEÑA F',\n       'RESOLUTOR_LOPEZ; FERNANDEZ J', 'RESOLUTOR_LOPEZ; GONZALEZ M',\n       'RESOLUTOR_MALDONADO; VAZQUEZ J', 'RESOLUTOR_MARTINEZ; MARTINEZ R',\n       'RESOLUTOR_MEDINA; GARRIDO C', 'RESOLUTOR_MOLINA; VILLA G',\n       'RESOLUTOR_MORENO; GOMEZ B', 'RESOLUTOR_OPENLAB',\n       'RESOLUTOR_ORTEGA; CALERO J',\n       'RESOLUTOR_PERSONAL HOSPITAL EXTERNO',\n       'RESOLUTOR_QUESADA; HEREDIA H',\n       'RESOLUTOR_RESOLUTOR-PUESTO-USUARIO', 'RESOLUTOR_ROCHE',\n       'RESOLUTOR_RODRIGUEZ; ZAMORA M', 'RESOLUTOR_SADIEL Desarrollo',\n       'RESOLUTOR_SANDETEL', 'RESOLUTOR_SANZ; PEREZ L',\n       'RESOLUTOR_SAS CENTRAL LOGISTICA DE COMPRAS Y SERVICIOS',\n       'RESOLUTOR_SAS OFIMATICA-LAN',\n       'RESOLUTOR_SAS OFIMATICA-LAN-EXTERNO',\n       'RESOLUTOR_SAS SERVICIO COORDINACION SISTEMAS INFORMACION',\n       'RESOLUTOR_SAS SERVICIO DE GESTION FINANCIERA',\n       'RESOLUTOR_SAS SERVICIO DE GESTION PLANIFICACION Y ORDENACION SANITARIA',\n       'RESOLUTOR_SAS SERVICIO DE INGRESOS',\n       'RESOLUTOR_SAS SERVICIO PROYECTOS Y DESARROLLO (NOMENCLATOR)',\n       'RESOLUTOR_SAS SUBDIRECCION DE TECNOLOGIAS DE LA INFORMACION',\n       'RESOLUTOR_SAS SUBDIRECCION DE TECNOLOGIAS DE LA INFORMACION (EVOLUTIVOS ASISTENCIALES)',\n       'RESOLUTOR_SAS SUBDIRECCION DE TECNOLOGIAS DE LA INFORMACION (PT CENTRALIZADA)',\n       'RESOLUTOR_SAS SUBDIRECCION DE TECNOLOGIAS DE LA INFORMACION (PT DISTRIBUIDAS)',\n       'RESOLUTOR_SAS SUBDIRECCION DE TECNOLOGIAS DE LA INFORMACION(ACTIVOS DIGITALES)',\n       'RESOLUTOR_SAS SUBDIRECCION DE TECNOLOGIAS DE LA INFORMACION(ADM.ELECTRONICA)',\n       'RESOLUTOR_SAS SUBDIRECCION DE TECNOLOGIAS DE LA INFORMACION(GES.USR)',\n       'RESOLUTOR_SAS UNIDAD DE PREVENCION DE RIESGOS LABORALES',\n       'RESOLUTOR_SAS.SOPORTE DAE', 'RESOLUTOR_SAS.Soporte Local',\n       'RESOLUTOR_SCC LENOVO', 'RESOLUTOR_SEGADO; ABAD M',\n       'RESOLUTOR_SEVECO', 'RESOLUTOR_SIEMENS AE',\n       'RESOLUTOR_SIEMENS HEALTHCARE DIAGNOSTIC',\n       'RESOLUTOR_SISTEMAS-AT-2-DISPATCHER', 'RESOLUTOR_TECNOVA',\n       'RESOLUTOR_TECNOVA DAE', 'RESOLUTOR_TEKNOSERVICE',\n       'RESOLUTOR_TELEFONICA (DESARROLLO)', 'RESOLUTOR_TELVENT AE',\n       'RESOLUTOR_TELVENT PACS LOCAL',\n       'RESOLUTOR_TELVENT RIS CORPORATIVO',\n       'RESOLUTOR_URRACA; SALVATIERRA F', 'RESOLUTOR_UTE; CORDOBA ',\n       'RESOLUTOR_UTE; JAEN ', 'RESOLUTOR_UTEAPS',\n       'RESOLUTOR_UTEAPS.SOPORTE_AVANZADO', 'RESOLUTOR_UTENSD - CSU',\n       'RESOLUTOR_UTENSD - DISPATCHER', 'RESOLUTOR_UTENSD - TECNICO',\n       'TIPOLOGIA_Consulta', 'TIPOLOGIA_Consulta.Comunicaciones',\n       'TIPOLOGIA_Consulta.Datos', 'TIPOLOGIA_Consulta.Funcional',\n       'TIPOLOGIA_Consulta.Hardware', 'TIPOLOGIA_Consulta.Procedimiento',\n       'TIPOLOGIA_Consulta.Sistema', 'TIPOLOGIA_Consulta.Telefonia',\n       'TIPOLOGIA_Consulta.Usuario', 'TIPOLOGIA_Incidencia',\n       'TIPOLOGIA_Incidencia.Comunicaciones',\n       'TIPOLOGIA_Incidencia.Datos', 'TIPOLOGIA_Incidencia.Funcional',\n       'TIPOLOGIA_Incidencia.Hardware', 'TIPOLOGIA_Incidencia.Hospital',\n       'TIPOLOGIA_Incidencia.Infraestructura',\n       'TIPOLOGIA_Incidencia.Integracion',\n       'TIPOLOGIA_Incidencia.Linea_Voz', 'TIPOLOGIA_Incidencia.Migracion',\n       'TIPOLOGIA_Incidencia.Movil', 'TIPOLOGIA_Incidencia.Seguridad',\n       'TIPOLOGIA_Incidencia.Sistema', 'TIPOLOGIA_Incidencia.SopLocal',\n       'TIPOLOGIA_Incidencia.Tarjeta', 'TIPOLOGIA_Incidencia.Telefonia',\n       'TIPOLOGIA_Incidencia.Usuario', 'TIPOLOGIA_Peticion',\n       'TIPOLOGIA_Peticion.Actualizar_CMDB',\n       'TIPOLOGIA_Peticion.Centro_AP',\n       'TIPOLOGIA_Peticion.Comunicaciones', 'TIPOLOGIA_Peticion.Datos',\n       'TIPOLOGIA_Peticion.Documento', 'TIPOLOGIA_Peticion.Funcional',\n       'TIPOLOGIA_Peticion.Hardware', 'TIPOLOGIA_Peticion.Hospital',\n       'TIPOLOGIA_Peticion.Integracion', 'TIPOLOGIA_Peticion.Linea_Voz',\n       'TIPOLOGIA_Peticion.Migracion', 'TIPOLOGIA_Peticion.Movil',\n       'TIPOLOGIA_Peticion.N1', 'TIPOLOGIA_Peticion.Parada_Planificada',\n       'TIPOLOGIA_Peticion.Seguimiento', 'TIPOLOGIA_Peticion.Sistema',\n       'TIPOLOGIA_Peticion.SopLocal', 'TIPOLOGIA_Peticion.Telefonia',\n       'TIPOLOGIA_Peticion.UGADS', 'TIPOLOGIA_Peticion.Usuario',\n       'TIPOLOGIA_Tarea', 'TIPOLOGIA_Tarea.Administracion',\n       'TIPOLOGIA_Tarea.Almacen',\n       'TIPOLOGIA_Tarea.Coordinacion_Gestion_de_Servicio',\n       'TIPOLOGIA_Tarea.Desarrollo', 'TIPOLOGIA_Tarea.Documentacion',\n       'TIPOLOGIA_Tarea.Formacion',\n       'TIPOLOGIA_Tarea.Gestion_de_Agenda_Primaria',\n       'TIPOLOGIA_Tarea.Instalacion', 'TIPOLOGIA_Tarea.Inventario',\n       'TIPOLOGIA_Tarea.Laboratorio',\n       'TIPOLOGIA_Tarea.Mantenimiento_Preventivo',\n       'TIPOLOGIA_Tarea.Monitorizacion', 'TIPOLOGIA_Tarea.Operacion',\n       'TIPOLOGIA_Tarea.Otros', 'TIPOLOGIA_Tarea.Proactividad',\n       'TIPOLOGIA_Tarea.Pruebas', 'TIPOLOGIA_Tarea.Seguimiento',\n       'TIPOLOGIA_Tarea.Taller', 'PRIORIDAD_P1', 'PRIORIDAD_P2',\n       'PRIORIDAD_P3', 'GRUPOAUTOR_0',\n       'GRUPOAUTOR_ADMINISTRADOR SIGLO CORDOBA',\n       'GRUPOAUTOR_ADMINISTRADOR SIGLO SEVILLA', 'GRUPOAUTOR_AGESCON',\n       'GRUPOAUTOR_APD SOPORTE FARMACIA', 'GRUPOAUTOR_CARESTREAM PACS',\n       'GRUPOAUTOR_CEGES COMUNICACIONES',\n       'GRUPOAUTOR_CEGES GESTION E INGENIERIA DE COMUNICACIONES',\n       'GRUPOAUTOR_CEGES GESTION SERVICIO',\n       'GRUPOAUTOR_CEGES MONITORIZACION Y NIVELES DE SERVICIO',\n       'GRUPOAUTOR_CEGES OPERACIONES', 'GRUPOAUTOR_CEGES SISTEMAS',\n       'GRUPOAUTOR_CEGES SOPORTE FUNCIONAL',\n       'GRUPOAUTOR_CEGES SUPERVISION', 'GRUPOAUTOR_CEGES UGADS',\n       'GRUPOAUTOR_CEH JUPCAU', 'GRUPOAUTOR_CONSEJERIA DE SALUD (RVA)',\n       'GRUPOAUTOR_COORD. PROV. GP', 'GRUPOAUTOR_CTI SISTEMAS',\n       'GRUPOAUTOR_EPES',\n       'GRUPOAUTOR_EQUIPO DESARROLLO (APL. ASISTENCIALES)',\n       'GRUPOAUTOR_EQUIPO DESARROLLO (HERRAMIENTAS)',\n       'GRUPOAUTOR_EVERIS DAE', 'GRUPOAUTOR_EVERIS GARANTIA',\n       'GRUPOAUTOR_FUJITSU HARDWARE', 'GRUPOAUTOR_HP AVERIAS',\n       'GRUPOAUTOR_HP DESARROLLO', 'GRUPOAUTOR_HP HIS',\n       'GRUPOAUTOR_HP SISTEMAS', 'GRUPOAUTOR_HP-CPDS',\n       'GRUPOAUTOR_IECISA AVERIAS', 'GRUPOAUTOR_IECISA COS',\n       'GRUPOAUTOR_INDRA', 'GRUPOAUTOR_INDRA DAE',\n       'GRUPOAUTOR_INDRA PDI (RIS CORPORATIVO)', 'GRUPOAUTOR_INDRA SGACP',\n       'GRUPOAUTOR_INDRA SOPORTE CAMPO HCDM',\n       'GRUPOAUTOR_INDRA-ADMINISTRACION-HOSPITALES', 'GRUPOAUTOR_INFHOS',\n       'GRUPOAUTOR_INTEGRACION', 'GRUPOAUTOR_ISOFT AE',\n       'GRUPOAUTOR_IZASA', 'GRUPOAUTOR_PERSONAL C.R.T.S.',\n       'GRUPOAUTOR_PERSONAL CENTROS SALUD',\n       'GRUPOAUTOR_PERSONAL DELEGACION', 'GRUPOAUTOR_PERSONAL DISTRITOS',\n       'GRUPOAUTOR_PERSONAL HOSPITAL',\n       'GRUPOAUTOR_PERSONAL HOSPITAL EXTERNO',\n       'GRUPOAUTOR_PERSONAL SISMA', 'GRUPOAUTOR_PLATAFORMA LOGISTICA',\n       'GRUPOAUTOR_REFERENTES FUNCIONALES HCDM ',\n       'GRUPOAUTOR_RESOLUTOR-PUESTO-USUARIO', 'GRUPOAUTOR_ROCHE',\n       'GRUPOAUTOR_SADIEL Desarrollo', 'GRUPOAUTOR_SALUD RESPONDE',\n       'GRUPOAUTOR_SANDETEL',\n       'GRUPOAUTOR_SAS CENTRAL LOGISTICA DE COMPRAS Y SERVICIOS',\n       'GRUPOAUTOR_SAS COORDINACION GENERAL',\n       'GRUPOAUTOR_SAS OFIMATICA-LAN',\n       'GRUPOAUTOR_SAS PLAN ANDALUZ URGENCIAS Y EMERGENCIAS',\n       'GRUPOAUTOR_SAS SERVICIO CARTERA DE SERVICIOS',\n       'GRUPOAUTOR_SAS SERVICIO COORDINACION SISTEMAS INFORMACION',\n       'GRUPOAUTOR_SAS SERVICIO DE ANALISIS CLINICOS',\n       'GRUPOAUTOR_SAS SERVICIO DE PROYECTOS Y OBRAS',\n       'GRUPOAUTOR_SAS SERVICIO DE SELECCION DE PERSONAL',\n       'GRUPOAUTOR_SAS SERVICIO PROYECTOS Y DESARROLLO (NOMENCLATOR)',\n       'GRUPOAUTOR_SAS SUBDIRECCION DE ORGANIZACION Y COOPERACION ASISTENCIAL',\n       'GRUPOAUTOR_SAS SUBDIRECCION DE TECNOLOGIAS DE LA INFORMACION',\n       'GRUPOAUTOR_SAS SUBDIRECCION DE TECNOLOGIAS DE LA INFORMACION (EVOLUTIVOS ASISTENCIALES)',\n       'GRUPOAUTOR_SAS SUBDIRECCION DE TECNOLOGIAS DE LA INFORMACION (PT DISTRIBUIDAS)',\n       'GRUPOAUTOR_SAS SUBDIRECCION DE TECNOLOGIAS DE LA INFORMACION(ADM.ELECTRONICA)',\n       'GRUPOAUTOR_SAS SUBDIRECCION DE TECNOLOGIAS DE LA INFORMACION(GES.USR)',\n       'GRUPOAUTOR_SAS SUBDIRECCION PROGRAMAS Y DESARROLLO',\n       'GRUPOAUTOR_SAS SUBDIRECCIÓN DE ASUNTOS JURÍDICOS (ASESORÍA JURÍDICA DE SAS - SEVILLA)',\n       'GRUPOAUTOR_SAS UNIDAD DE PREVENCION DE RIESGOS LABORALES',\n       'GRUPOAUTOR_SAS.SOPORTE DAE', 'GRUPOAUTOR_SAS.Salud Mental',\n       'GRUPOAUTOR_SAS.Soporte Local', 'GRUPOAUTOR_SCC LENOVO',\n       'GRUPOAUTOR_SERVICIO DE REGIMEN ECONOMICO DE PERSONAL(Gestion Usuario)',\n       'GRUPOAUTOR_SIEMENS AE', 'GRUPOAUTOR_SIN DETERMINAR',\n       'GRUPOAUTOR_SISTEMAS-AT-2-DISPATCHER', 'GRUPOAUTOR_TECNOVA',\n       'GRUPOAUTOR_TECNOVA DAE', 'GRUPOAUTOR_TELEFONICA (DESARROLLO)',\n       'GRUPOAUTOR_TELVENT AE', 'GRUPOAUTOR_TELVENT RIS CORPORATIVO',\n       'GRUPOAUTOR_USUARIO', 'GRUPOAUTOR_UTEAPS',\n       'GRUPOAUTOR_UTENSD - DISPATCHER', 'GRUPOAUTOR_UTENSD - TECNICO',\n       'ESTADO_Abierta', 'ESTADO_Cancelada', 'ESTADO_Cerrada',\n       'ESTADO_ERROR', 'ESTADO_Fijada', 'ESTADO_Retrasada', 'TYPEORG_CL',\n       'TYPEORG_ESC', 'TYPEORG_FLD', 'TYPEORG_INIT', 'TYPEORG_RE',\n       'TYPEORG_RECLAMAR', 'TYPEORG_RO', 'TYPEORG_ST', 'TYPEORG_TR',\n       'event_order_FECHA', 'time_from_start_FECHA',\n       'remaining_time_FECHA', 'elapsed_time_from_event_FECHA'],\n      dtype=object)"
     },
     "metadata": {},
     "execution_count": 24
    }
   ],
   "source": [
    "dataset.columns.values"
   ]
  },
  {
   "cell_type": "markdown",
   "metadata": {},
   "source": [
    "# Split into train, validation, test"
   ]
  },
  {
   "cell_type": "code",
   "execution_count": 25,
   "metadata": {},
   "outputs": [],
   "source": [
    "# Split into train, validation, test\n",
    "\n",
    "from sklearn.model_selection import GroupShuffleSplit\n",
    "from sklearn.utils import safe_indexing\n",
    "from itertools import chain\n",
    "\n",
    "\n",
    "def group_train_test_split(X, Y, group, test_size=0.2):\n",
    "    train, test = next(GroupShuffleSplit(test_size=test_size, random_state=0).split(X, Y, group))\n",
    "    arrays = [X, Y, group]\n",
    "\n",
    "    return list(chain.from_iterable((safe_indexing(a, train),\n",
    "                                     safe_indexing(a, test)) for a in arrays))"
   ]
  },
  {
   "cell_type": "code",
   "execution_count": 26,
   "metadata": {},
   "outputs": [
    {
     "output_type": "execute_result",
     "data": {
      "text/plain": "((376670, 457), (376670,), (376670,))"
     },
     "metadata": {},
     "execution_count": 26
    }
   ],
   "source": [
    "#cambiar los timedelta atipo long\n",
    "        \n",
    "timedeltas = dataset.select_dtypes('timedelta').columns.values\n",
    "for c in timedeltas:\n",
    "    dataset[c] = dataset[c].dt.seconds\n",
    "\n",
    "incidents_X = dataset\n",
    "\n",
    "# Choose the target attribute\n",
    "incidents_Y = dataset['remaining_time_FECHA']\n",
    "\n",
    "# And the attribute (id) that is used to split the dataset in train, validation and test\n",
    "incidents_group = dataset['ID']\n",
    "\n",
    "incidents_X.shape, incidents_Y.shape, incidents_group.shape"
   ]
  },
  {
   "cell_type": "code",
   "execution_count": 27,
   "metadata": {},
   "outputs": [
    {
     "output_type": "execute_result",
     "data": {
      "text/plain": "  0  2856458       0.0     0.0          0.0       0.0   \n376660        0  2856460       0.0     0.0          0.0       0.0   \n376661        0  2856460       0.0     0.0          0.0       0.0   \n376662        0  2856461       0.0     0.0          0.0       1.0   \n376663        0  2856461       0.0     0.0          0.0       1.0   \n376664        1  2856464       0.0     0.0          1.0       0.0   \n376665        1  2856464       0.0     0.0          1.0       0.0   \n376666        0  2856466       0.0     0.0          1.0       0.0   \n376667        0  2856466       0.0     0.0          1.0       0.0   \n376668        0  2856466       0.0     0.0          1.0       0.0   \n376669        0  2856466       0.0     0.0          1.0       0.0   \n\n        x0_TELEFONO  x0_H. U. VIRGEN DEL ROCIO  x0_H. U. REINA SOFIA  \\\n0               0.0                        0.0                   0.0   \n1               0.0                        0.0                   0.0   \n2               0.0                        0.0                   0.0   \n3               0.0                        0.0                   0.0   \n4               0.0                        0.0                   0.0   \n5               0.0                        0.0                   0.0   \n6               0.0                        0.0                   0.0   \n7               0.0                        0.0                   0.0   \n8               0.0                        0.0                   0.0   \n9               0.0                        0.0                   0.0   \n10              0.0                        0.0                   0.0   \n11              0.0                        0.0                   0.0   \n12              0.0                        0.0                   0.0   \n13              0.0                        0.0                   0.0   \n14              0.0                        0.0                   0.0   \n15              0.0                        0.0                   0.0   \n16              0.0                        0.0                   0.0   \n17              0.0                        0.0                   0.0   \n18              0.0                        0.0                   0.0   \n19              0.0                        0.0                   0.0   \n20              0.0                        0.0                   0.0   \n21              0.0                        0.0                   0.0   \n22              0.0                        0.0                   0.0   \n23              0.0                        0.0                   0.0   \n24              0.0                        0.0                   0.0   \n25              0.0                        0.0                   0.0   \n26              0.0                        0.0                   0.0   \n27              0.0                        0.0                   0.0   \n28              0.0                        0.0                   0.0   \n29              0.0                        0.0                   0.0   \n...             ...                        ...                   ...   \n376640          1.0                        0.0                   0.0   \n376641          1.0                        0.0                   0.0   \n376642          1.0                        1.0                   0.0   \n376643          1.0                        1.0                   0.0   \n376644          0.0                        0.0                   0.0   \n376645          0.0                        0.0                   0.0   \n376646          0.0                        0.0                   0.0   \n376647          0.0                        0.0                   0.0   \n376648          0.0                        0.0                   0.0   \n376649          1.0                        0.0                   0.0   \n376650          1.0                        0.0                   0.0   \n376651          0.0                        0.0                   0.0   \n376652          0.0                        0.0                   0.0   \n376653          0.0                        0.0                   0.0   \n376654          0.0                        0.0                   0.0   \n376655          0.0                        0.0                   0.0   \n376656          1.0                        0.0                   0.0   \n376657          1.0                        0.0                   0.0   \n376658          1.0                        0.0                   0.0   \n376659          1.0                        0.0                   0.0   \n376660          1.0                        0.0                   0.0   \n376661          1.0                        0.0                   0.0   \n376662          0.0                        0.0                   0.0   \n376663          0.0                        0.0                   0.0   \n376664          0.0                        0.0                   0.0   \n376665          0.0                        0.0                   0.0   \n376666          0.0                        0.0                   0.0   \n376667          0.0                        0.0                   0.0   \n376668          0.0                        0.0                   0.0   \n376669          0.0                        0.0                   0.0   \n\n        x0_H. U. DE JEREZ  ...  TYPEORG_INIT  TYPEORG_RE  TYPEORG_RECLAMAR  \\\n0                     0.0  ...             0           0                 0   \n1                     0.0  ...             0           0                 0   \n2                     0.0  ...             0           0                 0   \n3                     0.0  ...             0           0                 0   \n4                     0.0  ...             0           0                 0   \n5                     0.0  ...             0           0                 0   \n6                     0.0  ...             0           0                 0   \n7                     0.0  ...             0           0                 0   \n8                     0.0  ...             0           0                 0   \n9                     0.0  ...             0           1                 0   \n10                    0.0  ...             0           0                 0   \n11                    0.0  ...             0           0                 0   \n12                    0.0  ...             0           0                 0   \n13                    0.0  ...             0           0                 0   \n14                    0.0  ...             0           0                 0   \n15                    0.0  ...             0           0                 0   \n16                    0.0  ...             0           0                 0   \n17                    0.0  ...             0           0                 0   \n18                    0.0  ...             0           0                 0   \n19                    0.0  ...             0           0                 0   \n20                    0.0  ...             0           0                 0   \n21                    0.0  ...             0           0                 0   \n22                    0.0  ...             0           0                 0   \n23                    0.0  ...             0           0                 0   \n24                    0.0  ...             0           0                 0   \n25                    0.0  ...             0           0                 0   \n26                    0.0  ...             0           0                 0   \n27                    0.0  ...             0           0                 0   \n28                    0.0  ...             0           0                 0   \n29                    0.0  ...             0           1                 0   \n...                   ...  ...           ...         ...               ...   \n376640                0.0  ...             1           0                 0   \n376641                0.0  ...             0           0                 0   \n376642                0.0  ...             1           0                 0   \n376643                0.0  ...             0           0                 0   \n376644                0.0  ...             1           0                 0   \n376645                0.0  ...             0           0                 0   \n376646                0.0  ...             1           0                 0   \n376647                0.0  ...             0           0                 0   \n376648                0.0  ...             0           0                 0   \n376649                0.0  ...             1           0                 0   \n376650                0.0  ...             0           0                 0   \n376651                0.0  ...             1           0                 0   \n376652                0.0  ...             0           0                 0   \n376653                0.0  ...             1           0                 0   \n376654                0.0  ...             0           0                 0   \n376655                0.0  ...             0           0                 0   \n376656                0.0  ...             1           0                 0   \n376657                0.0  ...             0           0                 0   \n376658                0.0  ...             1           0                 0   \n376659                0.0  ...             0           0                 0   \n376660                0.0  ...             1           0                 0   \n376661                0.0  ...             0           0                 0   \n376662                0.0  ...             1           0                 0   \n376663                0.0  ...             0           0                 0   \n376664                0.0  ...             1           0                 0   \n376665                0.0  ...             0           0                 0   \n376666                0.0  ...             1           0                 0   \n376667                0.0  ...             0           0                 0   \n376668                0.0  ...             0           0                 0   \n376669                0.0  ...             0           0                 0   \n\n        TYPEORG_RO  TYPEORG_ST  TYPEORG_TR  event_order_FECHA  \\\n0                0           0           1                  0   \n1                0           0           2                  1   \n2                0           0           3                  2   \n3                0           0           4                  3   \n4                0           0           5                  4   \n5                0           0           6                  5   \n6                0           0           7                  6   \n7                0           0           8                  7   \n8                0           0           9                  8   \n9                0           0           0                  9   \n10               0           0           0                 10   \n11               0           0           1                  0   \n12               0           0           2                  1   \n13               0           0           3                  2   \n14               0           0           4                  3   \n15               0           0           5                  4   \n16               0           0           6                  5   \n17               0           0           7                  6   \n18               0           1           0                  7   \n19               0           0           8                  8   \n20               0           0           9                  9   \n21               0           0           1                  0   \n22               0           0           2                  1   \n23               0           1           0                  2   \n24               0           0           3                  3   \n25               0           2           0                  4   \n26               0           0           4                  5   \n27               0           0           5                  6   \n28               0           0           1                  0   \n29               0           0           0                  1   \n...            ...         ...         ...                ...   \n376640           0           0           0                  0   \n376641           0           0           1                  1   \n376642           0           0           0                  0   \n376643           0           0           1                  1   \n376644           0           0           0                  0   \n376645           0           0           1                  1   \n376646           0           0           0                  0   \n376647           0           0           1                  1   \n376648           0           0           2                  2   \n376649           0           0           0                  0   \n376650           0           0           1                  1   \n376651           0           0           0                  0   \n376652           0           0           1                  1   \n376653           0           0           0                  0   \n376654           0           0           1                  1   \n376655           0           0           2                  2   \n376656           0           0           0                  0   \n376657           0           0           1                  1   \n376658           0           0           0                  0   \n376659           0           0           1                  1   \n376660           0           0           0                  0   \n376661           0           0           1                  1   \n376662           0           0           0                  0   \n376663           0           0           1                  1   \n376664           0           0           0                  0   \n376665           0           0           1                  1   \n376666           0           0           0                  0   \n376667           0           0           1                  1   \n376668           0           0           2                  2   \n376669           0           0           0                  3   \n\n        time_from_start_FECHA  remaining_time_FECHA  \\\n0                           0                 55077   \n1                        1317                 53760   \n2                        2007                 53070   \n3                        7671                 47406   \n4                        7965                 47112   \n5                        7985                 47092   \n6                       11031                 44046   \n7                       13616                 41461   \n8                       82000                 59477   \n9                       85720                 55757   \n10                      55077                     0   \n11                          0                 21093   \n12                         15                 21078   \n13                       4306                 16787   \n14                       4440                 16653   \n15                       4548                 16545   \n16                       4733                 16360   \n17                       6174                 14919   \n18                      85015                 22478   \n19                      15909                  5184   \n20                      21093                     0   \n21                          0                 21168   \n22                       4483                 16685   \n23                       7196                 13972   \n24                       7211                 13957   \n25                      11504                  9664   \n26                      15955                  5213   \n27                      21168                     0   \n28                          0                 58671   \n29                       1138                 57533   \n...                       ...                   ...   \n376640                      0                   273   \n376641                    273                     0   \n376642                      0                   203   \n376643                    203                     0   \n376644                      0                   110   \n376645                    110                     0   \n376646                      0                    85   \n376647                      6                    79   \n376648                     85                     0   \n376649                      0                   173   \n376650                    173                     0   \n376651                      0                     5   \n376652                      5                     0   \n376653                      0                   106   \n376654                      6                   100   \n376655                    106                     0   \n376656                      0                   138   \n376657                    138                     0   \n376658                      0                   108   \n376659                    108                     0   \n376660                      0                   105   \n376661                    105                     0   \n376662                      0                   120   \n376663                    120                     0   \n376664                      0                     6   \n376665                      6                     0   \n376666                      0                    51   \n376667                      7                    44   \n376668                     50                     1   \n376669                     51                     0   \n\n        elapsed_time_from_event_FECHA  \n0                                   0  \n1                                1317  \n2                                 690  \n3                                5664  \n4                                 294  \n5                                  20  \n6                                3046  \n7                                2585  \n8                               68384  \n9                                3720  \n10                              55757  \n11                                  0  \n12                                 15  \n13                               4291  \n14                                134  \n15                                108  \n16                                185  \n17                               1441  \n18                              78841  \n19                              17294  \n20                               5184  \n21                                  0  \n22                               4483  \n23                               2713  \n24                                 15  \n25                               4293  \n26                               4451  \n27                               5213  \n28                                  0  \n29                               1138  \n...                               ...  \n376640                              0  \n376641                            273  \n376642                              0  \n376643                            203  \n376644                              0  \n376645                            110  \n376646                              0  \n376647                              6  \n376648                             79  \n376649                              0  \n376650                            173  \n376651                              0  \n376652                              5  \n376653                              0  \n376654                              6  \n376655                            100  \n376656                              0  \n376657                            138  \n376658                              0  \n376659                            108  \n376660                              0  \n376661                            105  \n376662                              0  \n376663                            120  \n376664                              0  \n376665                              6  \n376666                              0  \n376667                              7  \n376668                             43  \n376669                              1  \n\n[376670 rows x 457 columns]",
      "text/html": "<div>\n<style scoped>\n    .dataframe tbody tr th:only-of-type {\n        vertical-align: middle;\n    }\n\n    .dataframe tbody tr th {\n        vertical-align: top;\n    }\n\n    .dataframe thead th {\n        text-align: right;\n    }\n</style>\n<table border=\"1\" class=\"dataframe\">\n  <thead>\n    <tr style=\"text-align: right;\">\n      <th></th>\n      <th>SOPORTE</th>\n      <th>ID</th>\n      <th>x0_EMAIL</th>\n      <th>x0_FAX</th>\n      <th>x0_INTRANET</th>\n      <th>x0_OTROS</th>\n      <th>x0_TELEFONO</th>\n      <th>x0_H. U. VIRGEN DEL ROCIO</th>\n      <th>x0_H. U. REINA SOFIA</th>\n      <th>x0_H. U. DE JEREZ</th>\n      <th>...</th>\n      <th>TYPEORG_INIT</th>\n      <th>TYPEORG_RE</th>\n      <th>TYPEORG_RECLAMAR</th>\n      <th>TYPEORG_RO</th>\n      <th>TYPEORG_ST</th>\n      <th>TYPEORG_TR</th>\n      <th>event_order_FECHA</th>\n      <th>time_from_start_FECHA</th>\n      <th>remaining_time_FECHA</th>\n      <th>elapsed_time_from_event_FECHA</th>\n    </tr>\n  </thead>\n  <tbody>\n    <tr>\n      <th>0</th>\n      <td>0</td>\n      <td>1531052</td>\n      <td>0.0</td>\n      <td>0.0</td>\n      <td>0.0</td>\n      <td>1.0</td>\n      <td>0.0</td>\n      <td>0.0</td>\n      <td>0.0</td>\n      <td>0.0</td>\n      <td>...</td>\n      <td>0</td>\n      <td>0</td>\n      <td>0</td>\n      <td>0</td>\n      <td>0</td>\n      <td>1</td>\n      <td>0</td>\n      <td>0</td>\n      <td>55077</td>\n      <td>0</td>\n    </tr>\n    <tr>\n      <th>1</th>\n      <td>0</td>\n      <td>1531052</td>\n      <td>0.0</td>\n      <td>0.0</td>\n      <td>0.0</td>\n      <td>1.0</td>\n      <td>0.0</td>\n      <td>0.0</td>\n      <td>0.0</td>\n      <td>0.0</td>\n      <td>...</td>\n      <td>0</td>\n      <td>0</td>\n      <td>0</td>\n      <td>0</td>\n      <td>0</td>\n      <td>2</td>\n      <td>1</td>\n      <td>1317</td>\n      <td>53760</td>\n      <td>1317</td>\n    </tr>\n    <tr>\n      <th>2</th>\n      <td>0</td>\n      <td>1531052</td>\n      <td>0.0</td>\n      <td>0.0</td>\n      <td>0.0</td>\n      <td>1.0</td>\n      <td>0.0</td>\n      <td>0.0</td>\n      <td>0.0</td>\n      <td>0.0</td>\n      <td>...</td>\n      <td>0</td>\n      <td>0</td>\n      <td>0</td>\n      <td>0</td>\n      <td>0</td>\n      <td>3</td>\n      <td>2</td>\n      <td>2007</td>\n      <td>53070</td>\n      <td>690</td>\n    </tr>\n    <tr>\n      <th>3</th>\n      <td>0</td>\n      <td>1531052</td>\n      <td>0.0</td>\n      <td>0.0</td>\n      <td>0.0</td>\n      <td>1.0</td>\n      <td>0.0</td>\n      <td>0.0</td>\n      <td>0.0</td>\n      <td>0.0</td>\n      <td>...</td>\n      <td>0</td>\n      <td>0</td>\n      <td>0</td>\n      <td>0</td>\n      <td>0</td>\n      <td>4</td>\n      <td>3</td>\n      <td>7671</td>\n      <td>47406</td>\n      <td>5664</td>\n    </tr>\n    <tr>\n      <th>4</th>\n      <td>0</td>\n      <td>1531052</td>\n      <td>0.0</td>\n      <td>0.0</td>\n      <td>0.0</td>\n      <td>1.0</td>\n      <td>0.0</td>\n      <td>0.0</td>\n      <td>0.0</td>\n      <td>0.0</td>\n      <td>...</td>\n      <td>0</td>\n      <td>0</td>\n      <td>0</td>\n      <td>0</td>\n      <td>0</td>\n      <td>5</td>\n      <td>4</td>\n      <td>7965</td>\n      <td>47112</td>\n      <td>294</td>\n    </tr>\n    <tr>\n      <th>5</th>\n      <td>0</td>\n      <td>1531052</td>\n      <td>0.0</td>\n      <td>0.0</td>\n      <td>0.0</td>\n      <td>1.0</td>\n      <td>0.0</td>\n      <td>0.0</td>\n      <td>0.0</td>\n      <td>0.0</td>\n      <td>...</td>\n      <td>0</td>\n      <td>0</td>\n      <td>0</td>\n      <td>0</td>\n      <td>0</td>\n      <td>6</td>\n      <td>5</td>\n      <td>7985</td>\n      <td>47092</td>\n      <td>20</td>\n    </tr>\n    <tr>\n      <th>6</th>\n      <td>0</td>\n      <td>1531052</td>\n      <td>0.0</td>\n      <td>0.0</td>\n      <td>0.0</td>\n      <td>1.0</td>\n      <td>0.0</td>\n      <td>0.0</td>\n      <td>0.0</td>\n      <td>0.0</td>\n      <td>...</td>\n      <td>0</td>\n      <td>0</td>\n      <td>0</td>\n      <td>0</td>\n      <td>0</td>\n      <td>7</td>\n      <td>6</td>\n      <td>11031</td>\n      <td>44046</td>\n      <td>3046</td>\n    </tr>\n    <tr>\n      <th>7</th>\n      <td>0</td>\n      <td>1531052</td>\n      <td>0.0</td>\n      <td>0.0</td>\n      <td>0.0</td>\n      <td>1.0</td>\n      <td>0.0</td>\n      <td>0.0</td>\n      <td>0.0</td>\n      <td>0.0</td>\n      <td>...</td>\n      <td>0</td>\n      <td>0</td>\n      <td>0</td>\n      <td>0</td>\n      <td>0</td>\n      <td>8</td>\n      <td>7</td>\n      <td>13616</td>\n      <td>41461</td>\n      <td>2585</td>\n    </tr>\n    <tr>\n      <th>8</th>\n      <td>0</td>\n      <td>1531052</td>\n      <td>0.0</td>\n      <td>0.0</td>\n      <td>0.0</td>\n      <td>1.0</td>\n      <td>0.0</td>\n      <td>0.0</td>\n      <td>0.0</td>\n      <td>0.0</td>\n      <td>...</td>\n      <td>0</td>\n      <td>0</td>\n      <td>0</td>\n      <td>0</td>\n      <td>0</td>\n      <td>9</td>\n      <td>8</td>\n      <td>82000</td>\n      <td>59477</td>\n      <td>68384</td>\n    </tr>\n    <tr>\n      <th>9</th>\n      <td>0</td>\n      <td>1531052</td>\n      <td>0.0</td>\n      <td>0.0</td>\n      <td>0.0</td>\n      <td>1.0</td>\n      <td>0.0</td>\n      <td>0.0</td>\n      <td>0.0</td>\n      <td>0.0</td>\n      <td>...</td>\n      <td>0</td>\n      <td>1</td>\n      <td>0</td>\n      <td>0</td>\n      <td>0</td>\n      <td>0</td>\n      <td>9</td>\n      <td>85720</td>\n      <td>55757</td>\n      <td>3720</td>\n    </tr>\n    <tr>\n      <th>10</th>\n      <td>0</td>\n      <td>1531052</td>\n      <td>0.0</td>\n      <td>0.0</td>\n      <td>0.0</td>\n      <td>1.0</td>\n      <td>0.0</td>\n      <td>0.0</td>\n      <td>0.0</td>\n      <td>0.0</td>\n      <td>...</td>\n      <td>0</td>\n      <td>0</td>\n      <td>0</td>\n      <td>0</td>\n      <td>0</td>\n      <td>0</td>\n      <td>10</td>\n      <td>55077</td>\n      <td>0</td>\n      <td>55757</td>\n    </tr>\n    <tr>\n      <th>11</th>\n      <td>0</td>\n      <td>1535450</td>\n      <td>0.0</td>\n      <td>0.0</td>\n      <td>0.0</td>\n      <td>1.0</td>\n      <td>0.0</td>\n      <td>0.0</td>\n      <td>0.0</td>\n      <td>0.0</td>\n      <td>...</td>\n      <td>0</td>\n      <td>0</td>\n      <td>0</td>\n      <td>0</td>\n      <td>0</td>\n      <td>1</td>\n      <td>0</td>\n      <td>0</td>\n      <td>21093</td>\n      <td>0</td>\n    </tr>\n    <tr>\n      <th>12</th>\n      <td>0</td>\n      <td>1535450</td>\n      <td>0.0</td>\n      <td>0.0</td>\n      <td>0.0</td>\n      <td>1.0</td>\n      <td>0.0</td>\n      <td>0.0</td>\n      <td>0.0</td>\n      <td>0.0</td>\n      <td>...</td>\n      <td>0</td>\n      <td>0</td>\n      <td>0</td>\n      <td>0</td>\n      <td>0</td>\n      <td>2</td>\n      <td>1</td>\n      <td>15</td>\n      <td>21078</td>\n      <td>15</td>\n    </tr>\n    <tr>\n      <th>13</th>\n      <td>0</td>\n      <td>1535450</td>\n      <td>0.0</td>\n      <td>0.0</td>\n      <td>0.0</td>\n      <td>1.0</td>\n      <td>0.0</td>\n      <td>0.0</td>\n      <td>0.0</td>\n      <td>0.0</td>\n      <td>...</td>\n      <td>0</td>\n      <td>0</td>\n      <td>0</td>\n      <td>0</td>\n      <td>0</td>\n      <td>3</td>\n      <td>2</td>\n      <td>4306</td>\n      <td>16787</td>\n      <td>4291</td>\n    </tr>\n    <tr>\n      <th>14</th>\n      <td>0</td>\n      <td>1535450</td>\n      <td>0.0</td>\n      <td>0.0</td>\n      <td>0.0</td>\n      <td>1.0</td>\n      <td>0.0</td>\n      <td>0.0</td>\n      <td>0.0</td>\n      <td>0.0</td>\n      <td>...</td>\n      <td>0</td>\n      <td>0</td>\n      <td>0</td>\n      <td>0</td>\n      <td>0</td>\n      <td>4</td>\n      <td>3</td>\n      <td>4440</td>\n      <td>16653</td>\n      <td>134</td>\n    </tr>\n    <tr>\n      <th>15</th>\n      <td>0</td>\n      <td>1535450</td>\n      <td>0.0</td>\n      <td>0.0</td>\n      <td>0.0</td>\n      <td>1.0</td>\n      <td>0.0</td>\n      <td>0.0</td>\n      <td>0.0</td>\n      <td>0.0</td>\n      <td>...</td>\n      <td>0</td>\n      <td>0</td>\n      <td>0</td>\n      <td>0</td>\n      <td>0</td>\n      <td>5</td>\n      <td>4</td>\n      <td>4548</td>\n      <td>16545</td>\n      <td>108</td>\n    </tr>\n    <tr>\n      <th>16</th>\n      <td>0</td>\n      <td>1535450</td>\n      <td>0.0</td>\n      <td>0.0</td>\n      <td>0.0</td>\n      <td>1.0</td>\n      <td>0.0</td>\n      <td>0.0</td>\n      <td>0.0</td>\n      <td>0.0</td>\n      <td>...</td>\n      <td>0</td>\n      <td>0</td>\n      <td>0</td>\n      <td>0</td>\n      <td>0</td>\n      <td>6</td>\n      <td>5</td>\n      <td>4733</td>\n      <td>16360</td>\n      <td>185</td>\n    </tr>\n    <tr>\n      <th>17</th>\n      <td>0</td>\n      <td>1535450</td>\n      <td>0.0</td>\n      <td>0.0</td>\n      <td>0.0</td>\n      <td>1.0</td>\n      <td>0.0</td>\n      <td>0.0</td>\n      <td>0.0</td>\n      <td>0.0</td>\n      <td>...</td>\n      <td>0</td>\n      <td>0</td>\n      <td>0</td>\n      <td>0</td>\n      <td>0</td>\n      <td>7</td>\n      <td>6</td>\n      <td>6174</td>\n      <td>14919</td>\n      <td>1441</td>\n    </tr>\n    <tr>\n      <th>18</th>\n      <td>0</td>\n      <td>1535450</td>\n      <td>0.0</td>\n      <td>0.0</td>\n      <td>0.0</td>\n      <td>1.0</td>\n      <td>0.0</td>\n      <td>0.0</td>\n      <td>0.0</td>\n      <td>0.0</td>\n      <td>...</td>\n      <td>0</td>\n      <td>0</td>\n      <td>0</td>\n      <td>0</td>\n      <td>1</td>\n      <td>0</td>\n      <td>7</td>\n      <td>85015</td>\n      <td>22478</td>\n      <td>78841</td>\n    </tr>\n    <tr>\n      <th>19</th>\n      <td>0</td>\n      <td>1535450</td>\n      <td>0.0</td>\n      <td>0.0</td>\n      <td>0.0</td>\n      <td>1.0</td>\n      <td>0.0</td>\n      <td>0.0</td>\n      <td>0.0</td>\n      <td>0.0</td>\n      <td>...</td>\n      <td>0</td>\n      <td>0</td>\n      <td>0</td>\n      <td>0</td>\n      <td>0</td>\n      <td>8</td>\n      <td>8</td>\n      <td>15909</td>\n      <td>5184</td>\n      <td>17294</td>\n    </tr>\n    <tr>\n      <th>20</th>\n      <td>0</td>\n      <td>1535450</td>\n      <td>0.0</td>\n      <td>0.0</td>\n      <td>0.0</td>\n      <td>1.0</td>\n      <td>0.0</td>\n      <td>0.0</td>\n      <td>0.0</td>\n      <td>0.0</td>\n      <td>...</td>\n      <td>0</td>\n      <td>0</td>\n      <td>0</td>\n      <td>0</td>\n      <td>0</td>\n      <td>9</td>\n      <td>9</td>\n      <td>21093</td>\n      <td>0</td>\n      <td>5184</td>\n    </tr>\n    <tr>\n      <th>21</th>\n      <td>0</td>\n      <td>1535511</td>\n      <td>0.0</td>\n      <td>0.0</td>\n      <td>0.0</td>\n      <td>1.0</td>\n      <td>0.0</td>\n      <td>0.0</td>\n      <td>0.0</td>\n      <td>0.0</td>\n      <td>...</td>\n      <td>0</td>\n      <td>0</td>\n      <td>0</td>\n      <td>0</td>\n      <td>0</td>\n      <td>1</td>\n      <td>0</td>\n      <td>0</td>\n      <td>21168</td>\n      <td>0</td>\n    </tr>\n    <tr>\n      <th>22</th>\n      <td>0</td>\n      <td>1535511</td>\n      <td>0.0</td>\n      <td>0.0</td>\n      <td>0.0</td>\n      <td>1.0</td>\n      <td>0.0</td>\n      <td>0.0</td>\n      <td>0.0</td>\n      <td>0.0</td>\n      <td>...</td>\n      <td>0</td>\n      <td>0</td>\n      <td>0</td>\n      <td>0</td>\n      <td>0</td>\n      <td>2</td>\n      <td>1</td>\n      <td>4483</td>\n      <td>16685</td>\n      <td>4483</td>\n    </tr>\n    <tr>\n      <th>23</th>\n      <td>0</td>\n      <td>1535511</td>\n      <td>0.0</td>\n      <td>0.0</td>\n      <td>0.0</td>\n      <td>1.0</td>\n      <td>0.0</td>\n      <td>0.0</td>\n      <td>0.0</td>\n      <td>0.0</td>\n      <td>...</td>\n      <td>0</td>\n      <td>0</td>\n      <td>0</td>\n      <td>0</td>\n      <td>1</td>\n      <td>0</td>\n      <td>2</td>\n      <td>7196</td>\n      <td>13972</td>\n      <td>2713</td>\n    </tr>\n    <tr>\n      <th>24</th>\n      <td>0</td>\n      <td>1535511</td>\n      <td>0.0</td>\n      <td>0.0</td>\n      <td>0.0</td>\n      <td>1.0</td>\n      <td>0.0</td>\n      <td>0.0</td>\n      <td>0.0</td>\n      <td>0.0</td>\n      <td>...</td>\n      <td>0</td>\n      <td>0</td>\n      <td>0</td>\n      <td>0</td>\n      <td>0</td>\n      <td>3</td>\n      <td>3</td>\n      <td>7211</td>\n      <td>13957</td>\n      <td>15</td>\n    </tr>\n    <tr>\n      <th>25</th>\n      <td>0</td>\n      <td>1535511</td>\n      <td>0.0</td>\n      <td>0.0</td>\n      <td>0.0</td>\n      <td>1.0</td>\n      <td>0.0</td>\n      <td>0.0</td>\n      <td>0.0</td>\n      <td>0.0</td>\n      <td>...</td>\n      <td>0</td>\n      <td>0</td>\n      <td>0</td>\n      <td>0</td>\n      <td>2</td>\n      <td>0</td>\n      <td>4</td>\n      <td>11504</td>\n      <td>9664</td>\n      <td>4293</td>\n    </tr>\n    <tr>\n      <th>26</th>\n      <td>0</td>\n      <td>1535511</td>\n      <td>0.0</td>\n      <td>0.0</td>\n      <td>0.0</td>\n      <td>1.0</td>\n      <td>0.0</td>\n      <td>0.0</td>\n      <td>0.0</td>\n      <td>0.0</td>\n      <td>...</td>\n      <td>0</td>\n      <td>0</td>\n      <td>0</td>\n      <td>0</td>\n      <td>0</td>\n      <td>4</td>\n      <td>5</td>\n      <td>15955</td>\n      <td>5213</td>\n      <td>4451</td>\n    </tr>\n    <tr>\n      <th>27</th>\n      <td>0</td>\n      <td>1535511</td>\n      <td>0.0</td>\n      <td>0.0</td>\n      <td>0.0</td>\n      <td>1.0</td>\n      <td>0.0</td>\n      <td>0.0</td>\n      <td>0.0</td>\n      <td>0.0</td>\n      <td>...</td>\n      <td>0</td>\n      <td>0</td>\n      <td>0</td>\n      <td>0</td>\n      <td>0</td>\n      <td>5</td>\n      <td>6</td>\n      <td>21168</td>\n      <td>0</td>\n      <td>5213</td>\n    </tr>\n    <tr>\n      <th>28</th>\n      <td>0</td>\n      <td>1750594</td>\n      <td>0.0</td>\n      <td>0.0</td>\n      <td>1.0</td>\n      <td>0.0</td>\n      <td>0.0</td>\n      <td>0.0</td>\n      <td>0.0</td>\n      <td>0.0</td>\n      <td>...</td>\n      <td>0</td>\n      <td>0</td>\n      <td>0</td>\n      <td>0</td>\n      <td>0</td>\n      <td>1</td>\n      <td>0</td>\n      <td>0</td>\n      <td>58671</td>\n      <td>0</td>\n    </tr>\n    <tr>\n      <th>29</th>\n      <td>0</td>\n      <td>1750594</td>\n      <td>0.0</td>\n      <td>0.0</td>\n      <td>1.0</td>\n      <td>0.0</td>\n      <td>0.0</td>\n      <td>0.0</td>\n      <td>0.0</td>\n      <td>0.0</td>\n      <td>...</td>\n      <td>0</td>\n      <td>1</td>\n      <td>0</td>\n      <td>0</td>\n      <td>0</td>\n      <td>0</td>\n      <td>1</td>\n      <td>1138</td>\n      <td>57533</td>\n      <td>1138</td>\n    </tr>\n    <tr>\n      <th>...</th>\n      <td>...</td>\n      <td>...</td>\n      <td>...</td>\n      <td>...</td>\n      <td>...</td>\n      <td>...</td>\n      <td>...</td>\n      <td>...</td>\n      <td>...</td>\n      <td>...</td>\n      <td>...</td>\n      <td>...</td>\n      <td>...</td>\n      <td>...</td>\n      <td>...</td>\n      <td>...</td>\n      <td>...</td>\n      <td>...</td>\n      <td>...</td>\n      <td>...</td>\n      <td>...</td>\n    </tr>\n    <tr>\n      <th>376640</th>\n      <td>0</td>\n      <td>2856428</td>\n      <td>0.0</td>\n      <td>0.0</td>\n      <td>0.0</td>\n      <td>0.0</td>\n      <td>1.0</td>\n      <td>0.0</td>\n      <td>0.0</td>\n      <td>0.0</td>\n      <td>...</td>\n      <td>1</td>\n      <td>0</td>\n      <td>0</td>\n      <td>0</td>\n      <td>0</td>\n      <td>0</td>\n      <td>0</td>\n      <td>0</td>\n      <td>273</td>\n      <td>0</td>\n    </tr>\n    <tr>\n      <th>376641</th>\n      <td>0</td>\n      <td>2856428</td>\n      <td>0.0</td>\n      <td>0.0</td>\n      <td>0.0</td>\n      <td>0.0</td>\n      <td>1.0</td>\n      <td>0.0</td>\n      <td>0.0</td>\n      <td>0.0</td>\n      <td>...</td>\n      <td>0</td>\n      <td>0</td>\n      <td>0</td>\n      <td>0</td>\n      <td>0</td>\n      <td>1</td>\n      <td>1</td>\n      <td>273</td>\n      <td>0</td>\n      <td>273</td>\n    </tr>\n    <tr>\n      <th>376642</th>\n      <td>0</td>\n      <td>2856429</td>\n      <td>0.0</td>\n      <td>0.0</td>\n      <td>0.0</td>\n      <td>0.0</td>\n      <td>1.0</td>\n      <td>1.0</td>\n      <td>0.0</td>\n      <td>0.0</td>\n      <td>...</td>\n      <td>1</td>\n      <td>0</td>\n      <td>0</td>\n      <td>0</td>\n      <td>0</td>\n      <td>0</td>\n      <td>0</td>\n      <td>0</td>\n      <td>203</td>\n      <td>0</td>\n    </tr>\n    <tr>\n      <th>376643</th>\n      <td>0</td>\n      <td>2856429</td>\n      <td>0.0</td>\n      <td>0.0</td>\n      <td>0.0</td>\n      <td>0.0</td>\n      <td>1.0</td>\n      <td>1.0</td>\n      <td>0.0</td>\n      <td>0.0</td>\n      <td>...</td>\n      <td>0</td>\n      <td>0</td>\n      <td>0</td>\n      <td>0</td>\n      <td>0</td>\n      <td>1</td>\n      <td>1</td>\n      <td>203</td>\n      <td>0</td>\n      <td>203</td>\n    </tr>\n    <tr>\n      <th>376644</th>\n      <td>0</td>\n      <td>2856437</td>\n      <td>0.0</td>\n      <td>0.0</td>\n      <td>0.0</td>\n      <td>1.0</td>\n      <td>0.0</td>\n      <td>0.0</td>\n      <td>0.0</td>\n      <td>0.0</td>\n      <td>...</td>\n      <td>1</td>\n      <td>0</td>\n      <td>0</td>\n      <td>0</td>\n      <td>0</td>\n      <td>0</td>\n      <td>0</td>\n      <td>0</td>\n      <td>110</td>\n      <td>0</td>\n    </tr>\n    <tr>\n      <th>376645</th>\n      <td>0</td>\n      <td>2856437</td>\n      <td>0.0</td>\n      <td>0.0</td>\n      <td>0.0</td>\n      <td>1.0</td>\n      <td>0.0</td>\n      <td>0.0</td>\n      <td>0.0</td>\n      <td>0.0</td>\n      <td>...</td>\n      <td>0</td>\n      <td>0</td>\n      <td>0</td>\n      <td>0</td>\n      <td>0</td>\n      <td>1</td>\n      <td>1</td>\n      <td>110</td>\n      <td>0</td>\n      <td>110</td>\n    </tr>\n    <tr>\n      <th>376646</th>\n      <td>0</td>\n      <td>2856443</td>\n      <td>0.0</td>\n      <td>0.0</td>\n      <td>1.0</td>\n      <td>0.0</td>\n      <td>0.0</td>\n      <td>0.0</td>\n      <td>0.0</td>\n      <td>0.0</td>\n      <td>...</td>\n      <td>1</td>\n      <td>0</td>\n      <td>0</td>\n      <td>0</td>\n      <td>0</td>\n      <td>0</td>\n      <td>0</td>\n      <td>0</td>\n      <td>85</td>\n      <td>0</td>\n    </tr>\n    <tr>\n      <th>376647</th>\n      <td>0</td>\n      <td>2856443</td>\n      <td>0.0</td>\n      <td>0.0</td>\n      <td>1.0</td>\n      <td>0.0</td>\n      <td>0.0</td>\n      <td>0.0</td>\n      <td>0.0</td>\n      <td>0.0</td>\n      <td>...</td>\n      <td>0</td>\n      <td>0</td>\n      <td>0</td>\n      <td>0</td>\n      <td>0</td>\n      <td>1</td>\n      <td>1</td>\n      <td>6</td>\n      <td>79</td>\n      <td>6</td>\n    </tr>\n    <tr>\n      <th>376648</th>\n      <td>0</td>\n      <td>2856443</td>\n      <td>0.0</td>\n      <td>0.0</td>\n      <td>1.0</td>\n      <td>0.0</td>\n      <td>0.0</td>\n      <td>0.0</td>\n      <td>0.0</td>\n      <td>0.0</td>\n      <td>...</td>\n      <td>0</td>\n      <td>0</td>\n      <td>0</td>\n      <td>0</td>\n      <td>0</td>\n      <td>2</td>\n      <td>2</td>\n      <td>85</td>\n      <td>0</td>\n      <td>79</td>\n    </tr>\n    <tr>\n      <th>376649</th>\n      <td>0</td>\n      <td>2856446</td>\n      <td>0.0</td>\n      <td>0.0</td>\n      <td>0.0</td>\n      <td>0.0</td>\n      <td>1.0</td>\n      <td>0.0</td>\n      <td>0.0</td>\n      <td>0.0</td>\n      <td>...</td>\n      <td>1</td>\n      <td>0</td>\n      <td>0</td>\n      <td>0</td>\n      <td>0</td>\n      <td>0</td>\n      <td>0</td>\n      <td>0</td>\n      <td>173</td>\n      <td>0</td>\n    </tr>\n    <tr>\n      <th>376650</th>\n      <td>0</td>\n      <td>2856446</td>\n      <td>0.0</td>\n      <td>0.0</td>\n      <td>0.0</td>\n      <td>0.0</td>\n      <td>1.0</td>\n      <td>0.0</td>\n      <td>0.0</td>\n      <td>0.0</td>\n      <td>...</td>\n      <td>0</td>\n      <td>0</td>\n      <td>0</td>\n      <td>0</td>\n      <td>0</td>\n      <td>1</td>\n      <td>1</td>\n      <td>173</td>\n      <td>0</td>\n      <td>173</td>\n    </tr>\n    <tr>\n      <th>376651</th>\n      <td>1</td>\n      <td>2856449</td>\n      <td>0.0</td>\n      <td>0.0</td>\n      <td>1.0</td>\n      <td>0.0</td>\n      <td>0.0</td>\n      <td>0.0</td>\n      <td>0.0</td>\n      <td>0.0</td>\n      <td>...</td>\n      <td>1</td>\n      <td>0</td>\n      <td>0</td>\n      <td>0</td>\n      <td>0</td>\n      <td>0</td>\n      <td>0</td>\n      <td>0</td>\n      <td>5</td>\n      <td>0</td>\n    </tr>\n    <tr>\n      <th>376652</th>\n      <td>1</td>\n      <td>2856449</td>\n      <td>0.0</td>\n      <td>0.0</td>\n      <td>1.0</td>\n      <td>0.0</td>\n      <td>0.0</td>\n      <td>0.0</td>\n      <td>0.0</td>\n      <td>0.0</td>\n      <td>...</td>\n      <td>0</td>\n      <td>0</td>\n      <td>0</td>\n      <td>0</td>\n      <td>0</td>\n      <td>1</td>\n      <td>1</td>\n      <td>5</td>\n      <td>0</td>\n      <td>5</td>\n    </tr>\n    <tr>\n      <th>376653</th>\n      <td>0</td>\n      <td>2856450</td>\n      <td>0.0</td>\n      <td>0.0</td>\n      <td>1.0</td>\n      <td>0.0</td>\n      <td>0.0</td>\n      <td>0.0</td>\n      <td>0.0</td>\n      <td>0.0</td>\n      <td>...</td>\n      <td>1</td>\n      <td>0</td>\n      <td>0</td>\n      <td>0</td>\n      <td>0</td>\n      <td>0</td>\n      <td>0</td>\n      <td>0</td>\n      <td>106</td>\n      <td>0</td>\n    </tr>\n    <tr>\n      <th>376654</th>\n      <td>0</td>\n      <td>2856450</td>\n      <td>0.0</td>\n      <td>0.0</td>\n      <td>1.0</td>\n      <td>0.0</td>\n      <td>0.0</td>\n      <td>0.0</td>\n      <td>0.0</td>\n      <td>0.0</td>\n      <td>...</td>\n      <td>0</td>\n      <td>0</td>\n      <td>0</td>\n      <td>0</td>\n      <td>0</td>\n      <td>1</td>\n      <td>1</td>\n      <td>6</td>\n      <td>100</td>\n      <td>6</td>\n    </tr>\n    <tr>\n      <th>376655</th>\n      <td>0</td>\n      <td>2856450</td>\n      <td>0.0</td>\n      <td>0.0</td>\n      <td>1.0</td>\n      <td>0.0</td>\n      <td>0.0</td>\n      <td>0.0</td>\n      <td>0.0</td>\n      <td>0.0</td>\n      <td>...</td>\n      <td>0</td>\n      <td>0</td>\n      <td>0</td>\n      <td>0</td>\n      <td>0</td>\n      <td>2</td>\n      <td>2</td>\n      <td>106</td>\n      <td>0</td>\n      <td>100</td>\n    </tr>\n    <tr>\n      <th>376656</th>\n      <td>0</td>\n      <td>2856451</td>\n      <td>0.0</td>\n      <td>0.0</td>\n      <td>0.0</td>\n      <td>0.0</td>\n      <td>1.0</td>\n      <td>0.0</td>\n      <td>0.0</td>\n      <td>0.0</td>\n      <td>...</td>\n      <td>1</td>\n      <td>0</td>\n      <td>0</td>\n      <td>0</td>\n      <td>0</td>\n      <td>0</td>\n      <td>0</td>\n      <td>0</td>\n      <td>138</td>\n      <td>0</td>\n    </tr>\n    <tr>\n      <th>376657</th>\n      <td>0</td>\n      <td>2856451</td>\n      <td>0.0</td>\n      <td>0.0</td>\n      <td>0.0</td>\n      <td>0.0</td>\n      <td>1.0</td>\n      <td>0.0</td>\n      <td>0.0</td>\n      <td>0.0</td>\n      <td>...</td>\n      <td>0</td>\n      <td>0</td>\n      <td>0</td>\n      <td>0</td>\n      <td>0</td>\n      <td>1</td>\n      <td>1</td>\n      <td>138</td>\n      <td>0</td>\n      <td>138</td>\n    </tr>\n    <tr>\n      <th>376658</th>\n      <td>0</td>\n      <td>2856458</td>\n      <td>0.0</td>\n      <td>0.0</td>\n      <td>0.0</td>\n      <td>0.0</td>\n      <td>1.0</td>\n      <td>0.0</td>\n      <td>0.0</td>\n      <td>0.0</td>\n      <td>...</td>\n      <td>1</td>\n      <td>0</td>\n      <td>0</td>\n      <td>0</td>\n      <td>0</td>\n      <td>0</td>\n      <td>0</td>\n      <td>0</td>\n      <td>108</td>\n      <td>0</td>\n    </tr>\n    <tr>\n      <th>376659</th>\n      <td>0</td>\n      <td>2856458</td>\n      <td>0.0</td>\n      <td>0.0</td>\n      <td>0.0</td>\n      <td>0.0</td>\n      <td>1.0</td>\n      <td>0.0</td>\n      <td>0.0</td>\n      <td>0.0</td>\n      <td>...</td>\n      <td>0</td>\n      <td>0</td>\n      <td>0</td>\n      <td>0</td>\n      <td>0</td>\n      <td>1</td>\n      <td>1</td>\n      <td>108</td>\n      <td>0</td>\n      <td>108</td>\n    </tr>\n    <tr>\n      <th>376660</th>\n      <td>0</td>\n      <td>2856460</td>\n      <td>0.0</td>\n      <td>0.0</td>\n      <td>0.0</td>\n      <td>0.0</td>\n      <td>1.0</td>\n      <td>0.0</td>\n      <td>0.0</td>\n      <td>0.0</td>\n      <td>...</td>\n      <td>1</td>\n      <td>0</td>\n      <td>0</td>\n      <td>0</td>\n      <td>0</td>\n      <td>0</td>\n      <td>0</td>\n      <td>0</td>\n      <td>105</td>\n      <td>0</td>\n    </tr>\n    <tr>\n      <th>376661</th>\n      <td>0</td>\n      <td>2856460</td>\n      <td>0.0</td>\n      <td>0.0</td>\n      <td>0.0</td>\n      <td>0.0</td>\n      <td>1.0</td>\n      <td>0.0</td>\n      <td>0.0</td>\n      <td>0.0</td>\n      <td>...</td>\n      <td>0</td>\n      <td>0</td>\n      <td>0</td>\n      <td>0</td>\n      <td>0</td>\n      <td>1</td>\n      <td>1</td>\n      <td>105</td>\n      <td>0</td>\n      <td>105</td>\n    </tr>\n    <tr>\n      <th>376662</th>\n      <td>0</td>\n      <td>2856461</td>\n      <td>0.0</td>\n      <td>0.0</td>\n      <td>0.0</td>\n      <td>1.0</td>\n      <td>0.0</td>\n      <td>0.0</td>\n      <td>0.0</td>\n      <td>0.0</td>\n      <td>...</td>\n      <td>1</td>\n      <td>0</td>\n      <td>0</td>\n      <td>0</td>\n      <td>0</td>\n      <td>0</td>\n      <td>0</td>\n      <td>0</td>\n      <td>120</td>\n      <td>0</td>\n    </tr>\n    <tr>\n      <th>376663</th>\n      <td>0</td>\n      <td>2856461</td>\n      <td>0.0</td>\n      <td>0.0</td>\n      <td>0.0</td>\n      <td>1.0</td>\n      <td>0.0</td>\n      <td>0.0</td>\n      <td>0.0</td>\n      <td>0.0</td>\n      <td>...</td>\n      <td>0</td>\n      <td>0</td>\n      <td>0</td>\n      <td>0</td>\n      <td>0</td>\n      <td>1</td>\n      <td>1</td>\n      <td>120</td>\n      <td>0</td>\n      <td>120</td>\n    </tr>\n    <tr>\n      <th>376664</th>\n      <td>1</td>\n      <td>2856464</td>\n      <td>0.0</td>\n      <td>0.0</td>\n      <td>1.0</td>\n      <td>0.0</td>\n      <td>0.0</td>\n      <td>0.0</td>\n      <td>0.0</td>\n      <td>0.0</td>\n      <td>...</td>\n      <td>1</td>\n      <td>0</td>\n      <td>0</td>\n      <td>0</td>\n      <td>0</td>\n      <td>0</td>\n      <td>0</td>\n      <td>0</td>\n      <td>6</td>\n      <td>0</td>\n    </tr>\n    <tr>\n      <th>376665</th>\n      <td>1</td>\n      <td>2856464</td>\n      <td>0.0</td>\n      <td>0.0</td>\n      <td>1.0</td>\n      <td>0.0</td>\n      <td>0.0</td>\n      <td>0.0</td>\n      <td>0.0</td>\n      <td>0.0</td>\n      <td>...</td>\n      <td>0</td>\n      <td>0</td>\n      <td>0</td>\n      <td>0</td>\n      <td>0</td>\n      <td>1</td>\n      <td>1</td>\n      <td>6</td>\n      <td>0</td>\n      <td>6</td>\n    </tr>\n    <tr>\n      <th>376666</th>\n      <td>0</td>\n      <td>2856466</td>\n      <td>0.0</td>\n      <td>0.0</td>\n      <td>1.0</td>\n      <td>0.0</td>\n      <td>0.0</td>\n      <td>0.0</td>\n      <td>0.0</td>\n      <td>0.0</td>\n      <td>...</td>\n      <td>1</td>\n      <td>0</td>\n      <td>0</td>\n      <td>0</td>\n      <td>0</td>\n      <td>0</td>\n      <td>0</td>\n      <td>0</td>\n      <td>51</td>\n      <td>0</td>\n    </tr>\n    <tr>\n      <th>376667</th>\n      <td>0</td>\n      <td>2856466</td>\n      <td>0.0</td>\n      <td>0.0</td>\n      <td>1.0</td>\n      <td>0.0</td>\n      <td>0.0</td>\n      <td>0.0</td>\n      <td>0.0</td>\n      <td>0.0</td>\n      <td>...</td>\n      <td>0</td>\n      <td>0</td>\n      <td>0</td>\n      <td>0</td>\n      <td>0</td>\n      <td>1</td>\n      <td>1</td>\n      <td>7</td>\n      <td>44</td>\n      <td>7</td>\n    </tr>\n    <tr>\n      <th>376668</th>\n      <td>0</td>\n      <td>2856466</td>\n      <td>0.0</td>\n      <td>0.0</td>\n      <td>1.0</td>\n      <td>0.0</td>\n      <td>0.0</td>\n      <td>0.0</td>\n      <td>0.0</td>\n      <td>0.0</td>\n      <td>...</td>\n      <td>0</td>\n      <td>0</td>\n      <td>0</td>\n      <td>0</td>\n      <td>0</td>\n      <td>2</td>\n      <td>2</td>\n      <td>50</td>\n      <td>1</td>\n      <td>43</td>\n    </tr>\n    <tr>\n      <th>376669</th>\n      <td>0</td>\n      <td>2856466</td>\n      <td>0.0</td>\n      <td>0.0</td>\n      <td>1.0</td>\n      <td>0.0</td>\n      <td>0.0</td>\n      <td>0.0</td>\n      <td>0.0</td>\n      <td>0.0</td>\n      <td>...</td>\n      <td>0</td>\n      <td>0</td>\n      <td>0</td>\n      <td>0</td>\n      <td>0</td>\n      <td>0</td>\n      <td>3</td>\n      <td>51</td>\n      <td>0</td>\n      <td>1</td>\n    </tr>\n  </tbody>\n</table>\n<p>376670 rows × 457 columns</p>\n</div>"
     },
     "metadata": {},
     "execution_count": 27
    }
   ],
   "source": [
    "incidents_X"
   ]
  },
  {
   "cell_type": "code",
   "execution_count": 28,
   "metadata": {},
   "outputs": [
    {
     "output_type": "execute_result",
     "data": {
      "text/plain": "((188259, 457), (188259,), (75365, 457), (75365,), (113046, 457), (113046,))"
     },
     "metadata": {},
     "execution_count": 28
    }
   ],
   "source": [
    "# Split into train, validation, test\n",
    "X_train, X_test, Y_train, Y_test, group_train, group_test = group_train_test_split(incidents_X, incidents_Y, incidents_group, test_size = 0.5)\n",
    "X_val, X_test, Y_val, Y_test, group_val, group_test = group_train_test_split(X_test, Y_test, group_test, test_size=0.4)\n",
    "\n",
    "X_train.shape, Y_train.shape, X_test.shape, Y_test.shape, X_val.shape, Y_val.shape"
   ]
  },
  {
   "cell_type": "code",
   "execution_count": 29,
   "metadata": {},
   "outputs": [],
   "source": [
    "# Quick check that case ids are not in two slots\n",
    "#np.asarray([item in group_test.unique() for item in group_train.unique()]).any()"
   ]
  },
  {
   "cell_type": "markdown",
   "metadata": {},
   "source": [
    "# Trains classifier and evaluates them"
   ]
  },
  {
   "cell_type": "code",
   "execution_count": 30,
   "metadata": {},
   "outputs": [
    {
     "output_type": "execute_result",
     "data": {
      "text/plain": "count    188259.000000\nmean      34414.810458\nstd       23303.179995\nmin           0.000000\n25%        6431.500000\n50%       41143.000000\n75%       52154.000000\nmax       86398.000000\nName: remaining_time_FECHA, dtype: float64"
     },
     "metadata": {},
     "execution_count": 30
    }
   ],
   "source": [
    "Y_train.describe()"
   ]
  },
  {
   "cell_type": "code",
   "execution_count": 31,
   "metadata": {
    "scrolled": true
   },
   "outputs": [],
   "source": [
    "from sklearn.ensemble import RandomForestRegressor\n",
    "from sklearn.metrics import mean_absolute_error, mean_squared_error\n",
    "\n",
    "def train_and_evaluate(X_train, X_val, X_test, Y_train, Y_val, Y_test, cols_to_remove = []):\n",
    "    \n",
    "    \n",
    "    # Remove some attributes for training\n",
    "    train_onehot = X_train.drop(cols_to_remove, axis=1)\n",
    "    val_onehot = X_val.drop(cols_to_remove, axis=1)\n",
    "    test_onehot = X_test.drop(cols_to_remove, axis=1)\n",
    "\n",
    "    # Now, we are going to build estimators for the remaining time\n",
    "    regressor = RandomForestRegressor(random_state=0,n_jobs=-1)\n",
    "    regressor.fit(train_onehot, Y_train)\n",
    "\n",
    "    # Predict\n",
    "    val_predict = regressor.predict(val_onehot)\n",
    "    test_predict = regressor.predict(test_onehot)\n",
    "    \n",
    "    # And evaluate the model\n",
    "    val_mae = mean_absolute_error(Y_val, val_predict)\n",
    "    val_mse = mean_squared_error(Y_val, val_predict)\n",
    "    test_mae = mean_absolute_error(Y_test, test_predict)\n",
    "    test_mse = mean_squared_error(Y_test, test_predict)\n",
    "\n",
    "    print(\"val: \", val_mae, val_mse )\n",
    "    print(\"test: \", test_mae, test_mse)\n",
    "    \n",
    "    return val_mae, val_mse, test_mae, test_mse"
   ]
  },
  {
   "cell_type": "code",
   "execution_count": 32,
   "metadata": {},
   "outputs": [
    {
     "output_type": "stream",
     "name": "stdout",
     "text": "Start of the experimentation\nval:  0.43991384038322046 1.1790827627691183\ntest:  0.4438943806803437 1.2455960989849109\n"
    },
    {
     "output_type": "execute_result",
     "data": {
      "text/plain": "(0.43991384038322046,\n 1.1790827627691183,\n 0.4438943806803437,\n 1.2455960989849109)"
     },
     "metadata": {},
     "execution_count": 32
    }
   ],
   "source": [
    "#columnas a borrar\n",
    "ctr = ['ID']\n",
    "print(\"Start of the experimentation\")\n",
    "train_and_evaluate(X_train, X_val, X_test, Y_train, Y_val, Y_test, cols_to_remove = ctr)"
   ]
  },
  {
   "cell_type": "code",
   "execution_count": 33,
   "metadata": {},
   "outputs": [],
   "source": [
    "#All (ALL): all attributes of the original datasets are considered.\n",
    "#None (NONE): just the basic attributes of the log, such as name of activity and timestamp are considered.\n",
    "#Automatic (AUTO): attributes detected as relevant for a decision tree algorithm are selected for the experimentation.\n",
    "#Random (RND): a set of randomly selected attributes are taken into account.\n",
    "#Context (CTXT): detected context attributes by the method are included.\n",
    "#Without context (WCTXT): detected context attributes are excluded from the dataset."
   ]
  },
  {
   "cell_type": "markdown",
   "metadata": {},
   "source": [
    "# End classifier"
   ]
  }
 ],
 "metadata": {
  "kernelspec": {
   "display_name": "Python 3",
   "language": "python",
   "name": "python3"
  },
  "language_info": {
   "codemirror_mode": {
    "name": "ipython",
    "version": 3
   },
   "file_extension": ".py",
   "mimetype": "text/x-python",
   "name": "python",
   "nbconvert_exporter": "python",
   "pygments_lexer": "ipython3",
   "version": "3.7.3-final"
  }
 },
 "nbformat": 4,
 "nbformat_minor": 2
}